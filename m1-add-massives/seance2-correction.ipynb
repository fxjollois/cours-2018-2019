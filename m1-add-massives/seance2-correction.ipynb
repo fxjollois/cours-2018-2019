{
 "cells": [
  {
   "cell_type": "markdown",
   "metadata": {
    "run_control": {
     "frozen": false,
     "read_only": false
    }
   },
   "source": [
    "# Statistiques sous `Python` - *correction*\n"
   ]
  },
  {
   "cell_type": "markdown",
   "metadata": {
    "run_control": {
     "frozen": false,
     "read_only": false
    }
   },
   "source": [
    "Ce document n'est pas une correction en soit mais un descriptif des opérations à réaliser pour répondre à la demande. N'hésitez pas à me contacter si vous n'arrivez pas à appliquer les codes vus dans le cours, sur ce jeu de données.\n",
    "\n",
    "## Exercices\n",
    "\n",
    "A partir du fichier [`diamonds.csv`](diamonds.csv) (voir l'aide [ici](http://docs.ggplot2.org/0.9.3.1/diamonds.html)), analyser les données suivant le déroulement classique \n",
    "\n",
    "1. Description de chaque variable\n",
    "2. Recherche des liens entre le prix (`price`) et les autres variables\n"
   ]
  },
  {
   "cell_type": "markdown",
   "metadata": {
    "run_control": {
     "frozen": false,
     "read_only": false
    }
   },
   "source": [
    "En premier, importation des différents modules et configuration pour les graphiques."
   ]
  },
  {
   "cell_type": "code",
   "execution_count": 1,
   "metadata": {
    "run_control": {
     "frozen": false,
     "read_only": false
    }
   },
   "outputs": [],
   "source": [
    "import pandas\n",
    "import matplotlib\n",
    "import scipy.stats\n",
    "import numpy\n",
    "\n",
    "%matplotlib inline"
   ]
  },
  {
   "cell_type": "markdown",
   "metadata": {
    "run_control": {
     "frozen": false,
     "read_only": false
    }
   },
   "source": [
    "Ensuite, importation des données"
   ]
  },
  {
   "cell_type": "code",
   "execution_count": 2,
   "metadata": {
    "run_control": {
     "frozen": false,
     "read_only": false
    }
   },
   "outputs": [],
   "source": [
    "diamonds = pandas.read_csv(\"diamonds.csv\",\n",
    "                          header=0, sep=\",\")"
   ]
  },
  {
   "cell_type": "code",
   "execution_count": 3,
   "metadata": {
    "run_control": {
     "frozen": false,
     "read_only": false
    },
    "scrolled": false
   },
   "outputs": [
    {
     "data": {
      "text/html": [
       "<div>\n",
       "<style scoped>\n",
       "    .dataframe tbody tr th:only-of-type {\n",
       "        vertical-align: middle;\n",
       "    }\n",
       "\n",
       "    .dataframe tbody tr th {\n",
       "        vertical-align: top;\n",
       "    }\n",
       "\n",
       "    .dataframe thead th {\n",
       "        text-align: right;\n",
       "    }\n",
       "</style>\n",
       "<table border=\"1\" class=\"dataframe\">\n",
       "  <thead>\n",
       "    <tr style=\"text-align: right;\">\n",
       "      <th></th>\n",
       "      <th>carat</th>\n",
       "      <th>cut</th>\n",
       "      <th>color</th>\n",
       "      <th>clarity</th>\n",
       "      <th>depth</th>\n",
       "      <th>table</th>\n",
       "      <th>price</th>\n",
       "      <th>x</th>\n",
       "      <th>y</th>\n",
       "      <th>z</th>\n",
       "    </tr>\n",
       "  </thead>\n",
       "  <tbody>\n",
       "    <tr>\n",
       "      <th>0</th>\n",
       "      <td>0.23</td>\n",
       "      <td>Ideal</td>\n",
       "      <td>E</td>\n",
       "      <td>SI2</td>\n",
       "      <td>61.5</td>\n",
       "      <td>55.0</td>\n",
       "      <td>326</td>\n",
       "      <td>3.95</td>\n",
       "      <td>3.98</td>\n",
       "      <td>2.43</td>\n",
       "    </tr>\n",
       "    <tr>\n",
       "      <th>1</th>\n",
       "      <td>0.21</td>\n",
       "      <td>Premium</td>\n",
       "      <td>E</td>\n",
       "      <td>SI1</td>\n",
       "      <td>59.8</td>\n",
       "      <td>61.0</td>\n",
       "      <td>326</td>\n",
       "      <td>3.89</td>\n",
       "      <td>3.84</td>\n",
       "      <td>2.31</td>\n",
       "    </tr>\n",
       "    <tr>\n",
       "      <th>2</th>\n",
       "      <td>0.23</td>\n",
       "      <td>Good</td>\n",
       "      <td>E</td>\n",
       "      <td>VS1</td>\n",
       "      <td>56.9</td>\n",
       "      <td>65.0</td>\n",
       "      <td>327</td>\n",
       "      <td>4.05</td>\n",
       "      <td>4.07</td>\n",
       "      <td>2.31</td>\n",
       "    </tr>\n",
       "    <tr>\n",
       "      <th>3</th>\n",
       "      <td>0.29</td>\n",
       "      <td>Premium</td>\n",
       "      <td>I</td>\n",
       "      <td>VS2</td>\n",
       "      <td>62.4</td>\n",
       "      <td>58.0</td>\n",
       "      <td>334</td>\n",
       "      <td>4.20</td>\n",
       "      <td>4.23</td>\n",
       "      <td>2.63</td>\n",
       "    </tr>\n",
       "    <tr>\n",
       "      <th>4</th>\n",
       "      <td>0.31</td>\n",
       "      <td>Good</td>\n",
       "      <td>J</td>\n",
       "      <td>SI2</td>\n",
       "      <td>63.3</td>\n",
       "      <td>58.0</td>\n",
       "      <td>335</td>\n",
       "      <td>4.34</td>\n",
       "      <td>4.35</td>\n",
       "      <td>2.75</td>\n",
       "    </tr>\n",
       "    <tr>\n",
       "      <th>5</th>\n",
       "      <td>0.24</td>\n",
       "      <td>Very Good</td>\n",
       "      <td>J</td>\n",
       "      <td>VVS2</td>\n",
       "      <td>62.8</td>\n",
       "      <td>57.0</td>\n",
       "      <td>336</td>\n",
       "      <td>3.94</td>\n",
       "      <td>3.96</td>\n",
       "      <td>2.48</td>\n",
       "    </tr>\n",
       "    <tr>\n",
       "      <th>6</th>\n",
       "      <td>0.24</td>\n",
       "      <td>Very Good</td>\n",
       "      <td>I</td>\n",
       "      <td>VVS1</td>\n",
       "      <td>62.3</td>\n",
       "      <td>57.0</td>\n",
       "      <td>336</td>\n",
       "      <td>3.95</td>\n",
       "      <td>3.98</td>\n",
       "      <td>2.47</td>\n",
       "    </tr>\n",
       "    <tr>\n",
       "      <th>7</th>\n",
       "      <td>0.26</td>\n",
       "      <td>Very Good</td>\n",
       "      <td>H</td>\n",
       "      <td>SI1</td>\n",
       "      <td>61.9</td>\n",
       "      <td>55.0</td>\n",
       "      <td>337</td>\n",
       "      <td>4.07</td>\n",
       "      <td>4.11</td>\n",
       "      <td>2.53</td>\n",
       "    </tr>\n",
       "    <tr>\n",
       "      <th>8</th>\n",
       "      <td>0.22</td>\n",
       "      <td>Fair</td>\n",
       "      <td>E</td>\n",
       "      <td>VS2</td>\n",
       "      <td>65.1</td>\n",
       "      <td>61.0</td>\n",
       "      <td>337</td>\n",
       "      <td>3.87</td>\n",
       "      <td>3.78</td>\n",
       "      <td>2.49</td>\n",
       "    </tr>\n",
       "    <tr>\n",
       "      <th>9</th>\n",
       "      <td>0.23</td>\n",
       "      <td>Very Good</td>\n",
       "      <td>H</td>\n",
       "      <td>VS1</td>\n",
       "      <td>59.4</td>\n",
       "      <td>61.0</td>\n",
       "      <td>338</td>\n",
       "      <td>4.00</td>\n",
       "      <td>4.05</td>\n",
       "      <td>2.39</td>\n",
       "    </tr>\n",
       "  </tbody>\n",
       "</table>\n",
       "</div>"
      ],
      "text/plain": [
       "   carat        cut color clarity  depth  table  price     x     y     z\n",
       "0   0.23      Ideal     E     SI2   61.5   55.0    326  3.95  3.98  2.43\n",
       "1   0.21    Premium     E     SI1   59.8   61.0    326  3.89  3.84  2.31\n",
       "2   0.23       Good     E     VS1   56.9   65.0    327  4.05  4.07  2.31\n",
       "3   0.29    Premium     I     VS2   62.4   58.0    334  4.20  4.23  2.63\n",
       "4   0.31       Good     J     SI2   63.3   58.0    335  4.34  4.35  2.75\n",
       "5   0.24  Very Good     J    VVS2   62.8   57.0    336  3.94  3.96  2.48\n",
       "6   0.24  Very Good     I    VVS1   62.3   57.0    336  3.95  3.98  2.47\n",
       "7   0.26  Very Good     H     SI1   61.9   55.0    337  4.07  4.11  2.53\n",
       "8   0.22       Fair     E     VS2   65.1   61.0    337  3.87  3.78  2.49\n",
       "9   0.23  Very Good     H     VS1   59.4   61.0    338  4.00  4.05  2.39"
      ]
     },
     "execution_count": 3,
     "metadata": {},
     "output_type": "execute_result"
    }
   ],
   "source": [
    "diamonds.head(10)"
   ]
  },
  {
   "cell_type": "markdown",
   "metadata": {
    "run_control": {
     "frozen": false,
     "read_only": false
    }
   },
   "source": [
    "## Description des variables\n",
    "\n",
    "Dans ce cadre, il faut décrire chaque variable séparement. Voici la répartition des variables et les étapes à réaliser pour chaque type de variable :\n",
    "\n",
    "- *quantitative* : `carat`, `depth`, `table`, `price`, `x`, `y`, `z`\n",
    "    - Moyenne, écart-type, médiane, minimum et maximum\n",
    "    - Histogramme pour avoir un aperçu de la distribution, et éventuellement comparer à une gaussienne\n",
    "        - Test de normalité à ajouter\n",
    "    - Boîte à moustaches pour estimer la présence ou non d'outliers\n",
    "- *qualitative* : `cut`, `color`, `clarity`\n",
    "    - Table d'effectifs et de pourcentages\n",
    "    - Diagramme en barres (diagramme circulaire à éviter ici, car trop de modalités)\n",
    "\n",
    "Nous allons faire une fonction permettant la description d'une variable (en fonction de son type bien évidemment), et l'utiliser pour chacune des colonnes du jeu de données.\n",
    "\n",
    "### Quanti\n"
   ]
  },
  {
   "cell_type": "code",
   "execution_count": 4,
   "metadata": {},
   "outputs": [
    {
     "name": "stdout",
     "output_type": "stream",
     "text": [
      "Variable   : carat \n",
      "\n",
      "Moyenne    :  0.8\n",
      "Ecart-type :  0.47\n",
      "Médiane    :  0.7\n",
      "Minimum    :  0.2\n",
      "Maximum    :  5.01\n"
     ]
    },
    {
     "data": {
      "image/png": "[encoded data removed]",
      "text/plain": [
       "<matplotlib.figure.Figure at 0x7fc4e3283d68>"
      ]
     },
     "metadata": {},
     "output_type": "display_data"
    }
   ],
   "source": [
    "def descQuanti(var):\n",
    "    # description d'une variable quantitative du jeu de données diamonds\n",
    "    # récupération des valeurs\n",
    "    x = diamonds[var]\n",
    "    # affichage des différentes informations demandées\n",
    "    print(\"Variable   :\", var, \"\\n\")\n",
    "    print(\"Moyenne    : \", numpy.mean(x).round(2))\n",
    "    print(\"Ecart-type : \", numpy.std(x).round(2))\n",
    "    print(\"Médiane    : \", numpy.median(x).round(2))\n",
    "    print(\"Minimum    : \", numpy.min(x).round(2))\n",
    "    print(\"Maximum    : \", numpy.max(x).round(2))\n",
    "    # création d'un graphique avec 2 zones\n",
    "    fig, (ax1, ax2) = matplotlib.pyplot.subplots(nrows=1, ncols=2, figsize=(8, 4))\n",
    "    # création de l'histogramme avec la densité\n",
    "    h = x.plot(kind = \"hist\", normed = True, color = \"lightgrey\", ax = ax1)\n",
    "    x.plot(kind = \"kde\", ax = ax1)\n",
    "    # on y ajoute la p-value du test de normalité\n",
    "    t = scipy.stats.normaltest(x)\n",
    "    matplotlib.pyplot.text(.9, .9, \"Normalité (p-val) : \" + str(t.pvalue),\n",
    "                           horizontalalignment='right',\n",
    "                           verticalalignment='top',\n",
    "                           transform = h.transAxes)\n",
    "    # création de la boîte à moustache\n",
    "    diamonds.boxplot(column = var, grid = False, ax = ax2)\n",
    "\n",
    "# on lance sur la variable 'carat' \n",
    "descQuanti(\"carat\")\n",
    "# à faire sur les autres variables\n",
    "# descQuanti(\"depth\")\n",
    "# ..."
   ]
  },
  {
   "cell_type": "markdown",
   "metadata": {},
   "source": [
    "### Quali"
   ]
  },
  {
   "cell_type": "code",
   "execution_count": 5,
   "metadata": {},
   "outputs": [
    {
     "name": "stdout",
     "output_type": "stream",
     "text": [
      "Variable   : cut \n",
      "\n",
      "col_0      Effectif  Pourcentage\n",
      "cut                             \n",
      "Fair           1610         2.98\n",
      "Good           4906         9.10\n",
      "Ideal         21551        39.95\n",
      "Premium       13791        25.57\n",
      "Very Good     12082        22.40\n"
     ]
    },
    {
     "data": {
      "image/png": "[encoded data removed]",
      "text/plain": [
       "<matplotlib.figure.Figure at 0x7fc4e3283908>"
      ]
     },
     "metadata": {},
     "output_type": "display_data"
    }
   ],
   "source": [
    "def descQuali(var):\n",
    "    # description d'une variable qualitative du jeu de données diamonds\n",
    "    # récupération des valeurs\n",
    "    x = diamonds[var]\n",
    "    # affichage des différentes informations demandées\n",
    "    print(\"Variable   :\", var, \"\\n\")\n",
    "    # tableau des effectifs et des proportions\n",
    "    eff = pandas.crosstab(x, \"Effectif\")\n",
    "    pro = pandas.crosstab(x, \"Pourcentage\", normalize=True) * 100\n",
    "    print(pandas.concat([eff, pro.round(2)], axis = 1))\n",
    "    # diagramme en barres\n",
    "    eff.plot(kind = \"bar\", legend = False)\n",
    "\n",
    "# on lance sur la variable \"cut\"\n",
    "descQuali(\"cut\")\n",
    "# à faire sur les autres variables\n",
    "# descQuali(\"color\")\n",
    "# ..."
   ]
  },
  {
   "cell_type": "markdown",
   "metadata": {
    "run_control": {
     "frozen": false,
     "read_only": false
    }
   },
   "source": [
    "## Lien avec `price`\n",
    "\n",
    "Ici, en fonction du type de la variable pour laquelle estimer le lien avec `price`, les opérations ne sont pas les mêmes à effectuer.\n",
    "\n",
    "- *quantitative* : `carat`, `depth`, `table`, `x`, `y`, `z`\n",
    "    - Corrélation, avec test de corrélation\n",
    "    - Nuage de points\n",
    "- *qualitative* : `cut`, `color`, `clarity`\n",
    "    - ANOVA\n",
    "    - Boîtes à moustaches pour chaque modalité"
   ]
  },
  {
   "cell_type": "markdown",
   "metadata": {},
   "source": [
    "On peut commencer par représenter la corrélation de chaque variable quantitative avec la variable `price`."
   ]
  },
  {
   "cell_type": "code",
   "execution_count": 6,
   "metadata": {},
   "outputs": [
    {
     "data": {
      "text/plain": [
       "carat    0.921591\n",
       "depth   -0.010647\n",
       "table    0.127134\n",
       "price    1.000000\n",
       "x        0.884435\n",
       "y        0.865421\n",
       "z        0.861249\n",
       "Name: price, dtype: float64"
      ]
     },
     "execution_count": 6,
     "metadata": {},
     "output_type": "execute_result"
    }
   ],
   "source": [
    "# calcul des corrélations et affichage\n",
    "cor = diamonds.corr().price\n",
    "cor"
   ]
  },
  {
   "cell_type": "code",
   "execution_count": 7,
   "metadata": {},
   "outputs": [
    {
     "data": {
      "text/plain": [
       "<matplotlib.axes._subplots.AxesSubplot at 0x7fc4e0fb9198>"
      ]
     },
     "execution_count": 7,
     "metadata": {},
     "output_type": "execute_result"
    },
    {
     "data": {
      "image/png": "[encoded data removed]",
      "text/plain": [
       "<matplotlib.figure.Figure at 0x7fc4e0ee9a90>"
      ]
     },
     "metadata": {},
     "output_type": "display_data"
    }
   ],
   "source": [
    "# représentation sur un diagramme en barres (peu classique mais efficace)\n",
    "cor.drop(\"price\").plot(kind = \"bar\")"
   ]
  },
  {
   "cell_type": "code",
   "execution_count": 8,
   "metadata": {},
   "outputs": [
    {
     "data": {
      "image/png": "[encoded data removed]",
      "text/plain": [
       "<matplotlib.figure.Figure at 0x7fc4e0e5e198>"
      ]
     },
     "metadata": {},
     "output_type": "display_data"
    }
   ],
   "source": [
    "# Création d'une fonction affichant le nuage de points (avec la corrélation)\n",
    "def lienPriceQuanti(var):\n",
    "    # nuage de points entre price et la variable passée en paramètre pour le jeu de données diamonds\n",
    "    n = diamonds.plot.scatter(var, \"price\")\n",
    "    # calcul de la corrélation\n",
    "    cor = diamonds.price.corr(diamonds[var])\n",
    "    # affichage de la corrélation\n",
    "    matplotlib.pyplot.text(.9, .1, \"Corrélation : \" + str(cor.round(2)),\n",
    "                           horizontalalignment='right',\n",
    "                           verticalalignment='top',\n",
    "                           transform = n.transAxes)\n",
    "\n",
    "# on lance sur la variable \"carat\"\n",
    "lienPriceQuanti(\"carat\")\n",
    "# à faire sur les autres variables\n",
    "# lienPriceQuanti(\"depth\")\n",
    "# ..."
   ]
  },
  {
   "cell_type": "code",
   "execution_count": 9,
   "metadata": {},
   "outputs": [
    {
     "data": {
      "image/png": "[encoded data removed]",
      "text/plain": [
       "<matplotlib.figure.Figure at 0x7fc4e0fb99b0>"
      ]
     },
     "metadata": {},
     "output_type": "display_data"
    }
   ],
   "source": [
    "# Création d'une fonction pour établir le lien entre price et une variable quali\n",
    "def lienPriceQuali(var):\n",
    "    # on récupère les valeurs de la variable\n",
    "    x = diamonds[var]\n",
    "    # création des boîtes à moustaches\n",
    "    b = diamonds.boxplot(column = \"price\", by = var, grid = False) \n",
    "    # ajout d'un espace en haut du graphique pour y mettre la p-value de l'ANOVA\n",
    "    b.set_ylim(0, numpy.max(diamonds.price) * 1.25)\n",
    "    # calcul de l'ANOVA\n",
    "    g = [diamonds.price[x == s] for s in list(x.unique())]\n",
    "    aov = scipy.stats.f_oneway(*g)\n",
    "    # ajout de la p-value dans le graphique\n",
    "    matplotlib.pyplot.text(.5, .9, \"ANOVA (p-value) : \" + str(aov.pvalue.round(5)),\n",
    "                           horizontalalignment='center',\n",
    "                           verticalalignment='top',\n",
    "                           transform = b.transAxes)\n",
    "\n",
    "# on lance sur la variable \"cut\"\n",
    "lienPriceQuali(\"cut\")\n",
    "# à faire sur les autres variables\n",
    "# lienPriceQuali(\"color\")\n",
    "# ..."
   ]
  }
 ],
 "metadata": {
  "kernelspec": {
   "display_name": "Python 3",
   "language": "python",
   "name": "python3"
  },
  "language_info": {
   "codemirror_mode": {
    "name": "ipython",
    "version": 3
   },
   "file_extension": ".py",
   "mimetype": "text/x-python",
   "name": "python",
   "nbconvert_exporter": "python",
   "pygments_lexer": "ipython3",
   "version": "3.5.2"
  }
 },
 "nbformat": 4,
 "nbformat_minor": 2
}
