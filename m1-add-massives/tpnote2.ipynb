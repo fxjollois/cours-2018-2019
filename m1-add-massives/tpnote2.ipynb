{
 "cells": [
  {
   "cell_type": "markdown",
   "metadata": {},
   "source": [
    "# TP noté\n",
    "\n",
    "Rendu par mail à l'adresse <francois-xavier.jollois@parisdescartes.fr> \n",
    "\n",
    "- Objet : [M1 ADDM] TP noté - NOM (-> votre nom)\n",
    "- Sujet : un petit bonjour ne fait pas de mal\n",
    "- Pièce jointe : le fichier .ipynb à télécharger en cliquant sur File -> Download as -> Notebook (.ipynb)\n",
    "\n",
    "**Délai** : A rendre avant 17h le jour même\n",
    "\n",
    "Nous allons utiliser la base de données `test`, dans laquelle se trouve la collection `restaurants`. Celle-ci est composée de plus de 25000 retaurants new-yorkais, avec des évaluations de ceux-ci.\n",
    "\n",
    "1. Créer une connexion vers cette collection\n",
    "1. Déterminer le nombre exact de restaurants.\n",
    "1. Lister les différents quartiers représentés (*borough*) ainsi que les différents types de cuisine (*cuisine*).\n",
    "1. Lister les noms des restaurants, ainsi que leur quartier, ne proposant que des soupes (*cuisine* égale à *Soups*).\n",
    "1. Donner les nombre de restaurants ayant eu au moins une fois le *grade* (dans *grades*) `Z`.\n",
    "1. Calculer le nombre de restaurants pour chaque quartier\n",
    "1. Donner les cinq types de cuisine les plus présentes dans New-York (avec le plus de restaurants donc)\n",
    "1. Pour chaque *grade* possible, donner le nombre d'évaluation avec ce grade, ainsi que le *score* moyen, minimum et maximum.\n",
    "1. Créer un `DataFrame` contenant les restaurants en ligne et en colonne le score moyen obtenu pour chaque *grade* possible. Si un restaurant n'a pas eu d'évaluation d'un *grade*, nous aurons une valeur absente."
   ]
  },
  {
   "cell_type": "code",
   "execution_count": null,
   "metadata": {},
   "outputs": [],
   "source": []
  }
 ],
 "metadata": {
  "kernelspec": {
   "display_name": "Python 3",
   "language": "python",
   "name": "python3"
  },
  "language_info": {
   "codemirror_mode": {
    "name": "ipython",
    "version": 3
   },
   "file_extension": ".py",
   "mimetype": "text/x-python",
   "name": "python",
   "nbconvert_exporter": "python",
   "pygments_lexer": "ipython3",
   "version": "3.5.2"
  }
 },
 "nbformat": 4,
 "nbformat_minor": 2
}
