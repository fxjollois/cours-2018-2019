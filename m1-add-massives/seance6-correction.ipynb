{
 "cells": [
  {
   "cell_type": "markdown",
   "metadata": {},
   "source": [
    "# Introduction à MongoDB - *correction*\n",
    "\n",
    "Répondre aux questions suivantes"
   ]
  },
  {
   "cell_type": "code",
   "execution_count": 1,
   "metadata": {},
   "outputs": [],
   "source": [
    "import pymongo\n",
    "con = pymongo.MongoClient(\"mongodb://193.51.82.104:2343/\")\n",
    "db = con.gym"
   ]
  },
  {
   "cell_type": "markdown",
   "metadata": {},
   "source": [
    "##### 1. Quels sont les sportifs (identifiant, nom et prénom) qui ont entre 20 et 30 ans ?"
   ]
  },
  {
   "cell_type": "code",
   "execution_count": 2,
   "metadata": {},
   "outputs": [
    {
     "data": {
      "text/plain": [
       "[{'IdSportif': 1, 'Nom': 'BOUTAHAR', 'Prenom': 'Abderahim'},\n",
       " {'IdSportif': 2, 'Nom': 'KERVADEC', 'Prenom': 'Yann'},\n",
       " {'IdSportif': 3, 'Nom': 'HUE', 'Prenom': 'Pascale'},\n",
       " {'IdSportif': 5, 'Nom': 'COMES', 'Prenom': 'Sylvie'},\n",
       " {'IdSportif': 6, 'Nom': 'RETALDI', 'Prenom': 'Sophie'},\n",
       " {'IdSportif': 7, 'Nom': 'GOMEZ', 'Prenom': 'Diego'},\n",
       " {'IdSportif': 9, 'Nom': 'ANTUNES', 'Prenom': 'Gaêlle'},\n",
       " {'IdSportif': 10, 'Nom': 'BLANDET', 'Prenom': 'Arnaud'},\n",
       " {'IdSportif': 11, 'Nom': 'BONNET', 'Prenom': 'Christophe'},\n",
       " {'IdSportif': 12, 'Nom': 'BORREL', 'Prenom': 'Benoît'},\n",
       " {'IdSportif': 13, 'Nom': 'BOYON', 'Prenom': 'Julien'},\n",
       " {'IdSportif': 14, 'Nom': 'CAILLIOT', 'Prenom': 'Stéphanie'},\n",
       " {'IdSportif': 15, 'Nom': 'CHAMPENOIS', 'Prenom': 'Cédric'},\n",
       " {'IdSportif': 16, 'Nom': 'COLAS', 'Prenom': 'Michaël'},\n",
       " {'IdSportif': 17, 'Nom': 'COLOMB', 'Prenom': 'Michaël'},\n",
       " {'IdSportif': 18, 'Nom': 'HOSNI', 'Prenom': 'Leila'},\n",
       " {'IdSportif': 19, 'Nom': 'TESTEMONT', 'Prenom': 'Laurent'},\n",
       " {'IdSportif': 20, 'Nom': 'TIENER', 'Prenom': 'Thomas'},\n",
       " {'IdSportif': 21, 'Nom': 'LE BOUCHER', 'Prenom': 'Denis'},\n",
       " {'IdSportif': 22, 'Nom': 'LEDUFAUD', 'Prenom': 'Pierre'},\n",
       " {'IdSportif': 23, 'Nom': 'LEGRAND', 'Prenom': 'David'},\n",
       " {'IdSportif': 24, 'Nom': 'LEJEUNE', 'Prenom': 'Sylvaine'},\n",
       " {'IdSportif': 25, 'Nom': 'MARTORA', 'Prenom': 'Fabrice'},\n",
       " {'IdSportif': 26, 'Nom': 'MICHEL', 'Prenom': 'Frédérique'},\n",
       " {'IdSportif': 27, 'Nom': 'NIELLEZ', 'Prenom': 'Christophe'},\n",
       " {'IdSportif': 29, 'Nom': 'ROUSSEL', 'Prenom': 'Nadège'},\n",
       " {'IdSportif': 30, 'Nom': 'SCHINK', 'Prenom': 'Nicolas'},\n",
       " {'IdSportif': 31, 'Nom': 'STEMPUT', 'Prenom': 'Mathieu'},\n",
       " {'IdSportif': 32, 'Nom': 'VAN CAUTER', 'Prenom': 'Vincent'},\n",
       " {'IdSportif': 33, 'Nom': 'RAMPNOUX', 'Prenom': 'Jean françois'},\n",
       " {'IdSportif': 34, 'Nom': 'LHERPINIERE', 'Prenom': 'Olivier'},\n",
       " {'IdSportif': 35, 'Nom': 'TANQUE', 'Prenom': 'Yann'},\n",
       " {'IdSportif': 36, 'Nom': 'DJELOUDANE', 'Prenom': 'Zinedine'},\n",
       " {'IdSportif': 37, 'Nom': 'LAZZARI', 'Prenom': 'Magali'},\n",
       " {'IdSportif': 38, 'Nom': 'VASSEMON', 'Prenom': 'Laurent'},\n",
       " {'IdSportif': 39, 'Nom': 'MOREL', 'Prenom': 'Mathieu'},\n",
       " {'IdSportif': 40, 'Nom': 'VALIN', 'Prenom': 'Yann'},\n",
       " {'IdSportif': 41, 'Nom': 'DELOVINA', 'Prenom': 'Elina'},\n",
       " {'IdSportif': 42, 'Nom': 'LEHOUX', 'Prenom': 'Bruno'},\n",
       " {'IdSportif': 43, 'Nom': 'MATHIEU', 'Prenom': 'Denise'},\n",
       " {'IdSportif': 44, 'Nom': 'ADIBO', 'Prenom': 'Senamé'},\n",
       " {'IdSportif': 45, 'Nom': 'CHAVANT', 'Prenom': 'Christophe'},\n",
       " {'IdSportif': 46, 'Nom': 'DAUXIAN', 'Prenom': 'Cédric'},\n",
       " {'IdSportif': 47, 'Nom': 'GROEN', 'Prenom': 'Céline'},\n",
       " {'IdSportif': 48, 'Nom': 'HEDDI', 'Prenom': 'Zohra'},\n",
       " {'IdSportif': 49, 'Nom': 'JOUVE', 'Prenom': 'Sandra'},\n",
       " {'IdSportif': 50, 'Nom': 'KALOMBO', 'Prenom': 'Yannick'},\n",
       " {'IdSportif': 51, 'Nom': 'LOPEZ', 'Prenom': 'Thibaud'},\n",
       " {'IdSportif': 52, 'Nom': 'DANDOIS', 'Prenom': 'Régis'},\n",
       " {'IdSportif': 53, 'Nom': 'DEMMER', 'Prenom': 'Thomas'},\n",
       " {'IdSportif': 54, 'Nom': 'ELKABBADJ', 'Prenom': 'Mohammed'},\n",
       " {'IdSportif': 55, 'Nom': 'FEROLDI', 'Prenom': 'Olivier'},\n",
       " {'IdSportif': 56, 'Nom': 'GUERRAOUI', 'Prenom': 'Zohra'},\n",
       " {'IdSportif': 57, 'Nom': 'BOISSEAU', 'Prenom': 'Eric'},\n",
       " {'IdSportif': 58, 'Nom': 'GUIGUI', 'Prenom': 'Vincent'},\n",
       " {'IdSportif': 59, 'Nom': 'CLERICE', 'Prenom': 'Stéphanie'},\n",
       " {'IdSportif': 61, 'Nom': 'LAZARRE', 'Prenom': 'Jean'},\n",
       " {'IdSportif': 63, 'Nom': 'AMAND', 'Prenom': 'Patrick'},\n",
       " {'IdSportif': 64, 'Nom': 'LANOE', 'Prenom': 'Françoise'},\n",
       " {'IdSportif': 65, 'Nom': 'CHESNIER', 'Prenom': 'Marc'},\n",
       " {'IdSportif': 66, 'Nom': 'DURIEU', 'Prenom': 'Loïc'},\n",
       " {'IdSportif': 67, 'Nom': 'VONTHRON', 'Prenom': 'Dominique'},\n",
       " {'IdSportif': 68, 'Nom': 'REGNAULD', 'Prenom': 'Jeanne'},\n",
       " {'IdSportif': 69, 'Nom': 'MARIE', 'Prenom': 'Paule'},\n",
       " {'IdSportif': 70, 'Nom': 'BELLAMY', 'Prenom': 'Norbert'},\n",
       " {'IdSportif': 71, 'Nom': 'DELAROCHE', 'Prenom': 'Bertrand'},\n",
       " {'IdSportif': 72, 'Nom': 'MARTEL', 'Prenom': 'Bernard'},\n",
       " {'IdSportif': 73, 'Nom': 'DALLIER', 'Prenom': 'Didier'},\n",
       " {'IdSportif': 74, 'Nom': 'AUVRAY', 'Prenom': 'Alain'},\n",
       " {'IdSportif': 76, 'Nom': 'HALGATTE', 'Prenom': 'Claude'},\n",
       " {'IdSportif': 77, 'Nom': 'HEON', 'Prenom': 'Philippe'},\n",
       " {'IdSportif': 78, 'Nom': 'CHAUVIN', 'Prenom': 'Julien'},\n",
       " {'IdSportif': 79, 'Nom': 'HENRY', 'Prenom': 'Jacky'},\n",
       " {'IdSportif': 80, 'Nom': 'HOCHET', 'Prenom': 'Pierre'},\n",
       " {'IdSportif': 81, 'Nom': 'DROULLON', 'Prenom': 'Joëlle'},\n",
       " {'IdSportif': 83, 'Nom': 'LEROUX', 'Prenom': 'André'},\n",
       " {'IdSportif': 84, 'Nom': 'SALLAÏ', 'Prenom': 'Miloud'},\n",
       " {'IdSportif': 85, 'Nom': 'HAMARD', 'Prenom': 'Romain'},\n",
       " {'IdSportif': 86, 'Nom': 'GALLOT', 'Prenom': 'Bernard'},\n",
       " {'IdSportif': 87, 'Nom': 'COUESBOT', 'Prenom': 'Daniel'},\n",
       " {'IdSportif': 88, 'Nom': 'LEJEUNE', 'Prenom': 'Richard'},\n",
       " {'IdSportif': 89, 'Nom': 'RIQUIER', 'Prenom': 'Jean-pierre'},\n",
       " {'IdSportif': 90, 'Nom': 'DUREL', 'Prenom': 'Eric'},\n",
       " {'IdSportif': 91, 'Nom': 'LECHEVALIER', 'Prenom': 'Patrick'},\n",
       " {'IdSportif': 92, 'Nom': 'HERVIEU', 'Prenom': 'Jean-François'},\n",
       " {'IdSportif': 93, 'Nom': 'CAUCHARD', 'Prenom': 'Georges'},\n",
       " {'IdSportif': 95, 'Nom': 'EUSTACHE', 'Prenom': 'Marcel'},\n",
       " {'IdSportif': 96, 'Nom': 'JANY', 'Prenom': 'Claude'},\n",
       " {'IdSportif': 97, 'Nom': 'BONHOMME', 'Prenom': 'Bruno'},\n",
       " {'IdSportif': 98, 'Nom': 'RICHARD', 'Prenom': 'William'},\n",
       " {'IdSportif': 100, 'Nom': 'LESOIF', 'Prenom': 'Jacques'},\n",
       " {'IdSportif': 101, 'Nom': 'SWERTVAEGER', 'Prenom': 'Eric'},\n",
       " {'IdSportif': 102, 'Nom': 'DUVAL', 'Prenom': 'Alain'},\n",
       " {'IdSportif': 103, 'Nom': 'LEMENOREL', 'Prenom': 'Claude'},\n",
       " {'IdSportif': 104, 'Nom': 'SEHIER', 'Prenom': 'Dominique'},\n",
       " {'IdSportif': 105, 'Nom': 'STILO', 'Prenom': 'Philippe'},\n",
       " {'IdSportif': 106, 'Nom': 'LE BANNARD', 'Prenom': 'Gérard'},\n",
       " {'IdSportif': 107, 'Nom': 'BORNE', 'Prenom': 'Jean-Yves'},\n",
       " {'IdSportif': 108, 'Nom': 'LAURENCE', 'Prenom': 'Serge'},\n",
       " {'IdSportif': 109, 'Nom': 'SAUVAGE', 'Prenom': 'Patrick'},\n",
       " {'IdSportif': 110, 'Nom': 'ROULLAND', 'Prenom': 'Christian'},\n",
       " {'IdSportif': 111, 'Nom': 'LESIEUR', 'Prenom': 'Michel'},\n",
       " {'IdSportif': 112, 'Nom': 'LUYCKX', 'Prenom': 'Gérard'},\n",
       " {'IdSportif': 113, 'Nom': 'AVICE', 'Prenom': 'Benoît'},\n",
       " {'IdSportif': 114, 'Nom': 'MICHEL', 'Prenom': 'Danielle'},\n",
       " {'IdSportif': 115, 'Nom': 'LEMOUSSU', 'Prenom': 'Laurent'},\n",
       " {'IdSportif': 116, 'Nom': 'BELUAU', 'Prenom': 'Gilberte'},\n",
       " {'IdSportif': 117, 'Nom': 'FERREIRA', 'Prenom': 'Martine'},\n",
       " {'IdSportif': 118, 'Nom': 'FROMENT', 'Prenom': 'Philippe'},\n",
       " {'IdSportif': 119, 'Nom': 'GUITON', 'Prenom': 'Jean-paul'},\n",
       " {'IdSportif': 120, 'Nom': 'LECOMTE', 'Prenom': 'Christian'},\n",
       " {'IdSportif': 121, 'Nom': 'HUET', 'Prenom': 'Loïc'},\n",
       " {'IdSportif': 122, 'Nom': 'BECQUET', 'Prenom': 'Erika'},\n",
       " {'IdSportif': 123, 'Nom': 'LETHIMONNIER', 'Prenom': 'Victor'},\n",
       " {'IdSportif': 124, 'Nom': 'SWERTVAEGER', 'Prenom': 'Michelle'},\n",
       " {'IdSportif': 125, 'Nom': 'JALON', 'Prenom': 'Patrick'},\n",
       " {'IdSportif': 126, 'Nom': 'DEBOUT', 'Prenom': 'Eric'},\n",
       " {'IdSportif': 127, 'Nom': 'GASTELLIER', 'Prenom': 'Charles'},\n",
       " {'IdSportif': 128, 'Nom': 'GIRONIE', 'Prenom': 'André'},\n",
       " {'IdSportif': 129, 'Nom': 'DABON', 'Prenom': 'Richard'},\n",
       " {'IdSportif': 130, 'Nom': 'LECHAUVE', 'Prenom': 'Jean-Claude'},\n",
       " {'IdSportif': 131, 'Nom': 'GALLOIS', 'Prenom': 'Michelle'},\n",
       " {'IdSportif': 132, 'Nom': 'DORON', 'Prenom': 'Yannick'},\n",
       " {'IdSportif': 133, 'Nom': 'LENEVEU', 'Prenom': 'Julien'},\n",
       " {'IdSportif': 134, 'Nom': 'LERICHE', 'Prenom': 'Harry'},\n",
       " {'IdSportif': 135, 'Nom': 'MANCEL', 'Prenom': 'Jean-luc'},\n",
       " {'IdSportif': 136, 'Nom': 'LABOULAIS', 'Prenom': 'Chloé'},\n",
       " {'IdSportif': 137, 'Nom': 'DUDOUIT', 'Prenom': 'Chloé'},\n",
       " {'IdSportif': 138, 'Nom': 'MADELAINE', 'Prenom': 'Chloé'},\n",
       " {'IdSportif': 139, 'Nom': 'BESNARD', 'Prenom': 'Chloé'},\n",
       " {'IdSportif': 140, 'Nom': 'BELZ', 'Prenom': 'Chloé'},\n",
       " {'IdSportif': 141, 'Nom': 'BONNET', 'Prenom': 'Chloé'},\n",
       " {'IdSportif': 142, 'Nom': 'CORNET', 'Prenom': 'Chloé'},\n",
       " {'IdSportif': 143, 'Nom': 'BEUZELIN', 'Prenom': 'Chloé'},\n",
       " {'IdSportif': 144, 'Nom': 'GRANDIDIER', 'Prenom': 'Chloé'},\n",
       " {'IdSportif': 145, 'Nom': 'LENEVEU', 'Prenom': 'Marie'},\n",
       " {'IdSportif': 146, 'Nom': 'DABON', 'Prenom': 'Rick'},\n",
       " {'IdSportif': 147, 'Nom': 'CLERICE', 'Prenom': 'Alice'},\n",
       " {'IdSportif': 148, 'Nom': 'COMES', 'Prenom': 'Marie'},\n",
       " {'IdSportif': 149, 'Nom': 'BELZ', 'Prenom': 'Sylvianne'},\n",
       " {'IdSportif': 150, 'Nom': 'BELZ', 'Prenom': 'Paul'},\n",
       " {'IdSportif': 151, 'Nom': 'HENRY', 'Prenom': 'Maël'}]"
      ]
     },
     "execution_count": 2,
     "metadata": {},
     "output_type": "execute_result"
    }
   ],
   "source": [
    "list(db.Sportifs.find({\"Age\": { \"$gte\": 20, \"$lte\": 30 }},\n",
    "                      {\"_id\": 0, \"IdSportif\": 1, \"Nom\": 1, \"Prenom\": 1}))"
   ]
  },
  {
   "cell_type": "markdown",
   "metadata": {},
   "source": [
    "##### 2. Quels sont les gymnases de \"Villetaneuse\" ou de \"Sarcelles\" qui ont une surface de plus de 400 m2 ?"
   ]
  },
  {
   "cell_type": "code",
   "execution_count": 3,
   "metadata": {},
   "outputs": [
    {
     "data": {
      "text/plain": [
       "[{'NomGymnase': 'PAUL ELUARD', 'Surface': 500, 'Ville': 'SARCELLES'},\n",
       " {'NomGymnase': 'BRASSENS', 'Surface': 620, 'Ville': 'SARCELLES'},\n",
       " {'NomGymnase': 'CAMUS', 'Surface': 620, 'Ville': 'SARCELLES'},\n",
       " {'NomGymnase': 'SAMOURAI', 'Surface': 600, 'Ville': 'SARCELLES'},\n",
       " {'NomGymnase': 'DOLTO', 'Surface': 620, 'Ville': 'VILLETANEUSE'},\n",
       " {'NomGymnase': 'MERMOZ', 'Surface': 600, 'Ville': 'VILLETANEUSE'}]"
      ]
     },
     "execution_count": 3,
     "metadata": {},
     "output_type": "execute_result"
    }
   ],
   "source": [
    "list(db.Gymnases.find(\n",
    "    {\n",
    "        \"Ville\": { \"$in\": [ \"VILLETANEUSE\", \"SARCELLES\"]},\n",
    "        \"Surface\": { \"$gt\": 400 }\n",
    "    },\n",
    "    {\n",
    "        \"_id\": 0,\n",
    "        \"NomGymnase\": 1,\n",
    "        \"Ville\": 1,\n",
    "        \"Surface\": 1\n",
    "    }))\n"
   ]
  },
  {
   "cell_type": "markdown",
   "metadata": {},
   "source": [
    "##### 3. Quels sont les sportifs (identifiant et nom) qui pratiquent du hand ball ?"
   ]
  },
  {
   "cell_type": "code",
   "execution_count": 4,
   "metadata": {},
   "outputs": [
    {
     "data": {
      "text/plain": [
       "[{'IdSportif': 6, 'Nom': 'RETALDI'},\n",
       " {'IdSportif': 19, 'Nom': 'TESTEMONT'},\n",
       " {'IdSportif': 20, 'Nom': 'TIENER'},\n",
       " {'IdSportif': 25, 'Nom': 'MARTORA'},\n",
       " {'IdSportif': 26, 'Nom': 'MICHEL'},\n",
       " {'IdSportif': 27, 'Nom': 'NIELLEZ'},\n",
       " {'IdSportif': 28, 'Nom': 'RABAHI'},\n",
       " {'IdSportif': 29, 'Nom': 'ROUSSEL'},\n",
       " {'IdSportif': 30, 'Nom': 'SCHINK'},\n",
       " {'IdSportif': 31, 'Nom': 'STEMPUT'},\n",
       " {'IdSportif': 32, 'Nom': 'VAN CAUTER'},\n",
       " {'IdSportif': 33, 'Nom': 'RAMPNOUX'},\n",
       " {'IdSportif': 34, 'Nom': 'LHERPINIERE'},\n",
       " {'IdSportif': 35, 'Nom': 'TANQUE'},\n",
       " {'IdSportif': 38, 'Nom': 'VASSEMON'},\n",
       " {'IdSportif': 39, 'Nom': 'MOREL'},\n",
       " {'IdSportif': 40, 'Nom': 'VALIN'},\n",
       " {'IdSportif': 43, 'Nom': 'MATHIEU'},\n",
       " {'IdSportif': 51, 'Nom': 'LOPEZ'},\n",
       " {'IdSportif': 60, 'Nom': 'TIZEGHAT'},\n",
       " {'IdSportif': 67, 'Nom': 'VONTHRON'},\n",
       " {'IdSportif': 68, 'Nom': 'REGNAULD'},\n",
       " {'IdSportif': 69, 'Nom': 'MARIE'},\n",
       " {'IdSportif': 72, 'Nom': 'MARTEL'},\n",
       " {'IdSportif': 75, 'Nom': 'SARRAZIN'},\n",
       " {'IdSportif': 83, 'Nom': 'LEROUX'},\n",
       " {'IdSportif': 84, 'Nom': 'SALLAÏ'},\n",
       " {'IdSportif': 89, 'Nom': 'RIQUIER'},\n",
       " {'IdSportif': 94, 'Nom': 'LEROUX'},\n",
       " {'IdSportif': 98, 'Nom': 'RICHARD'},\n",
       " {'IdSportif': 100, 'Nom': 'LESOIF'},\n",
       " {'IdSportif': 101, 'Nom': 'SWERTVAEGER'},\n",
       " {'IdSportif': 104, 'Nom': 'SEHIER'},\n",
       " {'IdSportif': 105, 'Nom': 'STILO'},\n",
       " {'IdSportif': 109, 'Nom': 'SAUVAGE'},\n",
       " {'IdSportif': 110, 'Nom': 'ROULLAND'},\n",
       " {'IdSportif': 111, 'Nom': 'LESIEUR'},\n",
       " {'IdSportif': 112, 'Nom': 'LUYCKX'},\n",
       " {'IdSportif': 114, 'Nom': 'MICHEL'},\n",
       " {'IdSportif': 123, 'Nom': 'LETHIMONNIER'},\n",
       " {'IdSportif': 124, 'Nom': 'SWERTVAEGER'},\n",
       " {'IdSportif': 135, 'Nom': 'MANCEL'},\n",
       " {'IdSportif': 138, 'Nom': 'MADELAINE'},\n",
       " {'IdSportif': 151, 'Nom': 'HENRY'}]"
      ]
     },
     "execution_count": 4,
     "metadata": {},
     "output_type": "execute_result"
    }
   ],
   "source": [
    "list(db.Sportifs.find(\n",
    "    {\n",
    "        \"Sports.Jouer\": \"Hand ball\"\n",
    "    },\n",
    "    {\n",
    "        \"_id\": 0,\n",
    "        \"IdSportif\": 1,\n",
    "        \"Nom\": 1\n",
    "    }\n",
    "))\n"
   ]
  },
  {
   "cell_type": "markdown",
   "metadata": {},
   "source": [
    "##### 4. Dans quels gymnases et quels jours y a t-il des séances de hand ball ?"
   ]
  },
  {
   "cell_type": "code",
   "execution_count": 5,
   "metadata": {},
   "outputs": [
    {
     "data": {
      "text/plain": [
       "[{'NomGymnase': 'PAUL ELUARD',\n",
       "  'Seances': [{'Jour': 'Samedi', 'Libelle': 'Basket ball'},\n",
       "   {'Jour': 'Lundi', 'Libelle': 'Hand ball'},\n",
       "   {'Jour': 'Lundi', 'Libelle': 'Hand ball'},\n",
       "   {'Jour': 'Lundi', 'Libelle': 'Hand ball'},\n",
       "   {'Jour': 'Lundi', 'Libelle': 'Hand ball'},\n",
       "   {'Jour': 'lundi', 'Libelle': 'Hand ball'},\n",
       "   {'Jour': 'Lundi', 'Libelle': 'Hand ball'},\n",
       "   {'Jour': 'Dimanche', 'Libelle': 'Hand ball'},\n",
       "   {'Jour': 'Dimanche', 'Libelle': 'Hand ball'},\n",
       "   {'Jour': 'mardi', 'Libelle': 'Hand ball'},\n",
       "   {'Jour': 'mercredi', 'Libelle': 'Hand ball'},\n",
       "   {'Jour': 'Samedi', 'Libelle': 'Hand ball'},\n",
       "   {'Jour': 'Samedi', 'Libelle': 'Hand ball'},\n",
       "   {'Jour': 'Samedi', 'Libelle': 'Hand ball'},\n",
       "   {'Jour': 'jeudi', 'Libelle': 'Hand ball'},\n",
       "   {'Jour': 'lundi', 'Libelle': 'Hand ball'},\n",
       "   {'Jour': 'lundi', 'Libelle': 'Hand ball'},\n",
       "   {'Jour': 'lundi', 'Libelle': 'Hand ball'},\n",
       "   {'Jour': 'lundi', 'Libelle': 'Hand ball'},\n",
       "   {'Jour': 'mercredi', 'Libelle': 'Hockey'}],\n",
       "  'Ville': 'STAINS'},\n",
       " {'NomGymnase': 'GARCIA LORCA',\n",
       "  'Seances': [{'Jour': 'samedi', 'Libelle': 'Volley ball'},\n",
       "   {'Jour': 'vendredi', 'Libelle': 'Volley ball'},\n",
       "   {'Jour': 'dimanche', 'Libelle': 'Volley ball'},\n",
       "   {'Jour': 'dimanche', 'Libelle': 'Hand ball'},\n",
       "   {'Jour': 'mardi', 'Libelle': 'Hand ball'},\n",
       "   {'Jour': 'mardi', 'Libelle': 'Hockey'}],\n",
       "  'Ville': 'STAINS'}]"
      ]
     },
     "execution_count": 5,
     "metadata": {},
     "output_type": "execute_result"
    }
   ],
   "source": [
    "list(db.Gymnases.find(\n",
    "    {\n",
    "        \"Seances.Libelle\": \"Hand ball\"\n",
    "    },\n",
    "    {\n",
    "        \"_id\": 0,\n",
    "        \"NomGymnase\": 1,\n",
    "        \"Ville\": 1,\n",
    "        \"Seances.Jour\": 1,\n",
    "        \"Seances.Libelle\": 1\n",
    "    }\n",
    "))"
   ]
  },
  {
   "cell_type": "code",
   "execution_count": 6,
   "metadata": {},
   "outputs": [
    {
     "data": {
      "text/plain": [
       "[{'_id': {'Jour': 'lundi', 'Ville': 'STAINS'}, 'nb': 10},\n",
       " {'_id': {'Jour': 'samedi', 'Ville': 'STAINS'}, 'nb': 3},\n",
       " {'_id': {'Jour': 'dimanche', 'Ville': 'STAINS'}, 'nb': 3},\n",
       " {'_id': {'Jour': 'mardi', 'Ville': 'STAINS'}, 'nb': 2},\n",
       " {'_id': {'Jour': 'jeudi', 'Ville': 'STAINS'}, 'nb': 1},\n",
       " {'_id': {'Jour': 'mercredi', 'Ville': 'STAINS'}, 'nb': 1}]"
      ]
     },
     "execution_count": 6,
     "metadata": {},
     "output_type": "execute_result"
    }
   ],
   "source": [
    "# **Problème** d'affichage des jours\n",
    "\n",
    "list(db.Gymnases.aggregate([\n",
    "    { \"$unwind\" : \"$Seances\" },\n",
    "    { \"$match\": { \"Seances.Libelle\" : \"Hand ball\" }},\n",
    "    { \"$group\": {\n",
    "        \"_id\": { \n",
    "            \"Nom\": \"$Gymnase\", \n",
    "            \"Ville\": \"$Ville\", \n",
    "            \"Jour\": { \"$toLower\": \"$Seances.Jour\"} \n",
    "        },\n",
    "        \"nb\": { \"$sum\": 1 }\n",
    "    }},\n",
    "    { \"$sort\": {\n",
    "        \"_id.Ville\": 1,\n",
    "        \"_id.Nom\": 1,\n",
    "        \"nb\": -1\n",
    "    }}\n",
    "]))"
   ]
  },
  {
   "cell_type": "markdown",
   "metadata": {},
   "source": [
    "##### 5. Dans quels gymnases peut-on jouer au hockey le mercredi apres 15H ?"
   ]
  },
  {
   "cell_type": "code",
   "execution_count": 7,
   "metadata": {},
   "outputs": [
    {
     "data": {
      "text/plain": [
       "[{'NomGymnase': 'PAUL ELUARD',\n",
       "  'Seances': [{'Horaire': 9.0, 'Jour': 'Samedi', 'Libelle': 'Basket ball'},\n",
       "   {'Horaire': 9.0, 'Jour': 'Lundi', 'Libelle': 'Hand ball'},\n",
       "   {'Horaire': 10.0, 'Jour': 'Lundi', 'Libelle': 'Hand ball'},\n",
       "   {'Horaire': 11.3, 'Jour': 'Lundi', 'Libelle': 'Hand ball'},\n",
       "   {'Horaire': 14.0, 'Jour': 'Lundi', 'Libelle': 'Hand ball'},\n",
       "   {'Horaire': 17.3, 'Jour': 'lundi', 'Libelle': 'Hand ball'},\n",
       "   {'Horaire': 19.3, 'Jour': 'Lundi', 'Libelle': 'Hand ball'},\n",
       "   {'Horaire': 17.3, 'Jour': 'Dimanche', 'Libelle': 'Hand ball'},\n",
       "   {'Horaire': 19.3, 'Jour': 'Dimanche', 'Libelle': 'Hand ball'},\n",
       "   {'Horaire': 17.3, 'Jour': 'mardi', 'Libelle': 'Hand ball'},\n",
       "   {'Horaire': 17.3, 'Jour': 'mercredi', 'Libelle': 'Hand ball'},\n",
       "   {'Horaire': 15.3, 'Jour': 'Samedi', 'Libelle': 'Hand ball'},\n",
       "   {'Horaire': 16.3, 'Jour': 'Samedi', 'Libelle': 'Hand ball'},\n",
       "   {'Horaire': 17.3, 'Jour': 'Samedi', 'Libelle': 'Hand ball'},\n",
       "   {'Horaire': 20.0, 'Jour': 'jeudi', 'Libelle': 'Hand ball'},\n",
       "   {'Horaire': 14.0, 'Jour': 'lundi', 'Libelle': 'Hand ball'},\n",
       "   {'Horaire': 18.0, 'Jour': 'lundi', 'Libelle': 'Hand ball'},\n",
       "   {'Horaire': 19.0, 'Jour': 'lundi', 'Libelle': 'Hand ball'},\n",
       "   {'Horaire': 20.0, 'Jour': 'lundi', 'Libelle': 'Hand ball'},\n",
       "   {'Horaire': 17.0, 'Jour': 'mercredi', 'Libelle': 'Hockey'}],\n",
       "  'Ville': 'STAINS'},\n",
       " {'NomGymnase': 'PAUL ELUARD',\n",
       "  'Seances': [{'Horaire': 10.0, 'Jour': 'Vendredi', 'Libelle': 'Basket ball'},\n",
       "   {'Horaire': 19.0, 'Jour': 'mercredi', 'Libelle': 'Hockey'}],\n",
       "  'Ville': 'SARCELLES'},\n",
       " {'NomGymnase': 'RAVEL',\n",
       "  'Seances': [{'Horaire': 19.0, 'Jour': 'dimanche', 'Libelle': 'Volley ball'},\n",
       "   {'Horaire': 20.0, 'Jour': 'mercredi', 'Libelle': 'Hockey'},\n",
       "   {'Horaire': 17.0, 'Jour': 'lundi', 'Libelle': 'Hockey'}],\n",
       "  'Ville': 'STAINS'},\n",
       " {'NomGymnase': 'SAMOURAI',\n",
       "  'Seances': [{'Horaire': 16.3, 'Jour': 'lundi', 'Libelle': 'Volley ball'},\n",
       "   {'Horaire': 17.0, 'Jour': 'Lundi', 'Libelle': 'Volley ball'},\n",
       "   {'Horaire': 18.0, 'Jour': 'Lundi', 'Libelle': 'Volley ball'},\n",
       "   {'Horaire': 19.0, 'Jour': 'lundi', 'Libelle': 'Volley ball'},\n",
       "   {'Horaire': 20.0, 'Jour': 'Lundi', 'Libelle': 'Volley ball'},\n",
       "   {'Horaire': 19.0, 'Jour': 'mercredi', 'Libelle': 'Hockey'}],\n",
       "  'Ville': 'SARCELLES'},\n",
       " {'NomGymnase': 'PABLO NERUDA',\n",
       "  'Seances': [{'Horaire': 16.3, 'Jour': 'lundi', 'Libelle': 'Volley ball'},\n",
       "   {'Horaire': 19.0, 'Jour': 'mardi', 'Libelle': 'Volley ball'},\n",
       "   {'Horaire': 14.0, 'Jour': 'mercredi', 'Libelle': 'Hockey'},\n",
       "   {'Horaire': 16.0, 'Jour': 'mercredi', 'Libelle': 'Hockey'}],\n",
       "  'Ville': 'PIERREFITTE'},\n",
       " {'NomGymnase': 'LUMIERES',\n",
       "  'Seances': [{'Horaire': 19.0, 'Jour': 'mercredi', 'Libelle': 'Hockey'}],\n",
       "  'Ville': 'SARCELLES'},\n",
       " {'NomGymnase': 'SIMON',\n",
       "  'Seances': [{'Horaire': 16.3, 'Jour': 'lundi', 'Libelle': 'Volley ball'},\n",
       "   {'Horaire': 19.0, 'Jour': 'mardi', 'Libelle': 'Volley ball'},\n",
       "   {'Horaire': 17.0, 'Jour': 'mercredi', 'Libelle': 'Hockey'}],\n",
       "  'Ville': 'STAINS'},\n",
       " {'NomGymnase': 'PASCAL',\n",
       "  'Seances': [{'Horaire': 10.0, 'Jour': 'jeudi', 'Libelle': 'Volley ball'},\n",
       "   {'Horaire': 14.0, 'Jour': 'mercredi', 'Libelle': 'Hockey'},\n",
       "   {'Horaire': 17.0, 'Jour': 'mercredi', 'Libelle': 'Hockey'}],\n",
       "  'Ville': 'VILLETANEUSE'}]"
      ]
     },
     "execution_count": 7,
     "metadata": {},
     "output_type": "execute_result"
    }
   ],
   "source": [
    "list(db.Gymnases.find(\n",
    "    {\n",
    "        \"Seances.Libelle\": \"Hockey\",\n",
    "        \"Seances.Jour\" : { \"$in\": [ \"mercredi\", \"Mercredi\" ]},\n",
    "        \"Seances.Horaire\": { \"$gte\" : 15 }\n",
    "    },\n",
    "    {\n",
    "        \"_id\": 0,\n",
    "        \"NomGymnase\": 1,\n",
    "        \"Ville\": 1,\n",
    "        \"Seances.Jour\": 1,\n",
    "        \"Seances.Libelle\": 1,\n",
    "        \"Seances.Horaire\": 1\n",
    "    }\n",
    "))"
   ]
  },
  {
   "cell_type": "code",
   "execution_count": 8,
   "metadata": {},
   "outputs": [
    {
     "data": {
      "text/plain": [
       "[{'Gymnase': 'LUMIERES', 'Ville': 'SARCELLES'},\n",
       " {'Gymnase': 'PABLO NERUDA', 'Ville': 'PIERREFITTE'},\n",
       " {'Gymnase': 'PASCAL', 'Ville': 'VILLETANEUSE'},\n",
       " {'Gymnase': 'PAUL ELUARD', 'Ville': 'SARCELLES'},\n",
       " {'Gymnase': 'PAUL ELUARD', 'Ville': 'STAINS'},\n",
       " {'Gymnase': 'RAVEL', 'Ville': 'STAINS'},\n",
       " {'Gymnase': 'SAMOURAI', 'Ville': 'SARCELLES'},\n",
       " {'Gymnase': 'SIMON', 'Ville': 'STAINS'}]"
      ]
     },
     "execution_count": 8,
     "metadata": {},
     "output_type": "execute_result"
    }
   ],
   "source": [
    "# **Problème** de sélection (visible si on fait `$lte`)\n",
    "list(db.Gymnases.aggregate([\n",
    "    { \"$unwind\": \"$Seances\" },\n",
    "    { \"$match\": {\n",
    "        \"Seances.Libelle\" : \"Hockey\",\n",
    "        \"Seances.Jour\": { \"$in\": [ \"mercredi\", \"Mercredi\" ]},\n",
    "        \"Seances.Horaire\": { \"$gte\": 15 }\n",
    "    }},\n",
    "    { \"$project\": {\n",
    "        \"_id\": 0,\n",
    "        \"Gymnase\" : \"$NomGymnase\", \n",
    "        \"Ville\" : \"$Ville\"\n",
    "    }},\n",
    "    { \"$sort\": {\n",
    "        \"Ville\": 1,\n",
    "        \"Gymnase\": 1\n",
    "    }}\n",
    "]))"
   ]
  },
  {
   "cell_type": "markdown",
   "metadata": {},
   "source": [
    "##### 6. Quels sportifs (identifiant et nom) ne pratiquent aucun sport ?"
   ]
  },
  {
   "cell_type": "code",
   "execution_count": 9,
   "metadata": {},
   "outputs": [
    {
     "data": {
      "text/plain": [
       "[{'Nom': 'DROULLON'},\n",
       " {'Nom': 'BELUAU'},\n",
       " {'Nom': 'FERREIRA'},\n",
       " {'Nom': 'GALLOIS'},\n",
       " {'Nom': 'LENEVEU'},\n",
       " {'Nom': 'DABON'},\n",
       " {'Nom': 'CLERICE'},\n",
       " {'Nom': 'COMES'},\n",
       " {'Nom': 'BELZ'}]"
      ]
     },
     "execution_count": 9,
     "metadata": {},
     "output_type": "execute_result"
    }
   ],
   "source": [
    "list(db.Sportifs.find(\n",
    "    {\n",
    "        \"Sports\" : { \"$exists\" : False }\n",
    "    },\n",
    "    {\n",
    "        \"_id\": 0,\n",
    "        \"Nom\":  1\n",
    "    }\n",
    "))"
   ]
  },
  {
   "cell_type": "markdown",
   "metadata": {},
   "source": [
    "##### 7. Quels gymnases n'ont pas de séances le dimanche ?"
   ]
  },
  {
   "cell_type": "code",
   "execution_count": 10,
   "metadata": {},
   "outputs": [
    {
     "data": {
      "text/plain": [
       "[{'NomGymnase': 'SAINT EXUPERY',\n",
       "  'Seances': [{'Jour': 'Mercredi'}, {'Jour': 'lundi'}, {'Jour': 'jeudi'}],\n",
       "  'Ville': 'PIERREFITTE'},\n",
       " {'NomGymnase': 'PAUL ELUARD',\n",
       "  'Seances': [{'Jour': 'Vendredi'}, {'Jour': 'mercredi'}],\n",
       "  'Ville': 'SARCELLES'},\n",
       " {'NomGymnase': 'BRASSENS',\n",
       "  'Seances': [{'Jour': 'lundi'}, {'Jour': 'jeudi'}],\n",
       "  'Ville': 'SARCELLES'},\n",
       " {'NomGymnase': 'VERLAINE',\n",
       "  'Seances': [{'Jour': 'vendredi'}, {'Jour': 'jeudi'}],\n",
       "  'Ville': 'STAINS'},\n",
       " {'NomGymnase': 'JULES FERRY', 'Ville': 'PIERREFITTE'},\n",
       " {'NomGymnase': 'CAMUS',\n",
       "  'Seances': [{'Jour': 'samedi'}],\n",
       "  'Ville': 'SARCELLES'},\n",
       " {'NomGymnase': 'LAMARTINE', 'Ville': 'PIERREFITTE'},\n",
       " {'NomGymnase': 'BREL',\n",
       "  'Seances': [{'Jour': 'lundi'}],\n",
       "  'Ville': 'PIERREFITTE'},\n",
       " {'NomGymnase': 'SAMOURAI',\n",
       "  'Seances': [{'Jour': 'lundi'},\n",
       "   {'Jour': 'Lundi'},\n",
       "   {'Jour': 'Lundi'},\n",
       "   {'Jour': 'lundi'},\n",
       "   {'Jour': 'Lundi'},\n",
       "   {'Jour': 'mercredi'}],\n",
       "  'Ville': 'SARCELLES'},\n",
       " {'NomGymnase': 'PABLO NERUDA',\n",
       "  'Seances': [{'Jour': 'lundi'},\n",
       "   {'Jour': 'mardi'},\n",
       "   {'Jour': 'mercredi'},\n",
       "   {'Jour': 'mercredi'}],\n",
       "  'Ville': 'PIERREFITTE'},\n",
       " {'NomGymnase': 'LUMIERES',\n",
       "  'Seances': [{'Jour': 'mercredi'}],\n",
       "  'Ville': 'SARCELLES'},\n",
       " {'NomGymnase': 'SIMON',\n",
       "  'Seances': [{'Jour': 'lundi'}, {'Jour': 'mardi'}, {'Jour': 'mercredi'}],\n",
       "  'Ville': 'STAINS'},\n",
       " {'NomGymnase': 'BARBARA',\n",
       "  'Seances': [{'Jour': 'mardi'}],\n",
       "  'Ville': 'SAINT DENIS'},\n",
       " {'NomGymnase': 'ARAGON', 'Ville': 'SAINT DENIS'},\n",
       " {'NomGymnase': 'BELFEGOR',\n",
       "  'Seances': [{'Jour': 'Jeudi'}, {'Jour': 'mercredi'}],\n",
       "  'Ville': 'SAINT DENIS'},\n",
       " {'NomGymnase': 'MERMOZ', 'Ville': 'VILLETANEUSE'},\n",
       " {'NomGymnase': 'PASCAL',\n",
       "  'Seances': [{'Jour': 'jeudi'}, {'Jour': 'mercredi'}, {'Jour': 'mercredi'}],\n",
       "  'Ville': 'VILLETANEUSE'}]"
      ]
     },
     "execution_count": 10,
     "metadata": {},
     "output_type": "execute_result"
    }
   ],
   "source": [
    "list(db.Gymnases.find(\n",
    "    {\n",
    "        \"Seances.Jour\" : { \"$nin\" : [ \"dimanche\", \"Dimanche\" ]}\n",
    "    },\n",
    "    {\n",
    "        \"_id\": 0,\n",
    "        \"NomGymnase\": 1,\n",
    "        \"Ville\": 1,\n",
    "        \"Seances.Jour\": 1\n",
    "    }\n",
    "))"
   ]
  },
  {
   "cell_type": "markdown",
   "metadata": {},
   "source": [
    "##### 8. Quels gymnases ne proposent que des séances de basket ball ou de volley ball ?"
   ]
  },
  {
   "cell_type": "code",
   "execution_count": 11,
   "metadata": {},
   "outputs": [
    {
     "data": {
      "text/plain": [
       "[{'NomGymnase': 'SAINT EXUPERY',\n",
       "  'Seances': [{'Libelle': 'Basket ball'},\n",
       "   {'Libelle': 'Volley ball'},\n",
       "   {'Libelle': 'Volley ball'}],\n",
       "  'Ville': 'PIERREFITTE'},\n",
       " {'NomGymnase': 'CHOPIN',\n",
       "  'Seances': [{'Libelle': 'Basket ball'}, {'Libelle': 'Volley ball'}],\n",
       "  'Ville': 'MONTMORENCY'},\n",
       " {'NomGymnase': 'BELFEGOR',\n",
       "  'Seances': [{'Libelle': 'Basket ball'}, {'Libelle': 'Volley ball'}],\n",
       "  'Ville': 'SAINT DENIS'}]"
      ]
     },
     "execution_count": 11,
     "metadata": {},
     "output_type": "execute_result"
    }
   ],
   "source": [
    "list(db.Gymnases.find(\n",
    "    {\n",
    "        \"$nor\": [\n",
    "            { \"Seances.Libelle\": { \"$ne\": \"Basket ball\" }},\n",
    "            { \"Seances.Libelle\": { \"$ne\": \"Volley ball\" }}\n",
    "        ]\n",
    "    },\n",
    "    {\n",
    "        \"_id\": 0,\n",
    "        \"NomGymnase\": 1,\n",
    "        \"Ville\": 1,\n",
    "        \"Seances.Libelle\": 1\n",
    "    }\n",
    "))"
   ]
  },
  {
   "cell_type": "markdown",
   "metadata": {},
   "source": [
    "##### 9. Quels sont les entraîneurs qui sont aussi joueurs ?"
   ]
  },
  {
   "cell_type": "code",
   "execution_count": 12,
   "metadata": {},
   "outputs": [
    {
     "data": {
      "text/plain": [
       "[{'Nom': 'BOUTAHAR'},\n",
       " {'Nom': 'KERVADEC'},\n",
       " {'Nom': 'HUE'},\n",
       " {'Nom': 'DORLEANS'},\n",
       " {'Nom': 'RETALDI'},\n",
       " {'Nom': 'GOMEZ'},\n",
       " {'Nom': 'ROUSSEL'},\n",
       " {'Nom': 'SCHINK'},\n",
       " {'Nom': 'STEMPUT'},\n",
       " {'Nom': 'VAN CAUTER'},\n",
       " {'Nom': 'TANQUE'},\n",
       " {'Nom': 'DJELOUDANE'},\n",
       " {'Nom': 'VASSEMON'},\n",
       " {'Nom': 'VALIN'},\n",
       " {'Nom': 'HEDDI'},\n",
       " {'Nom': 'KALOMBO'},\n",
       " {'Nom': 'GUERRAOUI'},\n",
       " {'Nom': 'BOISSEAU'},\n",
       " {'Nom': 'GUIGUI'},\n",
       " {'Nom': 'CLERICE'},\n",
       " {'Nom': 'TIZEGHAT'},\n",
       " {'Nom': 'LAZARRE'},\n",
       " {'Nom': 'BELZ'},\n",
       " {'Nom': 'HENRY'}]"
      ]
     },
     "execution_count": 12,
     "metadata": {},
     "output_type": "execute_result"
    }
   ],
   "source": [
    "list(db.Sportifs.find(\n",
    "    {\n",
    "        \"Sports.Jouer\" : { \"$exists\" : True },\n",
    "        \"Sports.Entrainer\" : { \"$exists\" : True }\n",
    "    },\n",
    "    {\n",
    "        \"_id\": 0,\n",
    "        \"Nom\":  1\n",
    "    }\n",
    "))"
   ]
  },
  {
   "cell_type": "markdown",
   "metadata": {},
   "source": [
    "##### 10. Quels sont les sportifs qui sont des conseillers ?"
   ]
  },
  {
   "cell_type": "code",
   "execution_count": 13,
   "metadata": {},
   "outputs": [
    {
     "data": {
      "text/plain": [
       "[{'Nom': 'BOUTAHAR'},\n",
       " {'Nom': 'KERVADEC'},\n",
       " {'Nom': 'HUE'},\n",
       " {'Nom': 'DORLEANS'},\n",
       " {'Nom': 'COMES'},\n",
       " {'Nom': 'RETALDI'},\n",
       " {'Nom': 'GOMEZ'},\n",
       " {'Nom': 'ANTUNES'},\n",
       " {'Nom': 'CAILLIOT'},\n",
       " {'Nom': 'LE BOUCHER'},\n",
       " {'Nom': 'ADIBO'},\n",
       " {'Nom': 'RICHARD'}]"
      ]
     },
     "execution_count": 13,
     "metadata": {},
     "output_type": "execute_result"
    }
   ],
   "source": [
    "list(db.Sportifs.find(\n",
    "    {\n",
    "        \"IdSportif\": { \"$in\": db.Sportifs.distinct(\"IdSportifConseiller\")}\n",
    "    },\n",
    "    {\n",
    "        \"_id\": 0,\n",
    "        \"Nom\":  1\n",
    "    }\n",
    "))"
   ]
  },
  {
   "cell_type": "markdown",
   "metadata": {},
   "source": [
    "##### 11. Pour le sportif \"Kervadec\" quel est le nom de son conseiller ?"
   ]
  },
  {
   "cell_type": "code",
   "execution_count": 14,
   "metadata": {},
   "outputs": [
    {
     "data": {
      "text/plain": [
       "[{'Age': 30,\n",
       "  'IdSportif': 1,\n",
       "  'Nom': 'BOUTAHAR',\n",
       "  'Prenom': 'Abderahim',\n",
       "  'Sexe': 'm'}]"
      ]
     },
     "execution_count": 14,
     "metadata": {},
     "output_type": "execute_result"
    }
   ],
   "source": [
    "list(db.Sportifs.find(\n",
    "    {\n",
    "        \"IdSportif\": list(db.Sportifs.find({ \"Nom\": \"KERVADEC\" }))[0][\"IdSportifConseiller\"]\n",
    "    },\n",
    "    {\n",
    "        \"_id\": 0,\n",
    "        \"Sports\": 0\n",
    "    }\n",
    "))"
   ]
  },
  {
   "cell_type": "markdown",
   "metadata": {},
   "source": [
    "##### 12. Quels entraîneurs entraînent du hand ball et du basket ball ?"
   ]
  },
  {
   "cell_type": "code",
   "execution_count": 15,
   "metadata": {},
   "outputs": [
    {
     "data": {
      "text/plain": [
       "[{'Nom': 'BOUTAHAR',\n",
       "  'Sports': {'Entrainer': ['Basket ball',\n",
       "    'Volley ball',\n",
       "    'Hand ball',\n",
       "    'Hockey',\n",
       "    'Badmington']}},\n",
       " {'Nom': 'KERVADEC',\n",
       "  'Sports': {'Entrainer': ['Basket ball',\n",
       "    'Volley ball',\n",
       "    'Hand ball',\n",
       "    'Tennis',\n",
       "    'Hockey',\n",
       "    'Badmington',\n",
       "    'Ping pong',\n",
       "    'Boxe']}},\n",
       " {'Nom': 'HUE',\n",
       "  'Sports': {'Entrainer': ['Basket ball',\n",
       "    'Volley ball',\n",
       "    'Hand ball',\n",
       "    'Badmington']}},\n",
       " {'Nom': 'DORLEANS',\n",
       "  'Sports': {'Entrainer': ['Basket ball', 'Ping pong', 'Boxe']}},\n",
       " {'Nom': 'BELZ', 'Sports': {'Entrainer': 'Basket ball'}},\n",
       " {'Nom': 'HENRY', 'Sports': {'Entrainer': ['Basket ball', 'Hand ball']}}]"
      ]
     },
     "execution_count": 15,
     "metadata": {},
     "output_type": "execute_result"
    }
   ],
   "source": [
    "list(db.Sportifs.find(\n",
    "    {\n",
    "        \"Sports.Entrainer\": \"Hand ball\", \n",
    "        \"Sports.Entrainer\": \"Basket ball\" \n",
    "    },\n",
    "    {\n",
    "        \"_id\": 0,\n",
    "        \"Nom\": 1,\n",
    "        \"Sports.Entrainer\": 1\n",
    "    }\n",
    "))"
   ]
  },
  {
   "cell_type": "code",
   "execution_count": 16,
   "metadata": {},
   "outputs": [
    {
     "data": {
      "text/plain": [
       "[{'Nom': 'BOUTAHAR',\n",
       "  'Sports': {'Entrainer': ['Basket ball',\n",
       "    'Volley ball',\n",
       "    'Hand ball',\n",
       "    'Hockey',\n",
       "    'Badmington']}},\n",
       " {'Nom': 'KERVADEC',\n",
       "  'Sports': {'Entrainer': ['Basket ball',\n",
       "    'Volley ball',\n",
       "    'Hand ball',\n",
       "    'Tennis',\n",
       "    'Hockey',\n",
       "    'Badmington',\n",
       "    'Ping pong',\n",
       "    'Boxe']}},\n",
       " {'Nom': 'HUE',\n",
       "  'Sports': {'Entrainer': ['Basket ball',\n",
       "    'Volley ball',\n",
       "    'Hand ball',\n",
       "    'Badmington']}},\n",
       " {'Nom': 'HENRY', 'Sports': {'Entrainer': ['Basket ball', 'Hand ball']}}]"
      ]
     },
     "execution_count": 16,
     "metadata": {},
     "output_type": "execute_result"
    }
   ],
   "source": [
    "list(db.Sportifs.find(\n",
    "    {\n",
    "        \"$and\": [\n",
    "            { \"Sports.Entrainer\": \"Hand ball\" }, \n",
    "            { \"Sports.Entrainer\": \"Basket ball\" }\n",
    "        ]        \n",
    "    },\n",
    "    {\n",
    "        \"_id\": 0,\n",
    "        \"Nom\": 1,\n",
    "        \"Sports.Entrainer\": 1\n",
    "    }\n",
    "))"
   ]
  },
  {
   "cell_type": "markdown",
   "metadata": {},
   "source": [
    "##### 13. Quels sont les couples de sportifs (identifiant et nom et prénom de chaque) de même age ?\n",
    "\n",
    "NE PAS FAIRE"
   ]
  },
  {
   "cell_type": "markdown",
   "metadata": {},
   "source": [
    "##### 14. Quelle est la moyenne d'âge des sportives qui pratiquent du basket ball ?"
   ]
  },
  {
   "cell_type": "code",
   "execution_count": 17,
   "metadata": {},
   "outputs": [
    {
     "data": {
      "text/plain": [
       "[{'AgeMoyen': 24.6, '_id': None}]"
      ]
     },
     "execution_count": 17,
     "metadata": {},
     "output_type": "execute_result"
    }
   ],
   "source": [
    "list(db.Sportifs.aggregate([\n",
    "    { \"$match\": { \"Sports.Jouer\": \"Basket ball\", \"Sexe\": { \"$in\": [ \"f\", \"F\" ]} }},\n",
    "    { \"$group\": { \"_id\": None, \"AgeMoyen\": { \"$avg\": \"$Age\" }}}\n",
    "]))"
   ]
  },
  {
   "cell_type": "markdown",
   "metadata": {},
   "source": [
    "##### 15. Quels sont les sportifs les plus jeunes ?"
   ]
  },
  {
   "cell_type": "code",
   "execution_count": 18,
   "metadata": {},
   "outputs": [
    {
     "data": {
      "text/plain": [
       "{'_id': None, 'agemin': 22}"
      ]
     },
     "execution_count": 18,
     "metadata": {},
     "output_type": "execute_result"
    }
   ],
   "source": [
    "# On stocke le résultat de l'aggrégation dans une variable.\n",
    "agemin = list(db.Sportifs.aggregate([ \n",
    "    { \"$group\": { \"_id\": None, \"agemin\": { \"$min\": \"$Age\" } } } \n",
    "]))[0]\n",
    "agemin"
   ]
  },
  {
   "cell_type": "code",
   "execution_count": 19,
   "metadata": {},
   "outputs": [
    {
     "data": {
      "text/plain": [
       "[{'Age': 22, 'Nom': 'COMES'},\n",
       " {'Age': 22, 'Nom': 'BOYON'},\n",
       " {'Age': 22, 'Nom': 'COLOMB'},\n",
       " {'Age': 22, 'Nom': 'LE BOUCHER'},\n",
       " {'Age': 22, 'Nom': 'ROUSSEL'},\n",
       " {'Age': 22, 'Nom': 'STEMPUT'},\n",
       " {'Age': 22, 'Nom': 'DELOVINA'},\n",
       " {'Age': 22, 'Nom': 'KALOMBO'},\n",
       " {'Age': 22, 'Nom': 'DANDOIS'},\n",
       " {'Age': 22, 'Nom': 'DEMMER'},\n",
       " {'Age': 22, 'Nom': 'MARTEL'},\n",
       " {'Age': 22, 'Nom': 'HERVIEU'},\n",
       " {'Age': 22, 'Nom': 'MICHEL'}]"
      ]
     },
     "execution_count": 19,
     "metadata": {},
     "output_type": "execute_result"
    }
   ],
   "source": [
    "# On cherche les sportifs avec `Age = agemin.agemin`.\n",
    "list(db.Sportifs.find(\n",
    "    {\n",
    "        \"Age\": agemin[\"agemin\"]\n",
    "    },\n",
    "    {\n",
    "        \"_id\": 0,\n",
    "        \"Nom\": 1,\n",
    "        \"Age\": 1\n",
    "    }\n",
    "))"
   ]
  },
  {
   "cell_type": "markdown",
   "metadata": {},
   "source": [
    "##### 16. Quels sont les gymnases de \"Stains\" ou de \"Montmorency\" qui ont la plus grande surface ?"
   ]
  },
  {
   "cell_type": "code",
   "execution_count": 20,
   "metadata": {},
   "outputs": [
    {
     "data": {
      "text/plain": [
       "[{'_id': 'SAINT DENIS', 'surfmax': 520},\n",
       " {'_id': 'STAINS', 'surfmax': 400},\n",
       " {'_id': 'MONTMORENCY', 'surfmax': 500},\n",
       " {'_id': 'GARGES', 'surfmax': 400},\n",
       " {'_id': 'VILLETANEUSE', 'surfmax': 620},\n",
       " {'_id': 'PIERREFITTE', 'surfmax': 450},\n",
       " {'_id': 'SARCELLES', 'surfmax': 620}]"
      ]
     },
     "execution_count": 20,
     "metadata": {},
     "output_type": "execute_result"
    }
   ],
   "source": [
    "# On peut chercher les plus grands gymnases de chaque ville. \n",
    "grand = list(db.Gymnases.aggregate([\n",
    "    { \"$group\": { \"_id\": \"$Ville\", \"surfmax\": { \"$max\": \"$Surface\" }} }\n",
    "]))\n",
    "grand"
   ]
  },
  {
   "cell_type": "code",
   "execution_count": 21,
   "metadata": {},
   "outputs": [],
   "source": [
    "# Ensuite, on cherche comme ci-dessus"
   ]
  },
  {
   "cell_type": "markdown",
   "metadata": {},
   "source": [
    "##### 17. Quels entraîneurs n'entraînent que du hand ball ou du basket ball ?"
   ]
  },
  {
   "cell_type": "code",
   "execution_count": 22,
   "metadata": {},
   "outputs": [
    {
     "data": {
      "text/plain": [
       "['Badmington',\n",
       " 'Basket ball',\n",
       " 'Hand ball',\n",
       " 'Hockey',\n",
       " 'Volley ball',\n",
       " 'Boxe',\n",
       " 'Ping pong',\n",
       " 'Tennis']"
      ]
     },
     "execution_count": 22,
     "metadata": {},
     "output_type": "execute_result"
    }
   ],
   "source": [
    "# On récupère la liste des sports entraînés.\n",
    "sports = db.Sportifs.distinct(\"Sports.Entrainer\")\n",
    "sports"
   ]
  },
  {
   "cell_type": "code",
   "execution_count": 23,
   "metadata": {},
   "outputs": [
    {
     "data": {
      "text/plain": [
       "['Badmington', 'Hockey', 'Volley ball', 'Boxe', 'Ping pong', 'Tennis']"
      ]
     },
     "execution_count": 23,
     "metadata": {},
     "output_type": "execute_result"
    }
   ],
   "source": [
    "# On fait un filtre pour supprimer le hand et le basket.\n",
    "autres = list(filter(lambda s: (s != \"Hand ball\") & (s != \"Basket ball\"), sports))\n",
    "autres"
   ]
  },
  {
   "cell_type": "code",
   "execution_count": 24,
   "metadata": {},
   "outputs": [
    {
     "data": {
      "text/plain": [
       "[{'Nom': 'BELZ', 'Sports': {'Entrainer': 'Basket ball'}},\n",
       " {'Nom': 'HENRY', 'Sports': {'Entrainer': ['Basket ball', 'Hand ball']}}]"
      ]
     },
     "execution_count": 24,
     "metadata": {},
     "output_type": "execute_result"
    }
   ],
   "source": [
    "# On cherche ceux qui entraîne l'un ou l'autre, mais pas d'autres sports.\n",
    "list(db.Sportifs.find(\n",
    "    {\n",
    "        \"$and\": [\n",
    "            { \"$or\": [\n",
    "                { \"Sports.Entrainer\": \"Hand ball\" },\n",
    "                { \"Sports.Entrainer\": \"Basket ball\" }\n",
    "            ] },\n",
    "            { \"Sports.Entrainer\" : { \"$nin\" : autres }}\n",
    "        ]\n",
    "    },\n",
    "    {\n",
    "        \"_id\": 0,\n",
    "        \"Nom\": 1,\n",
    "        \"Sports.Entrainer\": 1\n",
    "    }\n",
    "))"
   ]
  },
  {
   "cell_type": "markdown",
   "metadata": {},
   "source": [
    "##### 18. Quels sont les couples de sportifs (identifiant et nom et prénom de chaque) de même âge avec le même conseiller ?\n",
    "\n",
    "NE PAS FAIRE\n",
    "\n",
    "##### 19. Quels sportifs n'ont pas de conseillers ?"
   ]
  },
  {
   "cell_type": "code",
   "execution_count": 25,
   "metadata": {},
   "outputs": [
    {
     "data": {
      "text/plain": [
       "[{'Nom': 'BOUTAHAR'},\n",
       " {'Nom': 'CHAVANT'},\n",
       " {'Nom': 'CLERICE'},\n",
       " {'Nom': 'CHESNIER'},\n",
       " {'Nom': 'CHAUVIN'},\n",
       " {'Nom': 'RIQUIER'},\n",
       " {'Nom': 'BONHOMME'},\n",
       " {'Nom': 'BONE'}]"
      ]
     },
     "execution_count": 25,
     "metadata": {},
     "output_type": "execute_result"
    }
   ],
   "source": [
    "list(db.Sportifs.find(\n",
    "    {\n",
    "        \"IdSportifConseiller\": { \"$exists\": False }\n",
    "    },\n",
    "    {\n",
    "        \"_id\": 0,\n",
    "        \"Nom\": 1\n",
    "    }\n",
    "))"
   ]
  },
  {
   "cell_type": "markdown",
   "metadata": {},
   "source": [
    "##### 20. Pour chaque sportif donner le nombre de sports qu'il arbitre"
   ]
  },
  {
   "cell_type": "code",
   "execution_count": 26,
   "metadata": {},
   "outputs": [
    {
     "data": {
      "text/plain": [
       "[{'_id': 'STILO', 'nbArbitrer': 1},\n",
       " {'_id': 'RICHARD', 'nbArbitrer': 1},\n",
       " {'_id': 'LEROUX', 'nbArbitrer': 1},\n",
       " {'_id': 'TIZEGHAT', 'nbArbitrer': 1},\n",
       " {'_id': 'CLERICE', 'nbArbitrer': 1},\n",
       " {'_id': 'TANQUE', 'nbArbitrer': 1},\n",
       " {'_id': 'DORLEANS', 'nbArbitrer': 4},\n",
       " {'_id': 'ROUSSEL', 'nbArbitrer': 1},\n",
       " {'_id': 'BELZ', 'nbArbitrer': 1},\n",
       " {'_id': 'COMES', 'nbArbitrer': 1},\n",
       " {'_id': 'HUE', 'nbArbitrer': 3},\n",
       " {'_id': 'RETALDI', 'nbArbitrer': 3},\n",
       " {'_id': 'KERVADEC', 'nbArbitrer': 2},\n",
       " {'_id': 'GOMEZ', 'nbArbitrer': 3},\n",
       " {'_id': 'VAN CAUTER', 'nbArbitrer': 1},\n",
       " {'_id': 'BOUTAHAR', 'nbArbitrer': 3},\n",
       " {'_id': 'TESTEMONT', 'nbArbitrer': 1},\n",
       " {'_id': 'HENRY', 'nbArbitrer': 2},\n",
       " {'_id': 'TIENER', 'nbArbitrer': 1}]"
      ]
     },
     "execution_count": 26,
     "metadata": {},
     "output_type": "execute_result"
    }
   ],
   "source": [
    "list(db.Sportifs.aggregate([\n",
    "    { \"$match\": { \"Sports.Arbitrer\": { \"$exists\": True }}},\n",
    "    { \"$unwind\": \"$Sports.Arbitrer\"},\n",
    "    { \"$group\": { \"_id\": \"$Nom\", \"nbArbitrer\": { \"$sum\": 1 }}}\n",
    "]))"
   ]
  },
  {
   "cell_type": "markdown",
   "metadata": {},
   "source": [
    "##### 21. Pour chaque gymnase de Stains donner par jour d'ouverture les horaires des premières et dernières séances"
   ]
  },
  {
   "cell_type": "code",
   "execution_count": 27,
   "metadata": {},
   "outputs": [
    {
     "data": {
      "text/plain": [
       "[{'_id': {'jour': 'mardi', 'nom': 'SIMON'}, 'debut': 19.0, 'fin': 19.0},\n",
       " {'_id': {'jour': 'dimanche', 'nom': 'GARCIA LORCA'},\n",
       "  'debut': 17.0,\n",
       "  'fin': 18.0},\n",
       " {'_id': {'jour': 'mardi', 'nom': 'GARCIA LORCA'}, 'debut': 17.0, 'fin': 20.0},\n",
       " {'_id': {'jour': 'vendredi', 'nom': 'GARCIA LORCA'},\n",
       "  'debut': 17.3,\n",
       "  'fin': 17.3},\n",
       " {'_id': {'jour': 'lundi', 'nom': 'RAVEL'}, 'debut': 17.0, 'fin': 17.0},\n",
       " {'_id': {'jour': 'dimanche', 'nom': 'RAVEL'}, 'debut': 19.0, 'fin': 19.0},\n",
       " {'_id': {'jour': 'mardi', 'nom': 'PAUL ELUARD'}, 'debut': 17.3, 'fin': 17.3},\n",
       " {'_id': {'jour': 'dimanche', 'nom': 'PAUL ELUARD'},\n",
       "  'debut': 17.3,\n",
       "  'fin': 19.3},\n",
       " {'_id': {'jour': 'lundi', 'nom': 'PAUL ELUARD'}, 'debut': 9.0, 'fin': 20.0},\n",
       " {'_id': {'jour': 'mercredi', 'nom': 'SIMON'}, 'debut': 17.0, 'fin': 17.0},\n",
       " {'_id': {'jour': 'mercredi', 'nom': 'PAUL ELUARD'},\n",
       "  'debut': 17.0,\n",
       "  'fin': 17.3},\n",
       " {'_id': {'jour': 'samedi', 'nom': 'GARCIA LORCA'},\n",
       "  'debut': 17.3,\n",
       "  'fin': 17.3},\n",
       " {'_id': {'jour': 'samedi', 'nom': 'RIMBAUD'}, 'debut': 19.0, 'fin': 19.0},\n",
       " {'_id': {'jour': 'jeudi', 'nom': 'PAUL ELUARD'}, 'debut': 20.0, 'fin': 20.0},\n",
       " {'_id': {'jour': 'mercredi', 'nom': 'RAVEL'}, 'debut': 20.0, 'fin': 20.0},\n",
       " {'_id': {'jour': 'samedi', 'nom': 'PAUL ELUARD'}, 'debut': 9.0, 'fin': 17.3},\n",
       " {'_id': {'jour': 'vendredi', 'nom': 'VERLAINE'}, 'debut': 19.0, 'fin': 19.0},\n",
       " {'_id': {'jour': 'jeudi', 'nom': 'VERLAINE'}, 'debut': 17.0, 'fin': 17.0},\n",
       " {'_id': {'jour': 'lundi', 'nom': 'SIMON'}, 'debut': 16.3, 'fin': 16.3},\n",
       " {'_id': {'jour': 'dimanche', 'nom': 'RIMBAUD'}, 'debut': 17.0, 'fin': 19.0}]"
      ]
     },
     "execution_count": 27,
     "metadata": {},
     "output_type": "execute_result"
    }
   ],
   "source": [
    "list(db.Gymnases.aggregate([\n",
    "    { \"$match\": { \"Ville\": \"STAINS\" } },\n",
    "    { \"$unwind\": \"$Seances\" },\n",
    "    { \"$project\": { \"nom\": \"$NomGymnase\", \"jour\": { \"$toLower\": \"$Seances.Jour\" }, \"h\": \"$Seances.Horaire\"}},\n",
    "    { \"$group\": { \"_id\": { \"nom\": \"$nom\", \"jour\": \"$jour\" }, \"debut\": { \"$min\": \"$h\"}, \"fin\": { \"$max\": \"$h\" }}}\n",
    "]))"
   ]
  },
  {
   "cell_type": "markdown",
   "metadata": {},
   "source": [
    "##### 22. Pour chaque entraîneurs de hand ball quel est le nombre de séances journalières qu'il assure ?"
   ]
  },
  {
   "cell_type": "code",
   "execution_count": 28,
   "metadata": {},
   "outputs": [
    {
     "data": {
      "text/plain": [
       "[1, 2, 3, 7, 151]"
      ]
     },
     "execution_count": 28,
     "metadata": {},
     "output_type": "execute_result"
    }
   ],
   "source": [
    "# On récupère la liste des identifiants des entraîneurs de Hand.\n",
    "entraineursHand = list(db.Sportifs.find(\n",
    "    { \"Sports.Entrainer\" : \"Hand ball\" }, \n",
    "    { \"_id\": 0, \"IdSportif\": 1 }\n",
    "))\n",
    "[e[\"IdSportif\"] for e in entraineursHand]"
   ]
  },
  {
   "cell_type": "code",
   "execution_count": 29,
   "metadata": {},
   "outputs": [
    {
     "data": {
      "text/plain": [
       "[{'_id': {'entraineur': 7, 'jour': 'mardi'}, 'nbSeances': 2},\n",
       " {'_id': {'entraineur': 3, 'jour': 'mardi'}, 'nbSeances': 1},\n",
       " {'_id': {'entraineur': 3, 'jour': 'vendredi'}, 'nbSeances': 1},\n",
       " {'_id': {'entraineur': 3, 'jour': 'samedi'}, 'nbSeances': 1},\n",
       " {'_id': {'entraineur': 7, 'jour': 'lundi'}, 'nbSeances': 1},\n",
       " {'_id': {'entraineur': 7, 'jour': 'dimanche'}, 'nbSeances': 1},\n",
       " {'_id': {'entraineur': 2, 'jour': 'mardi'}, 'nbSeances': 1},\n",
       " {'_id': {'entraineur': 7, 'jour': 'jeudi'}, 'nbSeances': 1},\n",
       " {'_id': {'entraineur': 7, 'jour': 'vendredi'}, 'nbSeances': 2},\n",
       " {'_id': {'entraineur': 2, 'jour': 'dimanche'}, 'nbSeances': 2},\n",
       " {'_id': {'entraineur': 1, 'jour': 'lundi'}, 'nbSeances': 6},\n",
       " {'_id': {'entraineur': 3, 'jour': 'dimanche'}, 'nbSeances': 1},\n",
       " {'_id': {'entraineur': 2, 'jour': 'mercredi'}, 'nbSeances': 1},\n",
       " {'_id': {'entraineur': 2, 'jour': 'samedi'}, 'nbSeances': 3},\n",
       " {'_id': {'entraineur': 3, 'jour': 'jeudi'}, 'nbSeances': 1},\n",
       " {'_id': {'entraineur': 3, 'jour': 'lundi'}, 'nbSeances': 4},\n",
       " {'_id': {'entraineur': 7, 'jour': 'mercredi'}, 'nbSeances': 6},\n",
       " {'_id': {'entraineur': 7, 'jour': 'samedi'}, 'nbSeances': 2}]"
      ]
     },
     "execution_count": 29,
     "metadata": {},
     "output_type": "execute_result"
    }
   ],
   "source": [
    "# On les utilise pour faire la restriction (avec le `$match`) dans l'aggrégation.\n",
    "list(db.Gymnases.aggregate([\n",
    "    { \"$unwind\": \"$Seances\" },\n",
    "    { \"$match\": { \"Seances.IdSportifEntraineur\": { \"$in\": [e[\"IdSportif\"] for e in entraineursHand] }}},\n",
    "    { \"$project\" : { \"ent\": \"$Seances.IdSportifEntraineur\", \"jour\": { \"$toLower\": \"$Seances.Jour\"}}},\n",
    "    { \"$group\": { \"_id\": { \"entraineur\": \"$ent\", \"jour\": \"$jour\"}, \"nbSeances\": { \"$sum\": 1}}}\n",
    "]))"
   ]
  },
  {
   "cell_type": "markdown",
   "metadata": {},
   "source": [
    "##### 23. Quels sont les gymnases ayant plus de 15 séances le mercredi ?"
   ]
  },
  {
   "cell_type": "code",
   "execution_count": 30,
   "metadata": {},
   "outputs": [
    {
     "data": {
      "text/plain": [
       "[]"
      ]
     },
     "execution_count": 30,
     "metadata": {},
     "output_type": "execute_result"
    }
   ],
   "source": [
    "# A priori, il n'y en a aucun.\n",
    "list(db.Gymnases.aggregate([\n",
    "    { \"$unwind\": \"$Seances\" },\n",
    "    { \"$match\": { \"Seances.Jour\": { \"$in\": [ \"mercredi\", \"Mercredi\" ] }}},\n",
    "    { \"$group\": { \"_id\": { \"nom\": \"$NomGymnase\", \"ville\": \"$Ville\" }, \"nbMercredi\": { \"$sum\": 1 }}},\n",
    "    { \"$match\": { \"nbMercredi\": { \"$gte\": 15 }}}\n",
    "]))"
   ]
  },
  {
   "cell_type": "markdown",
   "metadata": {},
   "source": [
    "##### 24. Pour chaque gymnase de Montmorency : quel est le nombre de séances journalières de chaque sport propose ?\n",
    "\n",
    "A faire pour vous entraîner...\n",
    "\n",
    "##### 25. Dans quels gymnases et quels jours y a t-il au moins 4 séances de volley ball dans la journée ?\n",
    "\n",
    "A faire pour vous entraîner..."
   ]
  }
 ],
 "metadata": {
  "kernelspec": {
   "display_name": "Python 3",
   "language": "python",
   "name": "python3"
  },
  "language_info": {
   "codemirror_mode": {
    "name": "ipython",
    "version": 3
   },
   "file_extension": ".py",
   "mimetype": "text/x-python",
   "name": "python",
   "nbconvert_exporter": "python",
   "pygments_lexer": "ipython3",
   "version": "3.5.2"
  }
 },
 "nbformat": 4,
 "nbformat_minor": 2
}
