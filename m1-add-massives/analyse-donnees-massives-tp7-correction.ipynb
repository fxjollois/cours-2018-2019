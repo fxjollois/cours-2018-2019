{
 "cells": [
  {
   "cell_type": "markdown",
   "metadata": {},
   "source": [
    "# TP7 - Connexion à MongoDB sous `Python`\n",
    "\n",
    "#### Analyse de Données Massives - Master 1ère année\n",
    "\n",
    "On utilise dans ce *notebook* les modules `pymongo`, `pandas` et `pprint`."
   ]
  },
  {
   "cell_type": "code",
   "execution_count": 1,
   "metadata": {},
   "outputs": [],
   "source": [
    "import pymongo\n",
    "import pandas\n",
    "import pprint"
   ]
  },
  {
   "cell_type": "markdown",
   "metadata": {},
   "source": [
    "On créé ensuite la connexion vers *MongoDB*. Et on vérifie que la base `test` contient bien la collection `restaurants`."
   ]
  },
  {
   "cell_type": "code",
   "execution_count": 2,
   "metadata": {},
   "outputs": [
    {
     "data": {
      "text/plain": [
       "['restaurants', 'test', 'grades']"
      ]
     },
     "execution_count": 2,
     "metadata": {},
     "output_type": "execute_result"
    }
   ],
   "source": [
    "con = pymongo.MongoClient(\"mongodb://193.51.82.104:2343/\")\n",
    "con.test.collection_names()"
   ]
  },
  {
   "cell_type": "code",
   "execution_count": 3,
   "metadata": {},
   "outputs": [
    {
     "data": {
      "text/plain": [
       "[{'_id': ObjectId('58ac16d1a251358ee4ee87dd'),\n",
       "  'address': {'building': '1007',\n",
       "   'coord': [-73.856077, 40.848447],\n",
       "   'street': 'Morris Park Ave',\n",
       "   'zipcode': '10462'},\n",
       "  'borough': 'Bronx',\n",
       "  'cuisine': 'Bakery',\n",
       "  'grades': [{'date': datetime.datetime(2014, 3, 3, 0, 0),\n",
       "    'grade': 'A',\n",
       "    'score': 2},\n",
       "   {'date': datetime.datetime(2013, 9, 11, 0, 0), 'grade': 'A', 'score': 6},\n",
       "   {'date': datetime.datetime(2013, 1, 24, 0, 0), 'grade': 'A', 'score': 10},\n",
       "   {'date': datetime.datetime(2011, 11, 23, 0, 0), 'grade': 'A', 'score': 9},\n",
       "   {'date': datetime.datetime(2011, 3, 10, 0, 0), 'grade': 'B', 'score': 14}],\n",
       "  'name': 'Morris Park Bake Shop',\n",
       "  'restaurant_id': '30075445'}]"
      ]
     },
     "execution_count": 3,
     "metadata": {},
     "output_type": "execute_result"
    }
   ],
   "source": [
    "list(con.test.restaurants.find(limit = 1))"
   ]
  },
  {
   "cell_type": "code",
   "execution_count": 3,
   "metadata": {},
   "outputs": [],
   "source": [
    "ny = con.test.restaurants.find()"
   ]
  },
  {
   "cell_type": "code",
   "execution_count": 4,
   "metadata": {},
   "outputs": [],
   "source": [
    "ny = list(ny)"
   ]
  },
  {
   "cell_type": "code",
   "execution_count": 5,
   "metadata": {},
   "outputs": [
    {
     "data": {
      "text/plain": [
       "[{'_id': ObjectId('58ac16d1a251358ee4ee87dd'),\n",
       "  'address': {'building': '1007',\n",
       "   'coord': [-73.856077, 40.848447],\n",
       "   'street': 'Morris Park Ave',\n",
       "   'zipcode': '10462'},\n",
       "  'borough': 'Bronx',\n",
       "  'cuisine': 'Bakery',\n",
       "  'grades': [{'date': datetime.datetime(2014, 3, 3, 0, 0),\n",
       "    'grade': 'A',\n",
       "    'score': 2},\n",
       "   {'date': datetime.datetime(2013, 9, 11, 0, 0), 'grade': 'A', 'score': 6},\n",
       "   {'date': datetime.datetime(2013, 1, 24, 0, 0), 'grade': 'A', 'score': 10},\n",
       "   {'date': datetime.datetime(2011, 11, 23, 0, 0), 'grade': 'A', 'score': 9},\n",
       "   {'date': datetime.datetime(2011, 3, 10, 0, 0), 'grade': 'B', 'score': 14}],\n",
       "  'name': 'Morris Park Bake Shop',\n",
       "  'restaurant_id': '30075445'},\n",
       " {'_id': ObjectId('58ac16d1a251358ee4ee87de'),\n",
       "  'address': {'building': '469',\n",
       "   'coord': [-73.961704, 40.662942],\n",
       "   'street': 'Flatbush Avenue',\n",
       "   'zipcode': '11225'},\n",
       "  'borough': 'Brooklyn',\n",
       "  'cuisine': 'Hamburgers',\n",
       "  'grades': [{'date': datetime.datetime(2014, 12, 30, 0, 0),\n",
       "    'grade': 'A',\n",
       "    'score': 8},\n",
       "   {'date': datetime.datetime(2014, 7, 1, 0, 0), 'grade': 'B', 'score': 23},\n",
       "   {'date': datetime.datetime(2013, 4, 30, 0, 0), 'grade': 'A', 'score': 12},\n",
       "   {'date': datetime.datetime(2012, 5, 8, 0, 0), 'grade': 'A', 'score': 12}],\n",
       "  'name': \"Wendy'S\",\n",
       "  'restaurant_id': '30112340'},\n",
       " {'_id': ObjectId('58ac16d1a251358ee4ee87df'),\n",
       "  'address': {'building': '351',\n",
       "   'coord': [-73.98513559999999, 40.7676919],\n",
       "   'street': 'West   57 Street',\n",
       "   'zipcode': '10019'},\n",
       "  'borough': 'Manhattan',\n",
       "  'cuisine': 'Irish',\n",
       "  'grades': [{'date': datetime.datetime(2014, 9, 6, 0, 0),\n",
       "    'grade': 'A',\n",
       "    'score': 2},\n",
       "   {'date': datetime.datetime(2013, 7, 22, 0, 0), 'grade': 'A', 'score': 11},\n",
       "   {'date': datetime.datetime(2012, 7, 31, 0, 0), 'grade': 'A', 'score': 12},\n",
       "   {'date': datetime.datetime(2011, 12, 29, 0, 0), 'grade': 'A', 'score': 12}],\n",
       "  'name': 'Dj Reynolds Pub And Restaurant',\n",
       "  'restaurant_id': '30191841'},\n",
       " {'_id': ObjectId('58ac16d1a251358ee4ee87e0'),\n",
       "  'address': {'building': '2780',\n",
       "   'coord': [-73.98241999999999, 40.579505],\n",
       "   'street': 'Stillwell Avenue',\n",
       "   'zipcode': '11224'},\n",
       "  'borough': 'Brooklyn',\n",
       "  'cuisine': 'American',\n",
       "  'grades': [{'date': datetime.datetime(2014, 6, 10, 0, 0),\n",
       "    'grade': 'A',\n",
       "    'score': 5},\n",
       "   {'date': datetime.datetime(2013, 6, 5, 0, 0), 'grade': 'A', 'score': 7},\n",
       "   {'date': datetime.datetime(2012, 4, 13, 0, 0), 'grade': 'A', 'score': 12},\n",
       "   {'date': datetime.datetime(2011, 10, 12, 0, 0), 'grade': 'A', 'score': 12}],\n",
       "  'name': 'Riviera Caterer',\n",
       "  'restaurant_id': '40356018'},\n",
       " {'_id': ObjectId('58ac16d1a251358ee4ee87e1'),\n",
       "  'address': {'building': '97-22',\n",
       "   'coord': [-73.8601152, 40.7311739],\n",
       "   'street': '63 Road',\n",
       "   'zipcode': '11374'},\n",
       "  'borough': 'Queens',\n",
       "  'cuisine': 'Jewish/Kosher',\n",
       "  'grades': [{'date': datetime.datetime(2014, 11, 24, 0, 0),\n",
       "    'grade': 'Z',\n",
       "    'score': 20},\n",
       "   {'date': datetime.datetime(2013, 1, 17, 0, 0), 'grade': 'A', 'score': 13},\n",
       "   {'date': datetime.datetime(2012, 8, 2, 0, 0), 'grade': 'A', 'score': 13},\n",
       "   {'date': datetime.datetime(2011, 12, 15, 0, 0), 'grade': 'B', 'score': 25}],\n",
       "  'name': 'Tov Kosher Kitchen',\n",
       "  'restaurant_id': '40356068'}]"
      ]
     },
     "execution_count": 5,
     "metadata": {},
     "output_type": "execute_result"
    }
   ],
   "source": [
    "ny[:5]"
   ]
  },
  {
   "cell_type": "code",
   "execution_count": 6,
   "metadata": {},
   "outputs": [
    {
     "data": {
      "text/plain": [
       "[{'address': {'building': '1007',\n",
       "   'coord': [-73.856077, 40.848447],\n",
       "   'street': 'Morris Park Ave',\n",
       "   'zipcode': '10462'},\n",
       "  'borough': 'Bronx',\n",
       "  'cuisine': 'Bakery',\n",
       "  'grades': [{'date': datetime.datetime(2014, 3, 3, 0, 0),\n",
       "    'grade': 'A',\n",
       "    'score': 2},\n",
       "   {'date': datetime.datetime(2013, 9, 11, 0, 0), 'grade': 'A', 'score': 6},\n",
       "   {'date': datetime.datetime(2013, 1, 24, 0, 0), 'grade': 'A', 'score': 10},\n",
       "   {'date': datetime.datetime(2011, 11, 23, 0, 0), 'grade': 'A', 'score': 9},\n",
       "   {'date': datetime.datetime(2011, 3, 10, 0, 0), 'grade': 'B', 'score': 14}],\n",
       "  'name': 'Morris Park Bake Shop',\n",
       "  'restaurant_id': '30075445'},\n",
       " {'address': {'building': '469',\n",
       "   'coord': [-73.961704, 40.662942],\n",
       "   'street': 'Flatbush Avenue',\n",
       "   'zipcode': '11225'},\n",
       "  'borough': 'Brooklyn',\n",
       "  'cuisine': 'Hamburgers',\n",
       "  'grades': [{'date': datetime.datetime(2014, 12, 30, 0, 0),\n",
       "    'grade': 'A',\n",
       "    'score': 8},\n",
       "   {'date': datetime.datetime(2014, 7, 1, 0, 0), 'grade': 'B', 'score': 23},\n",
       "   {'date': datetime.datetime(2013, 4, 30, 0, 0), 'grade': 'A', 'score': 12},\n",
       "   {'date': datetime.datetime(2012, 5, 8, 0, 0), 'grade': 'A', 'score': 12}],\n",
       "  'name': \"Wendy'S\",\n",
       "  'restaurant_id': '30112340'},\n",
       " {'address': {'building': '351',\n",
       "   'coord': [-73.98513559999999, 40.7676919],\n",
       "   'street': 'West   57 Street',\n",
       "   'zipcode': '10019'},\n",
       "  'borough': 'Manhattan',\n",
       "  'cuisine': 'Irish',\n",
       "  'grades': [{'date': datetime.datetime(2014, 9, 6, 0, 0),\n",
       "    'grade': 'A',\n",
       "    'score': 2},\n",
       "   {'date': datetime.datetime(2013, 7, 22, 0, 0), 'grade': 'A', 'score': 11},\n",
       "   {'date': datetime.datetime(2012, 7, 31, 0, 0), 'grade': 'A', 'score': 12},\n",
       "   {'date': datetime.datetime(2011, 12, 29, 0, 0), 'grade': 'A', 'score': 12}],\n",
       "  'name': 'Dj Reynolds Pub And Restaurant',\n",
       "  'restaurant_id': '30191841'},\n",
       " {'address': {'building': '2780',\n",
       "   'coord': [-73.98241999999999, 40.579505],\n",
       "   'street': 'Stillwell Avenue',\n",
       "   'zipcode': '11224'},\n",
       "  'borough': 'Brooklyn',\n",
       "  'cuisine': 'American',\n",
       "  'grades': [{'date': datetime.datetime(2014, 6, 10, 0, 0),\n",
       "    'grade': 'A',\n",
       "    'score': 5},\n",
       "   {'date': datetime.datetime(2013, 6, 5, 0, 0), 'grade': 'A', 'score': 7},\n",
       "   {'date': datetime.datetime(2012, 4, 13, 0, 0), 'grade': 'A', 'score': 12},\n",
       "   {'date': datetime.datetime(2011, 10, 12, 0, 0), 'grade': 'A', 'score': 12}],\n",
       "  'name': 'Riviera Caterer',\n",
       "  'restaurant_id': '40356018'},\n",
       " {'address': {'building': '97-22',\n",
       "   'coord': [-73.8601152, 40.7311739],\n",
       "   'street': '63 Road',\n",
       "   'zipcode': '11374'},\n",
       "  'borough': 'Queens',\n",
       "  'cuisine': 'Jewish/Kosher',\n",
       "  'grades': [{'date': datetime.datetime(2014, 11, 24, 0, 0),\n",
       "    'grade': 'Z',\n",
       "    'score': 20},\n",
       "   {'date': datetime.datetime(2013, 1, 17, 0, 0), 'grade': 'A', 'score': 13},\n",
       "   {'date': datetime.datetime(2012, 8, 2, 0, 0), 'grade': 'A', 'score': 13},\n",
       "   {'date': datetime.datetime(2011, 12, 15, 0, 0), 'grade': 'B', 'score': 25}],\n",
       "  'name': 'Tov Kosher Kitchen',\n",
       "  'restaurant_id': '40356068'}]"
      ]
     },
     "execution_count": 6,
     "metadata": {},
     "output_type": "execute_result"
    }
   ],
   "source": [
    "ny_bis = [{k:v for k,v in a.items() if k != \"_id\"} for a in ny]\n",
    "ny_bis[:5]"
   ]
  },
  {
   "cell_type": "code",
   "execution_count": 14,
   "metadata": {},
   "outputs": [
    {
     "ename": "TypeError",
     "evalue": "the JSON object must be str, not 'list'",
     "output_type": "error",
     "traceback": [
      "\u001b[0;31m---------------------------------------------------------------------------\u001b[0m",
      "\u001b[0;31mTypeError\u001b[0m                                 Traceback (most recent call last)",
      "\u001b[0;32m<ipython-input-14-256d8446d05c>\u001b[0m in \u001b[0;36m<module>\u001b[0;34m()\u001b[0m\n\u001b[1;32m      1\u001b[0m \u001b[0;32mfrom\u001b[0m \u001b[0mbson\u001b[0m\u001b[0;34m.\u001b[0m\u001b[0mjson_util\u001b[0m \u001b[0;32mimport\u001b[0m \u001b[0mloads\u001b[0m\u001b[0;34m\u001b[0m\u001b[0m\n\u001b[0;32m----> 2\u001b[0;31m \u001b[0mny_test\u001b[0m \u001b[0;34m=\u001b[0m \u001b[0mloads\u001b[0m\u001b[0;34m(\u001b[0m\u001b[0mny_bis\u001b[0m\u001b[0;34m)\u001b[0m\u001b[0;34m\u001b[0m\u001b[0m\n\u001b[0m\u001b[1;32m      3\u001b[0m \u001b[0mny_test\u001b[0m\u001b[0;34m[\u001b[0m\u001b[0;34m:\u001b[0m\u001b[0;36m1\u001b[0m\u001b[0;34m]\u001b[0m\u001b[0;34m\u001b[0m\u001b[0m\n",
      "\u001b[0;32m/usr/local/lib/python3.5/dist-packages/bson/json_util.py\u001b[0m in \u001b[0;36mloads\u001b[0;34m(s, *args, **kwargs)\u001b[0m\n\u001b[1;32m    436\u001b[0m     \u001b[0;32melse\u001b[0m\u001b[0;34m:\u001b[0m\u001b[0;34m\u001b[0m\u001b[0m\n\u001b[1;32m    437\u001b[0m         \u001b[0mkwargs\u001b[0m\u001b[0;34m[\u001b[0m\u001b[0;34m\"object_hook\"\u001b[0m\u001b[0;34m]\u001b[0m \u001b[0;34m=\u001b[0m \u001b[0;32mlambda\u001b[0m \u001b[0mobj\u001b[0m\u001b[0;34m:\u001b[0m \u001b[0mobject_hook\u001b[0m\u001b[0;34m(\u001b[0m\u001b[0mobj\u001b[0m\u001b[0;34m,\u001b[0m \u001b[0mjson_options\u001b[0m\u001b[0;34m)\u001b[0m\u001b[0;34m\u001b[0m\u001b[0m\n\u001b[0;32m--> 438\u001b[0;31m     \u001b[0;32mreturn\u001b[0m \u001b[0mjson\u001b[0m\u001b[0;34m.\u001b[0m\u001b[0mloads\u001b[0m\u001b[0;34m(\u001b[0m\u001b[0ms\u001b[0m\u001b[0;34m,\u001b[0m \u001b[0;34m*\u001b[0m\u001b[0margs\u001b[0m\u001b[0;34m,\u001b[0m \u001b[0;34m**\u001b[0m\u001b[0mkwargs\u001b[0m\u001b[0;34m)\u001b[0m\u001b[0;34m\u001b[0m\u001b[0m\n\u001b[0m\u001b[1;32m    439\u001b[0m \u001b[0;34m\u001b[0m\u001b[0m\n\u001b[1;32m    440\u001b[0m \u001b[0;34m\u001b[0m\u001b[0m\n",
      "\u001b[0;32m/usr/lib/python3.5/json/__init__.py\u001b[0m in \u001b[0;36mloads\u001b[0;34m(s, encoding, cls, object_hook, parse_float, parse_int, parse_constant, object_pairs_hook, **kw)\u001b[0m\n\u001b[1;32m    310\u001b[0m     \u001b[0;32mif\u001b[0m \u001b[0;32mnot\u001b[0m \u001b[0misinstance\u001b[0m\u001b[0;34m(\u001b[0m\u001b[0ms\u001b[0m\u001b[0;34m,\u001b[0m \u001b[0mstr\u001b[0m\u001b[0;34m)\u001b[0m\u001b[0;34m:\u001b[0m\u001b[0;34m\u001b[0m\u001b[0m\n\u001b[1;32m    311\u001b[0m         raise TypeError('the JSON object must be str, not {!r}'.format(\n\u001b[0;32m--> 312\u001b[0;31m                             s.__class__.__name__))\n\u001b[0m\u001b[1;32m    313\u001b[0m     \u001b[0;32mif\u001b[0m \u001b[0ms\u001b[0m\u001b[0;34m.\u001b[0m\u001b[0mstartswith\u001b[0m\u001b[0;34m(\u001b[0m\u001b[0;34mu'\\ufeff'\u001b[0m\u001b[0;34m)\u001b[0m\u001b[0;34m:\u001b[0m\u001b[0;34m\u001b[0m\u001b[0m\n\u001b[1;32m    314\u001b[0m         raise JSONDecodeError(\"Unexpected UTF-8 BOM (decode using utf-8-sig)\",\n",
      "\u001b[0;31mTypeError\u001b[0m: the JSON object must be str, not 'list'"
     ]
    }
   ],
   "source": [
    "from bson.json_util import loads\n",
    "ny_test = loads(ny_bis)\n",
    "ny_test[:1]"
   ]
  },
  {
   "cell_type": "code",
   "execution_count": 15,
   "metadata": {},
   "outputs": [
    {
     "data": {
      "text/plain": [
       "[{'_id': ObjectId('58ac16d1a251358ee4ee87dd'),\n",
       "  'address': {'building': '1007',\n",
       "   'coord': [-73.856077, 40.848447],\n",
       "   'street': 'Morris Park Ave',\n",
       "   'zipcode': '10462'},\n",
       "  'borough': 'Bronx',\n",
       "  'cuisine': 'Bakery',\n",
       "  'grades': [{'date': datetime.datetime(2014, 3, 3, 0, 0),\n",
       "    'grade': 'A',\n",
       "    'score': 2},\n",
       "   {'date': datetime.datetime(2013, 9, 11, 0, 0), 'grade': 'A', 'score': 6},\n",
       "   {'date': datetime.datetime(2013, 1, 24, 0, 0), 'grade': 'A', 'score': 10},\n",
       "   {'date': datetime.datetime(2011, 11, 23, 0, 0), 'grade': 'A', 'score': 9},\n",
       "   {'date': datetime.datetime(2011, 3, 10, 0, 0), 'grade': 'B', 'score': 14}],\n",
       "  'name': 'Morris Park Bake Shop',\n",
       "  'restaurant_id': '30075445'},\n",
       " {'_id': ObjectId('58ac16d1a251358ee4ee87de'),\n",
       "  'address': {'building': '469',\n",
       "   'coord': [-73.961704, 40.662942],\n",
       "   'street': 'Flatbush Avenue',\n",
       "   'zipcode': '11225'},\n",
       "  'borough': 'Brooklyn',\n",
       "  'cuisine': 'Hamburgers',\n",
       "  'grades': [{'date': datetime.datetime(2014, 12, 30, 0, 0),\n",
       "    'grade': 'A',\n",
       "    'score': 8},\n",
       "   {'date': datetime.datetime(2014, 7, 1, 0, 0), 'grade': 'B', 'score': 23},\n",
       "   {'date': datetime.datetime(2013, 4, 30, 0, 0), 'grade': 'A', 'score': 12},\n",
       "   {'date': datetime.datetime(2012, 5, 8, 0, 0), 'grade': 'A', 'score': 12}],\n",
       "  'name': \"Wendy'S\",\n",
       "  'restaurant_id': '30112340'},\n",
       " {'_id': ObjectId('58ac16d1a251358ee4ee87df'),\n",
       "  'address': {'building': '351',\n",
       "   'coord': [-73.98513559999999, 40.7676919],\n",
       "   'street': 'West   57 Street',\n",
       "   'zipcode': '10019'},\n",
       "  'borough': 'Manhattan',\n",
       "  'cuisine': 'Irish',\n",
       "  'grades': [{'date': datetime.datetime(2014, 9, 6, 0, 0),\n",
       "    'grade': 'A',\n",
       "    'score': 2},\n",
       "   {'date': datetime.datetime(2013, 7, 22, 0, 0), 'grade': 'A', 'score': 11},\n",
       "   {'date': datetime.datetime(2012, 7, 31, 0, 0), 'grade': 'A', 'score': 12},\n",
       "   {'date': datetime.datetime(2011, 12, 29, 0, 0), 'grade': 'A', 'score': 12}],\n",
       "  'name': 'Dj Reynolds Pub And Restaurant',\n",
       "  'restaurant_id': '30191841'},\n",
       " {'_id': ObjectId('58ac16d1a251358ee4ee87e0'),\n",
       "  'address': {'building': '2780',\n",
       "   'coord': [-73.98241999999999, 40.579505],\n",
       "   'street': 'Stillwell Avenue',\n",
       "   'zipcode': '11224'},\n",
       "  'borough': 'Brooklyn',\n",
       "  'cuisine': 'American',\n",
       "  'grades': [{'date': datetime.datetime(2014, 6, 10, 0, 0),\n",
       "    'grade': 'A',\n",
       "    'score': 5},\n",
       "   {'date': datetime.datetime(2013, 6, 5, 0, 0), 'grade': 'A', 'score': 7},\n",
       "   {'date': datetime.datetime(2012, 4, 13, 0, 0), 'grade': 'A', 'score': 12},\n",
       "   {'date': datetime.datetime(2011, 10, 12, 0, 0), 'grade': 'A', 'score': 12}],\n",
       "  'name': 'Riviera Caterer',\n",
       "  'restaurant_id': '40356018'},\n",
       " {'_id': ObjectId('58ac16d1a251358ee4ee87e1'),\n",
       "  'address': {'building': '97-22',\n",
       "   'coord': [-73.8601152, 40.7311739],\n",
       "   'street': '63 Road',\n",
       "   'zipcode': '11374'},\n",
       "  'borough': 'Queens',\n",
       "  'cuisine': 'Jewish/Kosher',\n",
       "  'grades': [{'date': datetime.datetime(2014, 11, 24, 0, 0),\n",
       "    'grade': 'Z',\n",
       "    'score': 20},\n",
       "   {'date': datetime.datetime(2013, 1, 17, 0, 0), 'grade': 'A', 'score': 13},\n",
       "   {'date': datetime.datetime(2012, 8, 2, 0, 0), 'grade': 'A', 'score': 13},\n",
       "   {'date': datetime.datetime(2011, 12, 15, 0, 0), 'grade': 'B', 'score': 25}],\n",
       "  'name': 'Tov Kosher Kitchen',\n",
       "  'restaurant_id': '40356068'}]"
      ]
     },
     "execution_count": 15,
     "metadata": {},
     "output_type": "execute_result"
    }
   ],
   "source": [
    "import bson\n",
    "with open('restaurants.bson','rb') as f:\n",
    "    data = bson.decode_all(f.read())\n",
    "data[:5]"
   ]
  },
  {
   "cell_type": "code",
   "execution_count": 12,
   "metadata": {
    "scrolled": true
   },
   "outputs": [
    {
     "ename": "TypeError",
     "evalue": "datetime.datetime(2014, 3, 3, 0, 0) is not JSON serializable",
     "output_type": "error",
     "traceback": [
      "\u001b[0;31m---------------------------------------------------------------------------\u001b[0m",
      "\u001b[0;31mTypeError\u001b[0m                                 Traceback (most recent call last)",
      "\u001b[0;32m<ipython-input-12-a7135523966b>\u001b[0m in \u001b[0;36m<module>\u001b[0;34m()\u001b[0m\n\u001b[1;32m      1\u001b[0m \u001b[0;32mimport\u001b[0m \u001b[0mjson\u001b[0m\u001b[0;34m\u001b[0m\u001b[0m\n\u001b[0;32m----> 2\u001b[0;31m \u001b[0mny_json\u001b[0m \u001b[0;34m=\u001b[0m \u001b[0mjson\u001b[0m\u001b[0;34m.\u001b[0m\u001b[0mdumps\u001b[0m\u001b[0;34m(\u001b[0m\u001b[0mny_bis\u001b[0m\u001b[0;34m)\u001b[0m\u001b[0;34m\u001b[0m\u001b[0m\n\u001b[0m",
      "\u001b[0;32m/usr/lib/python3.5/json/__init__.py\u001b[0m in \u001b[0;36mdumps\u001b[0;34m(obj, skipkeys, ensure_ascii, check_circular, allow_nan, cls, indent, separators, default, sort_keys, **kw)\u001b[0m\n\u001b[1;32m    228\u001b[0m         \u001b[0mcls\u001b[0m \u001b[0;32mis\u001b[0m \u001b[0;32mNone\u001b[0m \u001b[0;32mand\u001b[0m \u001b[0mindent\u001b[0m \u001b[0;32mis\u001b[0m \u001b[0;32mNone\u001b[0m \u001b[0;32mand\u001b[0m \u001b[0mseparators\u001b[0m \u001b[0;32mis\u001b[0m \u001b[0;32mNone\u001b[0m \u001b[0;32mand\u001b[0m\u001b[0;34m\u001b[0m\u001b[0m\n\u001b[1;32m    229\u001b[0m         default is None and not sort_keys and not kw):\n\u001b[0;32m--> 230\u001b[0;31m         \u001b[0;32mreturn\u001b[0m \u001b[0m_default_encoder\u001b[0m\u001b[0;34m.\u001b[0m\u001b[0mencode\u001b[0m\u001b[0;34m(\u001b[0m\u001b[0mobj\u001b[0m\u001b[0;34m)\u001b[0m\u001b[0;34m\u001b[0m\u001b[0m\n\u001b[0m\u001b[1;32m    231\u001b[0m     \u001b[0;32mif\u001b[0m \u001b[0mcls\u001b[0m \u001b[0;32mis\u001b[0m \u001b[0;32mNone\u001b[0m\u001b[0;34m:\u001b[0m\u001b[0;34m\u001b[0m\u001b[0m\n\u001b[1;32m    232\u001b[0m         \u001b[0mcls\u001b[0m \u001b[0;34m=\u001b[0m \u001b[0mJSONEncoder\u001b[0m\u001b[0;34m\u001b[0m\u001b[0m\n",
      "\u001b[0;32m/usr/lib/python3.5/json/encoder.py\u001b[0m in \u001b[0;36mencode\u001b[0;34m(self, o)\u001b[0m\n\u001b[1;32m    196\u001b[0m         \u001b[0;31m# exceptions aren't as detailed.  The list call should be roughly\u001b[0m\u001b[0;34m\u001b[0m\u001b[0;34m\u001b[0m\u001b[0m\n\u001b[1;32m    197\u001b[0m         \u001b[0;31m# equivalent to the PySequence_Fast that ''.join() would do.\u001b[0m\u001b[0;34m\u001b[0m\u001b[0;34m\u001b[0m\u001b[0m\n\u001b[0;32m--> 198\u001b[0;31m         \u001b[0mchunks\u001b[0m \u001b[0;34m=\u001b[0m \u001b[0mself\u001b[0m\u001b[0;34m.\u001b[0m\u001b[0miterencode\u001b[0m\u001b[0;34m(\u001b[0m\u001b[0mo\u001b[0m\u001b[0;34m,\u001b[0m \u001b[0m_one_shot\u001b[0m\u001b[0;34m=\u001b[0m\u001b[0;32mTrue\u001b[0m\u001b[0;34m)\u001b[0m\u001b[0;34m\u001b[0m\u001b[0m\n\u001b[0m\u001b[1;32m    199\u001b[0m         \u001b[0;32mif\u001b[0m \u001b[0;32mnot\u001b[0m \u001b[0misinstance\u001b[0m\u001b[0;34m(\u001b[0m\u001b[0mchunks\u001b[0m\u001b[0;34m,\u001b[0m \u001b[0;34m(\u001b[0m\u001b[0mlist\u001b[0m\u001b[0;34m,\u001b[0m \u001b[0mtuple\u001b[0m\u001b[0;34m)\u001b[0m\u001b[0;34m)\u001b[0m\u001b[0;34m:\u001b[0m\u001b[0;34m\u001b[0m\u001b[0m\n\u001b[1;32m    200\u001b[0m             \u001b[0mchunks\u001b[0m \u001b[0;34m=\u001b[0m \u001b[0mlist\u001b[0m\u001b[0;34m(\u001b[0m\u001b[0mchunks\u001b[0m\u001b[0;34m)\u001b[0m\u001b[0;34m\u001b[0m\u001b[0m\n",
      "\u001b[0;32m/usr/lib/python3.5/json/encoder.py\u001b[0m in \u001b[0;36miterencode\u001b[0;34m(self, o, _one_shot)\u001b[0m\n\u001b[1;32m    254\u001b[0m                 \u001b[0mself\u001b[0m\u001b[0;34m.\u001b[0m\u001b[0mkey_separator\u001b[0m\u001b[0;34m,\u001b[0m \u001b[0mself\u001b[0m\u001b[0;34m.\u001b[0m\u001b[0mitem_separator\u001b[0m\u001b[0;34m,\u001b[0m \u001b[0mself\u001b[0m\u001b[0;34m.\u001b[0m\u001b[0msort_keys\u001b[0m\u001b[0;34m,\u001b[0m\u001b[0;34m\u001b[0m\u001b[0m\n\u001b[1;32m    255\u001b[0m                 self.skipkeys, _one_shot)\n\u001b[0;32m--> 256\u001b[0;31m         \u001b[0;32mreturn\u001b[0m \u001b[0m_iterencode\u001b[0m\u001b[0;34m(\u001b[0m\u001b[0mo\u001b[0m\u001b[0;34m,\u001b[0m \u001b[0;36m0\u001b[0m\u001b[0;34m)\u001b[0m\u001b[0;34m\u001b[0m\u001b[0m\n\u001b[0m\u001b[1;32m    257\u001b[0m \u001b[0;34m\u001b[0m\u001b[0m\n\u001b[1;32m    258\u001b[0m def _make_iterencode(markers, _default, _encoder, _indent, _floatstr,\n",
      "\u001b[0;32m/usr/lib/python3.5/json/encoder.py\u001b[0m in \u001b[0;36mdefault\u001b[0;34m(self, o)\u001b[0m\n\u001b[1;32m    177\u001b[0m \u001b[0;34m\u001b[0m\u001b[0m\n\u001b[1;32m    178\u001b[0m         \"\"\"\n\u001b[0;32m--> 179\u001b[0;31m         \u001b[0;32mraise\u001b[0m \u001b[0mTypeError\u001b[0m\u001b[0;34m(\u001b[0m\u001b[0mrepr\u001b[0m\u001b[0;34m(\u001b[0m\u001b[0mo\u001b[0m\u001b[0;34m)\u001b[0m \u001b[0;34m+\u001b[0m \u001b[0;34m\" is not JSON serializable\"\u001b[0m\u001b[0;34m)\u001b[0m\u001b[0;34m\u001b[0m\u001b[0m\n\u001b[0m\u001b[1;32m    180\u001b[0m \u001b[0;34m\u001b[0m\u001b[0m\n\u001b[1;32m    181\u001b[0m     \u001b[0;32mdef\u001b[0m \u001b[0mencode\u001b[0m\u001b[0;34m(\u001b[0m\u001b[0mself\u001b[0m\u001b[0;34m,\u001b[0m \u001b[0mo\u001b[0m\u001b[0;34m)\u001b[0m\u001b[0;34m:\u001b[0m\u001b[0;34m\u001b[0m\u001b[0m\n",
      "\u001b[0;31mTypeError\u001b[0m: datetime.datetime(2014, 3, 3, 0, 0) is not JSON serializable"
     ]
    }
   ],
   "source": [
    "import json\n",
    "ny_json = json.dumps(ny_bis)"
   ]
  },
  {
   "cell_type": "markdown",
   "metadata": {},
   "source": [
    "On va aussi utiliser ici la fonction `affiche()` créée dans le TP pour améliorer la lisibilité de l'affichage des résultats."
   ]
  },
  {
   "cell_type": "code",
   "execution_count": 5,
   "metadata": {},
   "outputs": [],
   "source": [
    "def affiche(res):\n",
    "    for r in res:\n",
    "        pprint.pprint(r)"
   ]
  },
  {
   "cell_type": "markdown",
   "metadata": {},
   "source": [
    "## Exercices\n",
    "\n",
    "Nous allons utiliser la base de données `test`, dans laquelle se trouve la collection `restaurants`. Celle-ci est composée de plus de 25000 retaurants new-yorkais, avec des évaluations de ceux-ci.\n",
    "\n",
    "### 1. Créer une connexion vers cette collection\n",
    "\n",
    "On peut complétement simplfier l'écriture des requêtes à suivre en faisant la connexion directement avec la collection `restaurants`."
   ]
  },
  {
   "cell_type": "code",
   "execution_count": 6,
   "metadata": {},
   "outputs": [],
   "source": [
    "db = con.test.restaurants"
   ]
  },
  {
   "cell_type": "markdown",
   "metadata": {},
   "source": [
    "### 2. Déterminer le nombre exact de restaurants.\n",
    "\n",
    "Un simple dénombrement est à faire ici."
   ]
  },
  {
   "cell_type": "code",
   "execution_count": 7,
   "metadata": {},
   "outputs": [
    {
     "data": {
      "text/plain": [
       "25359"
      ]
     },
     "execution_count": 7,
     "metadata": {},
     "output_type": "execute_result"
    }
   ],
   "source": [
    "db.count()"
   ]
  },
  {
   "cell_type": "markdown",
   "metadata": {},
   "source": [
    "### 3. Lister les différents quartiers représentés (*borough*) ainsi que les différents types de  cuisine (*cuisine*).\n",
    "\n",
    "On utilise la fonction `distinct()` ici pour lister les différentes valeurs de `borough`. On remarque que pour certains restaurants le quartier n'est pas connu."
   ]
  },
  {
   "cell_type": "code",
   "execution_count": 8,
   "metadata": {},
   "outputs": [
    {
     "data": {
      "text/plain": [
       "['Bronx', 'Brooklyn', 'Manhattan', 'Queens', 'Staten Island', 'Missing']"
      ]
     },
     "execution_count": 8,
     "metadata": {},
     "output_type": "execute_result"
    }
   ],
   "source": [
    "db.distinct(\"borough\")"
   ]
  },
  {
   "cell_type": "markdown",
   "metadata": {},
   "source": [
    "Idem pour lister les (nombreux) différents types de cuisine. On stocke le résultat dans une variable pour dénombrer les styles (`85`). Et nous n'affichons que les 10 premiers pour exemple."
   ]
  },
  {
   "cell_type": "code",
   "execution_count": 9,
   "metadata": {},
   "outputs": [
    {
     "data": {
      "text/plain": [
       "85"
      ]
     },
     "execution_count": 9,
     "metadata": {},
     "output_type": "execute_result"
    }
   ],
   "source": [
    "type_cuisine = db.distinct(\"cuisine\")\n",
    "len(type_cuisine)"
   ]
  },
  {
   "cell_type": "code",
   "execution_count": 10,
   "metadata": {},
   "outputs": [
    {
     "data": {
      "text/plain": [
       "['Bakery',\n",
       " 'Hamburgers',\n",
       " 'Irish',\n",
       " 'American',\n",
       " 'Jewish/Kosher',\n",
       " 'Delicatessen',\n",
       " 'Ice Cream, Gelato, Yogurt, Ices',\n",
       " 'Chinese',\n",
       " 'Chicken',\n",
       " 'Turkish']"
      ]
     },
     "execution_count": 10,
     "metadata": {},
     "output_type": "execute_result"
    }
   ],
   "source": [
    "type_cuisine[:10]"
   ]
  },
  {
   "cell_type": "markdown",
   "metadata": {},
   "source": [
    "### 4. Lister les noms des restaurants, ainsi que leur quartier, ne proposant que des soupes (*cuisine* égale à *Soups*).\n",
    "\n",
    "C'est la fonction `find()` qui nous permet de récupérer ces informations (4 restaurants)."
   ]
  },
  {
   "cell_type": "code",
   "execution_count": 14,
   "metadata": {},
   "outputs": [
    {
     "data": {
      "text/plain": [
       "[{'borough': 'Manhattan', 'name': 'Wichcraft Express'},\n",
       " {'borough': 'Staten Island', 'name': 'Original Soupman Of Staten Island'},\n",
       " {'borough': 'Manhattan', 'name': 'The Original Soupman'},\n",
       " {'borough': 'Manhattan', 'name': 'Peasant Stock'}]"
      ]
     },
     "execution_count": 14,
     "metadata": {},
     "output_type": "execute_result"
    }
   ],
   "source": [
    "res = db.find({ \"cuisine\": \"Soups\" }, { \"_id\": 0, \"name\": 1, \"borough\": 1})\n",
    "list(res)"
   ]
  },
  {
   "cell_type": "markdown",
   "metadata": {},
   "source": [
    "### 5. Donner le nombre de restaurants ayant eu au moins une fois le *grade* (dans *grades*) `Z`.\n",
    "\n",
    "Pour cela, nous pouvons déjà nous retreindre aux restaurants ayant eu le *grade* `Z`, puis nous comptons la taille du résultat avec `count()`."
   ]
  },
  {
   "cell_type": "code",
   "execution_count": 15,
   "metadata": {},
   "outputs": [
    {
     "data": {
      "text/plain": [
       "1337"
      ]
     },
     "execution_count": 15,
     "metadata": {},
     "output_type": "execute_result"
    }
   ],
   "source": [
    "db.find({ \"grades.grade\": \"Z\"}).count()"
   ]
  },
  {
   "cell_type": "markdown",
   "metadata": {},
   "source": [
    "### 6. Calculer le nombre de restaurants pour chaque quartier\n",
    "\n",
    "Ici, un aggrégat basique est à faire, avec `aggregate()`. La plupart sont dans *Manhattan*, mais on remarque aussi qu'on a 51 restaurants sans quartier connu."
   ]
  },
  {
   "cell_type": "code",
   "execution_count": 18,
   "metadata": {},
   "outputs": [
    {
     "data": {
      "text/html": [
       "<div>\n",
       "<style scoped>\n",
       "    .dataframe tbody tr th:only-of-type {\n",
       "        vertical-align: middle;\n",
       "    }\n",
       "\n",
       "    .dataframe tbody tr th {\n",
       "        vertical-align: top;\n",
       "    }\n",
       "\n",
       "    .dataframe thead th {\n",
       "        text-align: right;\n",
       "    }\n",
       "</style>\n",
       "<table border=\"1\" class=\"dataframe\">\n",
       "  <thead>\n",
       "    <tr style=\"text-align: right;\">\n",
       "      <th></th>\n",
       "      <th>Quartier</th>\n",
       "      <th>Nb restaurants</th>\n",
       "    </tr>\n",
       "  </thead>\n",
       "  <tbody>\n",
       "    <tr>\n",
       "      <th>0</th>\n",
       "      <td>Missing</td>\n",
       "      <td>51</td>\n",
       "    </tr>\n",
       "    <tr>\n",
       "      <th>1</th>\n",
       "      <td>Staten Island</td>\n",
       "      <td>969</td>\n",
       "    </tr>\n",
       "    <tr>\n",
       "      <th>2</th>\n",
       "      <td>Brooklyn</td>\n",
       "      <td>6086</td>\n",
       "    </tr>\n",
       "    <tr>\n",
       "      <th>3</th>\n",
       "      <td>Bronx</td>\n",
       "      <td>2338</td>\n",
       "    </tr>\n",
       "    <tr>\n",
       "      <th>4</th>\n",
       "      <td>Queens</td>\n",
       "      <td>5656</td>\n",
       "    </tr>\n",
       "    <tr>\n",
       "      <th>5</th>\n",
       "      <td>Manhattan</td>\n",
       "      <td>10259</td>\n",
       "    </tr>\n",
       "  </tbody>\n",
       "</table>\n",
       "</div>"
      ],
      "text/plain": [
       "        Quartier  Nb restaurants\n",
       "0        Missing              51\n",
       "1  Staten Island             969\n",
       "2       Brooklyn            6086\n",
       "3          Bronx            2338\n",
       "4         Queens            5656\n",
       "5      Manhattan           10259"
      ]
     },
     "execution_count": 18,
     "metadata": {},
     "output_type": "execute_result"
    }
   ],
   "source": [
    "res = db.aggregate([ { \"$group\": { \"_id\": \"$borough\", \"nb\": { \"$sum\": 1 } } } ])\n",
    "pandas.DataFrame(list(res)).rename(columns = {\"_id\": \"Quartier\", \"nb\": \"Nb restaurants\"})"
   ]
  },
  {
   "cell_type": "markdown",
   "metadata": {},
   "source": [
    "### 7. Donner les cinq types de cuisine les plus présentes dans New-York (avec le plus de restaurants donc)\n",
    "\n",
    "En plus d'un calcul d'aggrégat avec `$group`, on tri le résultat par ordre décroissant sur le nombre et on se limite aux 5 premières valeurs avec `$limit`."
   ]
  },
  {
   "cell_type": "code",
   "execution_count": 19,
   "metadata": {},
   "outputs": [
    {
     "data": {
      "text/html": [
       "<div>\n",
       "<style scoped>\n",
       "    .dataframe tbody tr th:only-of-type {\n",
       "        vertical-align: middle;\n",
       "    }\n",
       "\n",
       "    .dataframe tbody tr th {\n",
       "        vertical-align: top;\n",
       "    }\n",
       "\n",
       "    .dataframe thead th {\n",
       "        text-align: right;\n",
       "    }\n",
       "</style>\n",
       "<table border=\"1\" class=\"dataframe\">\n",
       "  <thead>\n",
       "    <tr style=\"text-align: right;\">\n",
       "      <th></th>\n",
       "      <th>Cuisine</th>\n",
       "      <th>Nb restaurants</th>\n",
       "    </tr>\n",
       "  </thead>\n",
       "  <tbody>\n",
       "    <tr>\n",
       "      <th>0</th>\n",
       "      <td>American</td>\n",
       "      <td>6183</td>\n",
       "    </tr>\n",
       "    <tr>\n",
       "      <th>1</th>\n",
       "      <td>Chinese</td>\n",
       "      <td>2418</td>\n",
       "    </tr>\n",
       "    <tr>\n",
       "      <th>2</th>\n",
       "      <td>Café/Coffee/Tea</td>\n",
       "      <td>1214</td>\n",
       "    </tr>\n",
       "    <tr>\n",
       "      <th>3</th>\n",
       "      <td>Pizza</td>\n",
       "      <td>1163</td>\n",
       "    </tr>\n",
       "    <tr>\n",
       "      <th>4</th>\n",
       "      <td>Italian</td>\n",
       "      <td>1069</td>\n",
       "    </tr>\n",
       "  </tbody>\n",
       "</table>\n",
       "</div>"
      ],
      "text/plain": [
       "           Cuisine  Nb restaurants\n",
       "0         American            6183\n",
       "1          Chinese            2418\n",
       "2  Café/Coffee/Tea            1214\n",
       "3            Pizza            1163\n",
       "4          Italian            1069"
      ]
     },
     "execution_count": 19,
     "metadata": {},
     "output_type": "execute_result"
    }
   ],
   "source": [
    "res = db.aggregate([ \n",
    "    { \"$group\": { \"_id\": \"$cuisine\" , \"nb\" : { \"$sum\" : 1 } } },\n",
    "    { \"$sort\" : { \"nb\": -1 } },\n",
    "    { \"$limit\" : 5 }\n",
    "])\n",
    "pandas.DataFrame(list(res)).rename(columns = {\"_id\": \"Cuisine\", \"nb\": \"Nb restaurants\"})"
   ]
  },
  {
   "cell_type": "markdown",
   "metadata": {},
   "source": [
    "### 8. Pour chaque *grade* possible, donner le *score* moyen, minimum et maximum.\n",
    "\n",
    "Il faut d'abord dégrouper les évaluations pour chaque restaurant grâce à `$unwind`. Ensuite, c'est un calcul assez simple à réaliser."
   ]
  },
  {
   "cell_type": "code",
   "execution_count": 20,
   "metadata": {},
   "outputs": [
    {
     "data": {
      "text/html": [
       "<div>\n",
       "<style scoped>\n",
       "    .dataframe tbody tr th:only-of-type {\n",
       "        vertical-align: middle;\n",
       "    }\n",
       "\n",
       "    .dataframe tbody tr th {\n",
       "        vertical-align: top;\n",
       "    }\n",
       "\n",
       "    .dataframe thead th {\n",
       "        text-align: right;\n",
       "    }\n",
       "</style>\n",
       "<table border=\"1\" class=\"dataframe\">\n",
       "  <thead>\n",
       "    <tr style=\"text-align: right;\">\n",
       "      <th></th>\n",
       "      <th>Grade</th>\n",
       "      <th>Nb restaurants</th>\n",
       "      <th>Score moyen</th>\n",
       "      <th>Score  minimum</th>\n",
       "      <th>Score maximum</th>\n",
       "    </tr>\n",
       "  </thead>\n",
       "  <tbody>\n",
       "    <tr>\n",
       "      <th>0</th>\n",
       "      <td>P</td>\n",
       "      <td>1197</td>\n",
       "      <td>5.51</td>\n",
       "      <td>0</td>\n",
       "      <td>43</td>\n",
       "    </tr>\n",
       "    <tr>\n",
       "      <th>1</th>\n",
       "      <td>A</td>\n",
       "      <td>74656</td>\n",
       "      <td>9.02</td>\n",
       "      <td>0</td>\n",
       "      <td>27</td>\n",
       "    </tr>\n",
       "    <tr>\n",
       "      <th>2</th>\n",
       "      <td>Not Yet Graded</td>\n",
       "      <td>525</td>\n",
       "      <td>15.85</td>\n",
       "      <td>0</td>\n",
       "      <td>75</td>\n",
       "    </tr>\n",
       "    <tr>\n",
       "      <th>3</th>\n",
       "      <td>B</td>\n",
       "      <td>12603</td>\n",
       "      <td>20.00</td>\n",
       "      <td>-1</td>\n",
       "      <td>57</td>\n",
       "    </tr>\n",
       "    <tr>\n",
       "      <th>4</th>\n",
       "      <td>Z</td>\n",
       "      <td>1337</td>\n",
       "      <td>23.70</td>\n",
       "      <td>-1</td>\n",
       "      <td>71</td>\n",
       "    </tr>\n",
       "    <tr>\n",
       "      <th>5</th>\n",
       "      <td>C</td>\n",
       "      <td>3145</td>\n",
       "      <td>30.70</td>\n",
       "      <td>-1</td>\n",
       "      <td>131</td>\n",
       "    </tr>\n",
       "  </tbody>\n",
       "</table>\n",
       "</div>"
      ],
      "text/plain": [
       "            Grade  Nb restaurants  Score moyen  Score  minimum  Score maximum\n",
       "0               P            1197         5.51               0             43\n",
       "1               A           74656         9.02               0             27\n",
       "2  Not Yet Graded             525        15.85               0             75\n",
       "3               B           12603        20.00              -1             57\n",
       "4               Z            1337        23.70              -1             71\n",
       "5               C            3145        30.70              -1            131"
      ]
     },
     "execution_count": 20,
     "metadata": {},
     "output_type": "execute_result"
    }
   ],
   "source": [
    "res = db.aggregate([\n",
    "    { \"$unwind\" : \"$grades\"},\n",
    "    { \"$group\" : { \n",
    "        \"_id\": \"$grades.grade\", \n",
    "        \"nb\" : { \"$sum\" : 1 },\n",
    "        \"moy\" : { \"$avg\" : \"$grades.score\" },\n",
    "        \"min\" : { \"$min\" : \"$grades.score\" },\n",
    "        \"max\" : { \"$max\" : \"$grades.score\" }\n",
    "    } }\n",
    "])\n",
    "pandas.DataFrame(list(res), columns = [\"_id\", \"nb\", \"moy\", \"min\", \"max\"]).rename(columns = {\n",
    "    \"_id\": \"Grade\", \"nb\": \"Nb restaurants\",\n",
    "    \"moy\": \"Score moyen\", \"min\": \"Score  minimum\", \"max\": \"Score maximum\"\n",
    "}).round(2)"
   ]
  },
  {
   "cell_type": "markdown",
   "metadata": {},
   "source": [
    "### 9. Créer un `DataFrame` contenant les restaurants en ligne et en colonne le score moyen obtenu pour chaque *grade* possible. Si un restaurant n'a pas eu d'évaluation d'un *grade*, nous aurons une valeur absente.\n",
    "\n",
    "Si nous regardons le nombre de restaurants par nom de ceux-ci, nous remarquons qu'il y a des restaurants avec le même nom (des chaînes comme *Starbucks* ou *Subway* par exemple)."
   ]
  },
  {
   "cell_type": "code",
   "execution_count": 26,
   "metadata": {},
   "outputs": [
    {
     "data": {
      "text/html": [
       "<div>\n",
       "<style scoped>\n",
       "    .dataframe tbody tr th:only-of-type {\n",
       "        vertical-align: middle;\n",
       "    }\n",
       "\n",
       "    .dataframe tbody tr th {\n",
       "        vertical-align: top;\n",
       "    }\n",
       "\n",
       "    .dataframe thead th {\n",
       "        text-align: right;\n",
       "    }\n",
       "</style>\n",
       "<table border=\"1\" class=\"dataframe\">\n",
       "  <thead>\n",
       "    <tr style=\"text-align: right;\">\n",
       "      <th></th>\n",
       "      <th>_id</th>\n",
       "      <th>nb</th>\n",
       "    </tr>\n",
       "  </thead>\n",
       "  <tbody>\n",
       "    <tr>\n",
       "      <th>0</th>\n",
       "      <td>Subway</td>\n",
       "      <td>421</td>\n",
       "    </tr>\n",
       "    <tr>\n",
       "      <th>1</th>\n",
       "      <td>Starbucks Coffee</td>\n",
       "      <td>223</td>\n",
       "    </tr>\n",
       "    <tr>\n",
       "      <th>2</th>\n",
       "      <td>Mcdonald'S</td>\n",
       "      <td>208</td>\n",
       "    </tr>\n",
       "    <tr>\n",
       "      <th>3</th>\n",
       "      <td>Dunkin' Donuts</td>\n",
       "      <td>206</td>\n",
       "    </tr>\n",
       "    <tr>\n",
       "      <th>4</th>\n",
       "      <td>Dunkin Donuts</td>\n",
       "      <td>200</td>\n",
       "    </tr>\n",
       "    <tr>\n",
       "      <th>5</th>\n",
       "      <td></td>\n",
       "      <td>151</td>\n",
       "    </tr>\n",
       "    <tr>\n",
       "      <th>6</th>\n",
       "      <td>Kennedy Fried Chicken</td>\n",
       "      <td>88</td>\n",
       "    </tr>\n",
       "    <tr>\n",
       "      <th>7</th>\n",
       "      <td>Crown Fried Chicken</td>\n",
       "      <td>81</td>\n",
       "    </tr>\n",
       "    <tr>\n",
       "      <th>8</th>\n",
       "      <td>Burger King</td>\n",
       "      <td>80</td>\n",
       "    </tr>\n",
       "    <tr>\n",
       "      <th>9</th>\n",
       "      <td>Domino'S Pizza</td>\n",
       "      <td>67</td>\n",
       "    </tr>\n",
       "  </tbody>\n",
       "</table>\n",
       "</div>"
      ],
      "text/plain": [
       "                     _id   nb\n",
       "0                 Subway  421\n",
       "1       Starbucks Coffee  223\n",
       "2             Mcdonald'S  208\n",
       "3         Dunkin' Donuts  206\n",
       "4          Dunkin Donuts  200\n",
       "5                         151\n",
       "6  Kennedy Fried Chicken   88\n",
       "7    Crown Fried Chicken   81\n",
       "8            Burger King   80\n",
       "9         Domino'S Pizza   67"
      ]
     },
     "execution_count": 26,
     "metadata": {},
     "output_type": "execute_result"
    }
   ],
   "source": [
    "res = db.aggregate([\n",
    "    { \"$group\": { \"_id\": \"$name\", \"nb\": { \"$sum\": 1 } } },\n",
    "    { \"$sort\": { \"nb\": -1 } },\n",
    "    { \"$limit\": 10 }\n",
    "])\n",
    "pandas.DataFrame(list(res))"
   ]
  },
  {
   "cell_type": "markdown",
   "metadata": {},
   "source": [
    "Nous allons donc faire un regroupement par identifiant de restaurant (`restaurant_id`) et par `grade`, pour calculer le score moyen. Nous voyons ici les premiers résultats de l'aggrégation."
   ]
  },
  {
   "cell_type": "code",
   "execution_count": 46,
   "metadata": {},
   "outputs": [],
   "source": [
    "res = db.aggregate([\n",
    "    { \"$unwind\": \"$grades\" },\n",
    "    { \"$group\": { \n",
    "        \"_id\": { \"id\": \"$restaurant_id\", \"grade\": \"$grades.grade\" },\n",
    "        \"m\": { \"$avg\": \"$grades.score\" }\n",
    "    }}\n",
    "])"
   ]
  },
  {
   "cell_type": "markdown",
   "metadata": {},
   "source": [
    "Ensuite, on créé un `DataFrame` à partir du résultat, en récupérant les sous-variables *à la main*. Ce qui nous donne à la fin le `DataFrame` suivant."
   ]
  },
  {
   "cell_type": "code",
   "execution_count": 47,
   "metadata": {},
   "outputs": [
    {
     "data": {
      "text/html": [
       "<div>\n",
       "<style scoped>\n",
       "    .dataframe tbody tr th:only-of-type {\n",
       "        vertical-align: middle;\n",
       "    }\n",
       "\n",
       "    .dataframe tbody tr th {\n",
       "        vertical-align: top;\n",
       "    }\n",
       "\n",
       "    .dataframe thead th {\n",
       "        text-align: right;\n",
       "    }\n",
       "</style>\n",
       "<table border=\"1\" class=\"dataframe\">\n",
       "  <thead>\n",
       "    <tr style=\"text-align: right;\">\n",
       "      <th></th>\n",
       "      <th>_id</th>\n",
       "      <th>m</th>\n",
       "      <th>ID</th>\n",
       "      <th>Grade</th>\n",
       "    </tr>\n",
       "  </thead>\n",
       "  <tbody>\n",
       "    <tr>\n",
       "      <th>0</th>\n",
       "      <td>{'grade': 'Not Yet Graded', 'id': '50018704'}</td>\n",
       "      <td>34.0</td>\n",
       "      <td>50018704</td>\n",
       "      <td>Not Yet Graded</td>\n",
       "    </tr>\n",
       "    <tr>\n",
       "      <th>1</th>\n",
       "      <td>{'grade': 'A', 'id': '50018608'}</td>\n",
       "      <td>12.0</td>\n",
       "      <td>50018608</td>\n",
       "      <td>A</td>\n",
       "    </tr>\n",
       "    <tr>\n",
       "      <th>2</th>\n",
       "      <td>{'grade': 'Not Yet Graded', 'id': '50018587'}</td>\n",
       "      <td>2.0</td>\n",
       "      <td>50018587</td>\n",
       "      <td>Not Yet Graded</td>\n",
       "    </tr>\n",
       "    <tr>\n",
       "      <th>3</th>\n",
       "      <td>{'grade': 'A', 'id': '50018581'}</td>\n",
       "      <td>5.0</td>\n",
       "      <td>50018581</td>\n",
       "      <td>A</td>\n",
       "    </tr>\n",
       "    <tr>\n",
       "      <th>4</th>\n",
       "      <td>{'grade': 'Not Yet Graded', 'id': '50018572'}</td>\n",
       "      <td>8.0</td>\n",
       "      <td>50018572</td>\n",
       "      <td>Not Yet Graded</td>\n",
       "    </tr>\n",
       "  </tbody>\n",
       "</table>\n",
       "</div>"
      ],
      "text/plain": [
       "                                             _id     m        ID  \\\n",
       "0  {'grade': 'Not Yet Graded', 'id': '50018704'}  34.0  50018704   \n",
       "1               {'grade': 'A', 'id': '50018608'}  12.0  50018608   \n",
       "2  {'grade': 'Not Yet Graded', 'id': '50018587'}   2.0  50018587   \n",
       "3               {'grade': 'A', 'id': '50018581'}   5.0  50018581   \n",
       "4  {'grade': 'Not Yet Graded', 'id': '50018572'}   8.0  50018572   \n",
       "\n",
       "            Grade  \n",
       "0  Not Yet Graded  \n",
       "1               A  \n",
       "2  Not Yet Graded  \n",
       "3               A  \n",
       "4  Not Yet Graded  "
      ]
     },
     "execution_count": 47,
     "metadata": {},
     "output_type": "execute_result"
    }
   ],
   "source": [
    "df = pandas.DataFrame(list(res))\n",
    "df[\"ID\"] = [id[\"id\"] for id in df._id]\n",
    "df[\"Grade\"] = [id[\"grade\"] for id in df._id]\n",
    "df.head().round(2)"
   ]
  },
  {
   "cell_type": "markdown",
   "metadata": {},
   "source": [
    "Il faut maintenant transformer ce `DataFrame` en utilisant la fonction `pivot_table()` du module `pandas`. Cette fonction prend quatre paramètres :\n",
    "\n",
    "- `df` : le `DataFrame` sur lequel faire le pivot\n",
    "- `index` : identifiant de chaque ligne (ici, l'identifiant des restaurants)\n",
    "- `columns` : noms des colonnes (ici, chaque grade) \n",
    "- `value` : valeurs des cellules (ici, score moyen pour un restaurant pour un grade)"
   ]
  },
  {
   "cell_type": "code",
   "execution_count": 48,
   "metadata": {},
   "outputs": [
    {
     "data": {
      "text/html": [
       "<div>\n",
       "<style scoped>\n",
       "    .dataframe tbody tr th:only-of-type {\n",
       "        vertical-align: middle;\n",
       "    }\n",
       "\n",
       "    .dataframe tbody tr th {\n",
       "        vertical-align: top;\n",
       "    }\n",
       "\n",
       "    .dataframe thead th {\n",
       "        text-align: right;\n",
       "    }\n",
       "</style>\n",
       "<table border=\"1\" class=\"dataframe\">\n",
       "  <thead>\n",
       "    <tr style=\"text-align: right;\">\n",
       "      <th>Grade</th>\n",
       "      <th>A</th>\n",
       "      <th>B</th>\n",
       "      <th>C</th>\n",
       "      <th>Not Yet Graded</th>\n",
       "      <th>P</th>\n",
       "      <th>Z</th>\n",
       "    </tr>\n",
       "    <tr>\n",
       "      <th>ID</th>\n",
       "      <th></th>\n",
       "      <th></th>\n",
       "      <th></th>\n",
       "      <th></th>\n",
       "      <th></th>\n",
       "      <th></th>\n",
       "    </tr>\n",
       "  </thead>\n",
       "  <tbody>\n",
       "    <tr>\n",
       "      <th>30075445</th>\n",
       "      <td>6.8</td>\n",
       "      <td>14.0</td>\n",
       "      <td>NaN</td>\n",
       "      <td>NaN</td>\n",
       "      <td>NaN</td>\n",
       "      <td>NaN</td>\n",
       "    </tr>\n",
       "    <tr>\n",
       "      <th>30112340</th>\n",
       "      <td>10.7</td>\n",
       "      <td>23.0</td>\n",
       "      <td>NaN</td>\n",
       "      <td>NaN</td>\n",
       "      <td>NaN</td>\n",
       "      <td>NaN</td>\n",
       "    </tr>\n",
       "    <tr>\n",
       "      <th>30191841</th>\n",
       "      <td>9.2</td>\n",
       "      <td>NaN</td>\n",
       "      <td>NaN</td>\n",
       "      <td>NaN</td>\n",
       "      <td>NaN</td>\n",
       "      <td>NaN</td>\n",
       "    </tr>\n",
       "    <tr>\n",
       "      <th>40356018</th>\n",
       "      <td>9.0</td>\n",
       "      <td>NaN</td>\n",
       "      <td>NaN</td>\n",
       "      <td>NaN</td>\n",
       "      <td>NaN</td>\n",
       "      <td>NaN</td>\n",
       "    </tr>\n",
       "    <tr>\n",
       "      <th>40356068</th>\n",
       "      <td>13.0</td>\n",
       "      <td>25.0</td>\n",
       "      <td>NaN</td>\n",
       "      <td>NaN</td>\n",
       "      <td>NaN</td>\n",
       "      <td>20.0</td>\n",
       "    </tr>\n",
       "    <tr>\n",
       "      <th>40356151</th>\n",
       "      <td>10.0</td>\n",
       "      <td>NaN</td>\n",
       "      <td>NaN</td>\n",
       "      <td>NaN</td>\n",
       "      <td>NaN</td>\n",
       "      <td>38.0</td>\n",
       "    </tr>\n",
       "    <tr>\n",
       "      <th>40356442</th>\n",
       "      <td>10.5</td>\n",
       "      <td>NaN</td>\n",
       "      <td>NaN</td>\n",
       "      <td>NaN</td>\n",
       "      <td>NaN</td>\n",
       "      <td>NaN</td>\n",
       "    </tr>\n",
       "    <tr>\n",
       "      <th>40356483</th>\n",
       "      <td>10.0</td>\n",
       "      <td>NaN</td>\n",
       "      <td>NaN</td>\n",
       "      <td>NaN</td>\n",
       "      <td>NaN</td>\n",
       "      <td>NaN</td>\n",
       "    </tr>\n",
       "    <tr>\n",
       "      <th>40356649</th>\n",
       "      <td>9.6</td>\n",
       "      <td>NaN</td>\n",
       "      <td>NaN</td>\n",
       "      <td>NaN</td>\n",
       "      <td>NaN</td>\n",
       "      <td>NaN</td>\n",
       "    </tr>\n",
       "    <tr>\n",
       "      <th>40356731</th>\n",
       "      <td>8.2</td>\n",
       "      <td>NaN</td>\n",
       "      <td>NaN</td>\n",
       "      <td>NaN</td>\n",
       "      <td>NaN</td>\n",
       "      <td>NaN</td>\n",
       "    </tr>\n",
       "  </tbody>\n",
       "</table>\n",
       "</div>"
      ],
      "text/plain": [
       "Grade        A     B   C  Not Yet Graded   P     Z\n",
       "ID                                                \n",
       "30075445   6.8  14.0 NaN             NaN NaN   NaN\n",
       "30112340  10.7  23.0 NaN             NaN NaN   NaN\n",
       "30191841   9.2   NaN NaN             NaN NaN   NaN\n",
       "40356018   9.0   NaN NaN             NaN NaN   NaN\n",
       "40356068  13.0  25.0 NaN             NaN NaN  20.0\n",
       "40356151  10.0   NaN NaN             NaN NaN  38.0\n",
       "40356442  10.5   NaN NaN             NaN NaN   NaN\n",
       "40356483  10.0   NaN NaN             NaN NaN   NaN\n",
       "40356649   9.6   NaN NaN             NaN NaN   NaN\n",
       "40356731   8.2   NaN NaN             NaN NaN   NaN"
      ]
     },
     "execution_count": 48,
     "metadata": {},
     "output_type": "execute_result"
    }
   ],
   "source": [
    "dfbis = pandas.pivot_table(df, index = 'ID', columns = 'Grade', values = 'm')\n",
    "dfbis.head(10).round(1)"
   ]
  },
  {
   "cell_type": "markdown",
   "metadata": {},
   "source": [
    "Au final, nous regardons les informations de notre `DataFrame` ainsi créé. Nous remarquons que la plupart ont eu un grade `A`, et plusieurs n'ont pas encore été évalué."
   ]
  },
  {
   "cell_type": "code",
   "execution_count": 49,
   "metadata": {},
   "outputs": [
    {
     "data": {
      "text/plain": [
       "(24621, 6)"
      ]
     },
     "execution_count": 49,
     "metadata": {},
     "output_type": "execute_result"
    }
   ],
   "source": [
    "dfbis.shape"
   ]
  },
  {
   "cell_type": "code",
   "execution_count": 50,
   "metadata": {},
   "outputs": [
    {
     "data": {
      "text/plain": [
       "Grade\n",
       "A                 23440\n",
       "B                  8280\n",
       "C                  2708\n",
       "Not Yet Graded      512\n",
       "P                  1154\n",
       "Z                  1337\n",
       "dtype: int64"
      ]
     },
     "execution_count": 50,
     "metadata": {},
     "output_type": "execute_result"
    }
   ],
   "source": [
    "dfbis.count()"
   ]
  },
  {
   "cell_type": "markdown",
   "metadata": {},
   "source": [
    "Nous récupérons ici les informations des restaurants (nom - `name` - et quartier - `borough`) pour les ajouter à notre table précédente. Ici, nous récupérons juste les informations que l'on souhaite."
   ]
  },
  {
   "cell_type": "code",
   "execution_count": 53,
   "metadata": {},
   "outputs": [
    {
     "data": {
      "text/html": [
       "<div>\n",
       "<style scoped>\n",
       "    .dataframe tbody tr th:only-of-type {\n",
       "        vertical-align: middle;\n",
       "    }\n",
       "\n",
       "    .dataframe tbody tr th {\n",
       "        vertical-align: top;\n",
       "    }\n",
       "\n",
       "    .dataframe thead th {\n",
       "        text-align: right;\n",
       "    }\n",
       "</style>\n",
       "<table border=\"1\" class=\"dataframe\">\n",
       "  <thead>\n",
       "    <tr style=\"text-align: right;\">\n",
       "      <th></th>\n",
       "      <th>Quartier</th>\n",
       "      <th>Nom</th>\n",
       "      <th>ID</th>\n",
       "    </tr>\n",
       "  </thead>\n",
       "  <tbody>\n",
       "    <tr>\n",
       "      <th>0</th>\n",
       "      <td>Bronx</td>\n",
       "      <td>Morris Park Bake Shop</td>\n",
       "      <td>30075445</td>\n",
       "    </tr>\n",
       "    <tr>\n",
       "      <th>1</th>\n",
       "      <td>Brooklyn</td>\n",
       "      <td>Wendy'S</td>\n",
       "      <td>30112340</td>\n",
       "    </tr>\n",
       "    <tr>\n",
       "      <th>2</th>\n",
       "      <td>Manhattan</td>\n",
       "      <td>Dj Reynolds Pub And Restaurant</td>\n",
       "      <td>30191841</td>\n",
       "    </tr>\n",
       "    <tr>\n",
       "      <th>3</th>\n",
       "      <td>Brooklyn</td>\n",
       "      <td>Riviera Caterer</td>\n",
       "      <td>40356018</td>\n",
       "    </tr>\n",
       "    <tr>\n",
       "      <th>4</th>\n",
       "      <td>Queens</td>\n",
       "      <td>Tov Kosher Kitchen</td>\n",
       "      <td>40356068</td>\n",
       "    </tr>\n",
       "  </tbody>\n",
       "</table>\n",
       "</div>"
      ],
      "text/plain": [
       "    Quartier                             Nom        ID\n",
       "0      Bronx           Morris Park Bake Shop  30075445\n",
       "1   Brooklyn                         Wendy'S  30112340\n",
       "2  Manhattan  Dj Reynolds Pub And Restaurant  30191841\n",
       "3   Brooklyn                 Riviera Caterer  40356018\n",
       "4     Queens              Tov Kosher Kitchen  40356068"
      ]
     },
     "execution_count": 53,
     "metadata": {},
     "output_type": "execute_result"
    }
   ],
   "source": [
    "infos = db.find({}, { \"_id\": 0, \"restaurant_id\": 1, \"name\": 1, \"borough\": 1 })\n",
    "infos_df = pandas.DataFrame(list(infos)).rename(columns = { \"restaurant_id\": \"ID\", \"name\": \"Nom\", \"borough\": \"Quartier\" })\n",
    "infos_df.head()"
   ]
  },
  {
   "cell_type": "markdown",
   "metadata": {},
   "source": [
    "Pour réaliser une jointure, nous avons la fonction `join()` qui réalise une jointure sur les `index` des lignes par défaut. La fonction `set_index()` permet de définir cet `index` de lignes pour les informations des restaurants, avant de faire la jointure."
   ]
  },
  {
   "cell_type": "code",
   "execution_count": 54,
   "metadata": {},
   "outputs": [
    {
     "data": {
      "text/html": [
       "<div>\n",
       "<style scoped>\n",
       "    .dataframe tbody tr th:only-of-type {\n",
       "        vertical-align: middle;\n",
       "    }\n",
       "\n",
       "    .dataframe tbody tr th {\n",
       "        vertical-align: top;\n",
       "    }\n",
       "\n",
       "    .dataframe thead th {\n",
       "        text-align: right;\n",
       "    }\n",
       "</style>\n",
       "<table border=\"1\" class=\"dataframe\">\n",
       "  <thead>\n",
       "    <tr style=\"text-align: right;\">\n",
       "      <th></th>\n",
       "      <th>A</th>\n",
       "      <th>B</th>\n",
       "      <th>C</th>\n",
       "      <th>Not Yet Graded</th>\n",
       "      <th>P</th>\n",
       "      <th>Z</th>\n",
       "      <th>Quartier</th>\n",
       "      <th>Nom</th>\n",
       "    </tr>\n",
       "    <tr>\n",
       "      <th>ID</th>\n",
       "      <th></th>\n",
       "      <th></th>\n",
       "      <th></th>\n",
       "      <th></th>\n",
       "      <th></th>\n",
       "      <th></th>\n",
       "      <th></th>\n",
       "      <th></th>\n",
       "    </tr>\n",
       "  </thead>\n",
       "  <tbody>\n",
       "    <tr>\n",
       "      <th>30075445</th>\n",
       "      <td>6.750000</td>\n",
       "      <td>14.0</td>\n",
       "      <td>NaN</td>\n",
       "      <td>NaN</td>\n",
       "      <td>NaN</td>\n",
       "      <td>NaN</td>\n",
       "      <td>Bronx</td>\n",
       "      <td>Morris Park Bake Shop</td>\n",
       "    </tr>\n",
       "    <tr>\n",
       "      <th>30112340</th>\n",
       "      <td>10.666667</td>\n",
       "      <td>23.0</td>\n",
       "      <td>NaN</td>\n",
       "      <td>NaN</td>\n",
       "      <td>NaN</td>\n",
       "      <td>NaN</td>\n",
       "      <td>Brooklyn</td>\n",
       "      <td>Wendy'S</td>\n",
       "    </tr>\n",
       "    <tr>\n",
       "      <th>30191841</th>\n",
       "      <td>9.250000</td>\n",
       "      <td>NaN</td>\n",
       "      <td>NaN</td>\n",
       "      <td>NaN</td>\n",
       "      <td>NaN</td>\n",
       "      <td>NaN</td>\n",
       "      <td>Manhattan</td>\n",
       "      <td>Dj Reynolds Pub And Restaurant</td>\n",
       "    </tr>\n",
       "    <tr>\n",
       "      <th>40356018</th>\n",
       "      <td>9.000000</td>\n",
       "      <td>NaN</td>\n",
       "      <td>NaN</td>\n",
       "      <td>NaN</td>\n",
       "      <td>NaN</td>\n",
       "      <td>NaN</td>\n",
       "      <td>Brooklyn</td>\n",
       "      <td>Riviera Caterer</td>\n",
       "    </tr>\n",
       "    <tr>\n",
       "      <th>40356068</th>\n",
       "      <td>13.000000</td>\n",
       "      <td>25.0</td>\n",
       "      <td>NaN</td>\n",
       "      <td>NaN</td>\n",
       "      <td>NaN</td>\n",
       "      <td>20.0</td>\n",
       "      <td>Queens</td>\n",
       "      <td>Tov Kosher Kitchen</td>\n",
       "    </tr>\n",
       "  </tbody>\n",
       "</table>\n",
       "</div>"
      ],
      "text/plain": [
       "                  A     B   C  Not Yet Graded   P     Z   Quartier  \\\n",
       "ID                                                                   \n",
       "30075445   6.750000  14.0 NaN             NaN NaN   NaN      Bronx   \n",
       "30112340  10.666667  23.0 NaN             NaN NaN   NaN   Brooklyn   \n",
       "30191841   9.250000   NaN NaN             NaN NaN   NaN  Manhattan   \n",
       "40356018   9.000000   NaN NaN             NaN NaN   NaN   Brooklyn   \n",
       "40356068  13.000000  25.0 NaN             NaN NaN  20.0     Queens   \n",
       "\n",
       "                                     Nom  \n",
       "ID                                        \n",
       "30075445           Morris Park Bake Shop  \n",
       "30112340                         Wendy'S  \n",
       "30191841  Dj Reynolds Pub And Restaurant  \n",
       "40356018                 Riviera Caterer  \n",
       "40356068              Tov Kosher Kitchen  "
      ]
     },
     "execution_count": 54,
     "metadata": {},
     "output_type": "execute_result"
    }
   ],
   "source": [
    "final = dfbis.join(infos_df.set_index(\"ID\"))\n",
    "final.head()"
   ]
  },
  {
   "cell_type": "markdown",
   "metadata": {},
   "source": [
    "Avec un `DataFrame` ainsi créé, il est maintenant possible, par exemple, de calculer les scores moyens de chaque grade, pour chaque quartier (ici, dans `python`)."
   ]
  },
  {
   "cell_type": "code",
   "execution_count": 57,
   "metadata": {},
   "outputs": [
    {
     "data": {
      "text/html": [
       "<div>\n",
       "<style scoped>\n",
       "    .dataframe tbody tr th:only-of-type {\n",
       "        vertical-align: middle;\n",
       "    }\n",
       "\n",
       "    .dataframe tbody tr th {\n",
       "        vertical-align: top;\n",
       "    }\n",
       "\n",
       "    .dataframe thead th {\n",
       "        text-align: right;\n",
       "    }\n",
       "</style>\n",
       "<table border=\"1\" class=\"dataframe\">\n",
       "  <thead>\n",
       "    <tr style=\"text-align: right;\">\n",
       "      <th></th>\n",
       "      <th>A</th>\n",
       "      <th>B</th>\n",
       "      <th>C</th>\n",
       "      <th>Not Yet Graded</th>\n",
       "      <th>P</th>\n",
       "      <th>Z</th>\n",
       "    </tr>\n",
       "    <tr>\n",
       "      <th>Quartier</th>\n",
       "      <th></th>\n",
       "      <th></th>\n",
       "      <th></th>\n",
       "      <th></th>\n",
       "      <th></th>\n",
       "      <th></th>\n",
       "    </tr>\n",
       "  </thead>\n",
       "  <tbody>\n",
       "    <tr>\n",
       "      <th>Bronx</th>\n",
       "      <td>8.84</td>\n",
       "      <td>19.79</td>\n",
       "      <td>28.90</td>\n",
       "      <td>14.05</td>\n",
       "      <td>5.67</td>\n",
       "      <td>22.38</td>\n",
       "    </tr>\n",
       "    <tr>\n",
       "      <th>Brooklyn</th>\n",
       "      <td>8.94</td>\n",
       "      <td>19.87</td>\n",
       "      <td>28.73</td>\n",
       "      <td>16.41</td>\n",
       "      <td>5.35</td>\n",
       "      <td>23.45</td>\n",
       "    </tr>\n",
       "    <tr>\n",
       "      <th>Manhattan</th>\n",
       "      <td>8.94</td>\n",
       "      <td>19.85</td>\n",
       "      <td>31.18</td>\n",
       "      <td>17.84</td>\n",
       "      <td>5.68</td>\n",
       "      <td>24.49</td>\n",
       "    </tr>\n",
       "    <tr>\n",
       "      <th>Missing</th>\n",
       "      <td>8.41</td>\n",
       "      <td>22.00</td>\n",
       "      <td>43.50</td>\n",
       "      <td>NaN</td>\n",
       "      <td>NaN</td>\n",
       "      <td>NaN</td>\n",
       "    </tr>\n",
       "    <tr>\n",
       "      <th>Queens</th>\n",
       "      <td>9.12</td>\n",
       "      <td>19.88</td>\n",
       "      <td>31.12</td>\n",
       "      <td>14.22</td>\n",
       "      <td>5.28</td>\n",
       "      <td>23.51</td>\n",
       "    </tr>\n",
       "    <tr>\n",
       "      <th>Staten Island</th>\n",
       "      <td>9.33</td>\n",
       "      <td>19.37</td>\n",
       "      <td>32.82</td>\n",
       "      <td>12.85</td>\n",
       "      <td>6.68</td>\n",
       "      <td>19.77</td>\n",
       "    </tr>\n",
       "  </tbody>\n",
       "</table>\n",
       "</div>"
      ],
      "text/plain": [
       "                  A      B      C  Not Yet Graded     P      Z\n",
       "Quartier                                                      \n",
       "Bronx          8.84  19.79  28.90           14.05  5.67  22.38\n",
       "Brooklyn       8.94  19.87  28.73           16.41  5.35  23.45\n",
       "Manhattan      8.94  19.85  31.18           17.84  5.68  24.49\n",
       "Missing        8.41  22.00  43.50             NaN   NaN    NaN\n",
       "Queens         9.12  19.88  31.12           14.22  5.28  23.51\n",
       "Staten Island  9.33  19.37  32.82           12.85  6.68  19.77"
      ]
     },
     "execution_count": 57,
     "metadata": {},
     "output_type": "execute_result"
    }
   ],
   "source": [
    "res = final.groupby(\"Quartier\").mean()\n",
    "res.round(2)"
   ]
  }
 ],
 "metadata": {
  "kernelspec": {
   "display_name": "Python 3",
   "language": "python",
   "name": "python3"
  },
  "language_info": {
   "codemirror_mode": {
    "name": "ipython",
    "version": 3
   },
   "file_extension": ".py",
   "mimetype": "text/x-python",
   "name": "python",
   "nbconvert_exporter": "python",
   "pygments_lexer": "ipython3",
   "version": "3.5.2"
  }
 },
 "nbformat": 4,
 "nbformat_minor": 2
}
