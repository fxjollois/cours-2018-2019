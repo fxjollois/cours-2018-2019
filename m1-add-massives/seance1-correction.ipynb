{
 "cells": [
  {
   "cell_type": "markdown",
   "metadata": {},
   "source": [
    "# Introduction à `Python` - *correction*\n",
    "\n",
    "## Exercice\n",
    "\n",
    "Le fichier contient les informations de 150 iris, répartis en 3 espèces et décrits par 4 variables. Voici quelques informations sur ce fichier.\n",
    "\n",
    "#### 1. Télécharger le fichier et importer les lignes dans python comme ci-dessus"
   ]
  },
  {
   "cell_type": "code",
   "execution_count": 1,
   "metadata": {},
   "outputs": [
    {
     "data": {
      "text/plain": [
       "['\"Sepal Length\"\\t\"Sepal Width\"\\t\"Petal Length\"\\t\"Petal Width\"\\t\"Species\"\\n',\n",
       " '5.1\\t3.5\\t1.4\\t0.2\\tsetosa\\n',\n",
       " '4.9\\t3\\t1.4\\t0.2\\tsetosa\\n',\n",
       " '4.7\\t3.2\\t1.3\\t0.2\\tsetosa\\n',\n",
       " '4.6\\t3.1\\t1.5\\t0.2\\tsetosa\\n']"
      ]
     },
     "execution_count": 1,
     "metadata": {},
     "output_type": "execute_result"
    }
   ],
   "source": [
    "fichier = open(\"Iris.txt\")\n",
    "lignesBrutes = fichier.readlines()\n",
    "fichier.close()\n",
    "lignesBrutes[:5]"
   ]
  },
  {
   "cell_type": "markdown",
   "metadata": {},
   "source": [
    "#### 2. A partir de la liste de chaînes obtenue, créer une liste de 151 listes.\n",
    "\n",
    "Chaque sous-liste contiendra les 5 informations présentes sur chaque ligne (séparées par des `\";\"`). Supprimer les quotes (`\"'\"`) et le caractère de fin de ligne (`\"\\n\"`)."
   ]
  },
  {
   "cell_type": "code",
   "execution_count": 2,
   "metadata": {},
   "outputs": [
    {
     "data": {
      "text/plain": [
       "[['Sepal Length', 'Sepal Width', 'Petal Length', 'Petal Width', 'Species'],\n",
       " ['5.1', '3.5', '1.4', '0.2', 'setosa'],\n",
       " ['4.9', '3', '1.4', '0.2', 'setosa'],\n",
       " ['4.7', '3.2', '1.3', '0.2', 'setosa'],\n",
       " ['4.6', '3.1', '1.5', '0.2', 'setosa']]"
      ]
     },
     "execution_count": 2,
     "metadata": {},
     "output_type": "execute_result"
    }
   ],
   "source": [
    "# Etape par étape\n",
    "lignes = []\n",
    "for l in lignesBrutes:\n",
    "    la = l.replace('\"', \"\")\n",
    "    lb = la.replace(\"\\n\", \"\")\n",
    "    lc = lb.split(\"\\t\")\n",
    "    lignes.append(lc)\n",
    "lignes[:5]"
   ]
  },
  {
   "cell_type": "code",
   "execution_count": 3,
   "metadata": {},
   "outputs": [
    {
     "data": {
      "text/plain": [
       "[['Sepal Length', 'Sepal Width', 'Petal Length', 'Petal Width', 'Species'],\n",
       " ['5.1', '3.5', '1.4', '0.2', 'setosa'],\n",
       " ['4.9', '3', '1.4', '0.2', 'setosa'],\n",
       " ['4.7', '3.2', '1.3', '0.2', 'setosa'],\n",
       " ['4.6', '3.1', '1.5', '0.2', 'setosa']]"
      ]
     },
     "execution_count": 3,
     "metadata": {},
     "output_type": "execute_result"
    }
   ],
   "source": [
    "# En une seule ligne\n",
    "lignes = [l.replace('\"', \"\").replace(\"\\n\", \"\").split(\"\\t\") for l in lignesBrutes]\n",
    "lignes[:5]"
   ]
  },
  {
   "cell_type": "markdown",
   "metadata": {},
   "source": [
    "#### 3. Créer une fonction permettant de transformer une chaîne en réel\n",
    "\n",
    "- si cette chaîne n’est pas transformable, renvoyer la telle quelle\n",
    "- Exemple : `f(\"1.234\")` renverra `1.234`, mais `f(\"rien\")` renverra `\"rien\"`"
   ]
  },
  {
   "cell_type": "code",
   "execution_count": 4,
   "metadata": {},
   "outputs": [
    {
     "name": "stdout",
     "output_type": "stream",
     "text": [
      "2.234\n",
      "setosa\n"
     ]
    }
   ],
   "source": [
    "def f(v):\n",
    "    try:\n",
    "        res = float(v)\n",
    "    except:\n",
    "        res = v\n",
    "    finally:\n",
    "        return res\n",
    "print(f(\"1.234\") + 1)\n",
    "print(f(\"setosa\"))"
   ]
  },
  {
   "cell_type": "markdown",
   "metadata": {},
   "source": [
    "#### 4. Créer une liste de 150 dictionnaires, chaque dictionnaire sera un iris, avec des champs nommés.\n",
    "\n",
    "Les noms des variables sont sur la première ligne de la liste précédemment créée."
   ]
  },
  {
   "cell_type": "code",
   "execution_count": 4,
   "metadata": {},
   "outputs": [
    {
     "data": {
      "text/plain": [
       "['Sepal Length', 'Sepal Width', 'Petal Length', 'Petal Width', 'Species']"
      ]
     },
     "execution_count": 4,
     "metadata": {},
     "output_type": "execute_result"
    }
   ],
   "source": [
    "lignes[0]"
   ]
  },
  {
   "cell_type": "markdown",
   "metadata": {},
   "source": [
    "Chaque ligne contient donc les informations d'un iris."
   ]
  },
  {
   "cell_type": "code",
   "execution_count": 5,
   "metadata": {},
   "outputs": [
    {
     "data": {
      "text/plain": [
       "['5.1', '3.5', '1.4', '0.2', 'setosa']"
      ]
     },
     "execution_count": 5,
     "metadata": {},
     "output_type": "execute_result"
    }
   ],
   "source": [
    "lignes[1]"
   ]
  },
  {
   "cell_type": "markdown",
   "metadata": {},
   "source": [
    "Avec la fonction `zip()`, on peut donc créer un dictionnaire, via une *list comprehension*."
   ]
  },
  {
   "cell_type": "code",
   "execution_count": 6,
   "metadata": {},
   "outputs": [
    {
     "name": "stdout",
     "output_type": "stream",
     "text": [
      "cle = Sepal Length \t; valeur = 5.1\n",
      "cle = Sepal Width \t; valeur = 3.5\n",
      "cle = Petal Length \t; valeur = 1.4\n",
      "cle = Petal Width \t; valeur = 0.2\n",
      "cle = Species \t; valeur = setosa\n"
     ]
    }
   ],
   "source": [
    "for cle, valeur in zip(lignes[0], lignes[1]):\n",
    "    print(\"cle =\", cle, \"\\t; valeur =\", valeur)"
   ]
  },
  {
   "cell_type": "code",
   "execution_count": 7,
   "metadata": {},
   "outputs": [
    {
     "data": {
      "text/plain": [
       "{'Petal Length': '1.4',\n",
       " 'Petal Width': '0.2',\n",
       " 'Sepal Length': '5.1',\n",
       " 'Sepal Width': '3.5',\n",
       " 'Species': 'setosa'}"
      ]
     },
     "execution_count": 7,
     "metadata": {},
     "output_type": "execute_result"
    }
   ],
   "source": [
    "{cle:val for cle, val in zip(lignes[0], lignes[1])}"
   ]
  },
  {
   "cell_type": "markdown",
   "metadata": {},
   "source": [
    "En utilisant la fonction `enReel()` créée précédemment, nous arrivons à créer un objet tel que nous le souhaitons."
   ]
  },
  {
   "cell_type": "code",
   "execution_count": 8,
   "metadata": {},
   "outputs": [
    {
     "data": {
      "text/plain": [
       "{'Petal Length': 1.4,\n",
       " 'Petal Width': 0.2,\n",
       " 'Sepal Length': 5.1,\n",
       " 'Sepal Width': 3.5,\n",
       " 'Species': 'setosa'}"
      ]
     },
     "execution_count": 8,
     "metadata": {},
     "output_type": "execute_result"
    }
   ],
   "source": [
    "{cle:enReel(val) for cle, val in zip(lignes[0], lignes[1])}"
   ]
  },
  {
   "cell_type": "markdown",
   "metadata": {},
   "source": [
    "Une boucle `for` sur chaque ligne permet de compléter un objet au fur et à mesure, comme ci-dessous."
   ]
  },
  {
   "cell_type": "code",
   "execution_count": 7,
   "metadata": {},
   "outputs": [
    {
     "data": {
      "text/plain": [
       "[{'Petal Length': 1.4,\n",
       "  'Petal Width': 0.2,\n",
       "  'Sepal Length': 5.1,\n",
       "  'Sepal Width': 3.5,\n",
       "  'Species': 'setosa'},\n",
       " {'Petal Length': 1.4,\n",
       "  'Petal Width': 0.2,\n",
       "  'Sepal Length': 4.9,\n",
       "  'Sepal Width': 3.0,\n",
       "  'Species': 'setosa'},\n",
       " {'Petal Length': 1.3,\n",
       "  'Petal Width': 0.2,\n",
       "  'Sepal Length': 4.7,\n",
       "  'Sepal Width': 3.2,\n",
       "  'Species': 'setosa'}]"
      ]
     },
     "execution_count": 7,
     "metadata": {},
     "output_type": "execute_result"
    }
   ],
   "source": [
    "donnees = []\n",
    "for i, l in enumerate(lignes):\n",
    "    if i == 0:\n",
    "        var = l\n",
    "    else:\n",
    "        donnees.append({cle:f(val) for cle, val in zip(var, l)})\n",
    "donnees[:3]"
   ]
  },
  {
   "cell_type": "code",
   "execution_count": 6,
   "metadata": {},
   "outputs": [
    {
     "data": {
      "text/plain": [
       "[{'PetalLength': 1.4,\n",
       "  'PetalWidth': 0.2,\n",
       "  'SepalLength': 5.1,\n",
       "  'SepalWidth': 3.5,\n",
       "  'Species': 'setosa'},\n",
       " {'PetalLength': 1.4,\n",
       "  'PetalWidth': 0.2,\n",
       "  'SepalLength': 4.9,\n",
       "  'SepalWidth': 3.0,\n",
       "  'Species': 'setosa'},\n",
       " {'PetalLength': 1.3,\n",
       "  'PetalWidth': 0.2,\n",
       "  'SepalLength': 4.7,\n",
       "  'SepalWidth': 3.2,\n",
       "  'Species': 'setosa'},\n",
       " {'PetalLength': 1.5,\n",
       "  'PetalWidth': 0.2,\n",
       "  'SepalLength': 4.6,\n",
       "  'SepalWidth': 3.1,\n",
       "  'Species': 'setosa'},\n",
       " {'PetalLength': 1.4,\n",
       "  'PetalWidth': 0.2,\n",
       "  'SepalLength': 5.0,\n",
       "  'SepalWidth': 3.6,\n",
       "  'Species': 'setosa'}]"
      ]
     },
     "execution_count": 6,
     "metadata": {},
     "output_type": "execute_result"
    }
   ],
   "source": [
    "# En plusieurs étapes d'une autre façon\n",
    "variables = [l.replace(\" \", \"\") for l in lignes[0]]\n",
    "iris = []\n",
    "for ligne in lignes[1:]:\n",
    "    d = {variables[i]:f(ligne[i]) for i in range(5)}\n",
    "    iris.append(d)\n",
    "iris[:5]"
   ]
  },
  {
   "cell_type": "markdown",
   "metadata": {},
   "source": [
    "Mais la bonne façon de faire en `python` et d'utiliser une *list comprehension* pour naviguer sur chaque ligne de `lignes`."
   ]
  },
  {
   "cell_type": "code",
   "execution_count": 8,
   "metadata": {},
   "outputs": [
    {
     "data": {
      "text/plain": [
       "[{'Petal Length': 1.4,\n",
       "  'Petal Width': 0.2,\n",
       "  'Sepal Length': 5.1,\n",
       "  'Sepal Width': 3.5,\n",
       "  'Species': 'setosa'},\n",
       " {'Petal Length': 1.4,\n",
       "  'Petal Width': 0.2,\n",
       "  'Sepal Length': 4.9,\n",
       "  'Sepal Width': 3.0,\n",
       "  'Species': 'setosa'},\n",
       " {'Petal Length': 1.3,\n",
       "  'Petal Width': 0.2,\n",
       "  'Sepal Length': 4.7,\n",
       "  'Sepal Width': 3.2,\n",
       "  'Species': 'setosa'}]"
      ]
     },
     "execution_count": 8,
     "metadata": {},
     "output_type": "execute_result"
    }
   ],
   "source": [
    "iris = [{cle:f(val) for cle, val in zip(lignes[0], l)} for l in lignes[1:]]\n",
    "iris[:3]"
   ]
  },
  {
   "cell_type": "markdown",
   "metadata": {},
   "source": [
    "#### 5. Calculer pour chaque iris le rapport entre la surface d’un pétale et la surface d’un sépale.\n",
    "\n",
    "La surface de chaque dépend uniquement du produit de la largeur et de la longueur. On fera donc le rapport entre les deux produits."
   ]
  },
  {
   "cell_type": "code",
   "execution_count": 11,
   "metadata": {},
   "outputs": [
    {
     "data": {
      "text/plain": [
       "[{'Petal Length': 1.4,\n",
       "  'Petal Width': 0.2,\n",
       "  'Ratio': 0.01568627450980392,\n",
       "  'Sepal Length': 5.1,\n",
       "  'Sepal Width': 3.5,\n",
       "  'Species': 'setosa'},\n",
       " {'Petal Length': 1.4,\n",
       "  'Petal Width': 0.2,\n",
       "  'Ratio': 0.019047619047619046,\n",
       "  'Sepal Length': 4.9,\n",
       "  'Sepal Width': 3.0,\n",
       "  'Species': 'setosa'},\n",
       " {'Petal Length': 1.3,\n",
       "  'Petal Width': 0.2,\n",
       "  'Ratio': 0.017287234042553192,\n",
       "  'Sepal Length': 4.7,\n",
       "  'Sepal Width': 3.2,\n",
       "  'Species': 'setosa'}]"
      ]
     },
     "execution_count": 11,
     "metadata": {},
     "output_type": "execute_result"
    }
   ],
   "source": [
    "def surface(ir):\n",
    "    ir = ir.copy()\n",
    "    ir['Ratio'] = (ir['Petal Length'] * ir['Petal Width']) / (ir['Sepal Length'] * ir['Sepal Width'])\n",
    "    return ir\n",
    "irisSurface = list(map(surface, iris))\n",
    "irisSurface[:3]"
   ]
  },
  {
   "cell_type": "markdown",
   "metadata": {},
   "source": [
    "#### 6. Créer une sous-liste ne contenant que les iris `\"setosa\"`."
   ]
  },
  {
   "cell_type": "code",
   "execution_count": 12,
   "metadata": {},
   "outputs": [
    {
     "data": {
      "text/plain": [
       "50"
      ]
     },
     "execution_count": 12,
     "metadata": {},
     "output_type": "execute_result"
    }
   ],
   "source": [
    "irisSetosa = list(filter(lambda i: i['Species'] == 'setosa', irisSurface))\n",
    "len(irisSetosa)"
   ]
  },
  {
   "cell_type": "markdown",
   "metadata": {},
   "source": [
    "#### 7. Calculer la moyenne de chaque variable."
   ]
  },
  {
   "cell_type": "code",
   "execution_count": 9,
   "metadata": {},
   "outputs": [
    {
     "data": {
      "text/plain": [
       "{'Petal Length': 563.7000000000004,\n",
       " 'Petal Width': 179.90000000000012,\n",
       " 'Sepal Length': 876.5000000000002,\n",
       " 'Sepal Width': 458.60000000000014}"
      ]
     },
     "execution_count": 9,
     "metadata": {},
     "output_type": "execute_result"
    }
   ],
   "source": [
    "def sommeVariable(irA, irB):\n",
    "    ir = irA.copy()\n",
    "    ir.pop(\"Species\", None)\n",
    "    for var in ['Petal Length', 'Petal Width', 'Sepal Length', 'Sepal Width']:\n",
    "        ir[var] = irA[var] + irB[var]\n",
    "    return ir\n",
    "\n",
    "import functools\n",
    "irisMoyenne = functools.reduce(sommeVariable, iris)\n",
    "irisMoyenne"
   ]
  },
  {
   "cell_type": "code",
   "execution_count": 10,
   "metadata": {},
   "outputs": [
    {
     "data": {
      "text/plain": [
       "{'Petal Length': 3.76,\n",
       " 'Petal Width': 1.2,\n",
       " 'Sepal Length': 5.84,\n",
       " 'Sepal Width': 3.06}"
      ]
     },
     "execution_count": 10,
     "metadata": {},
     "output_type": "execute_result"
    }
   ],
   "source": [
    "{cle:(round(irisMoyenne[cle] / len(iris), 2)) for cle in irisMoyenne}"
   ]
  },
  {
   "cell_type": "markdown",
   "metadata": {},
   "source": [
    "#### 8. Calculer la moyenne de chaque variable pour chaque espèce.\n",
    "\n",
    "On recupère déjà la liste des espèces présentes dans la clé `Species`."
   ]
  },
  {
   "cell_type": "code",
   "execution_count": 11,
   "metadata": {},
   "outputs": [
    {
     "data": {
      "text/plain": [
       "['versicolor', 'virginica', 'setosa']"
      ]
     },
     "execution_count": 11,
     "metadata": {},
     "output_type": "execute_result"
    }
   ],
   "source": [
    "especes = list(set([i['Species'] for i in iris]))\n",
    "especes"
   ]
  },
  {
   "cell_type": "markdown",
   "metadata": {},
   "source": [
    "Ensuite, on créé autant de listes que d'espèces présentes, regroupées dans une même liste."
   ]
  },
  {
   "cell_type": "code",
   "execution_count": 12,
   "metadata": {},
   "outputs": [
    {
     "data": {
      "text/plain": [
       "3"
      ]
     },
     "execution_count": 12,
     "metadata": {},
     "output_type": "execute_result"
    }
   ],
   "source": [
    "groupes = [list(filter(lambda i: i['Species'] == s, iris)) for s in especes]\n",
    "len(groupes)"
   ]
  },
  {
   "cell_type": "markdown",
   "metadata": {},
   "source": [
    "Puis, on applique sur chaque sous-liste correspondant à une espèce la même procédure que pour le calcul de la moyenne globale."
   ]
  },
  {
   "cell_type": "code",
   "execution_count": 13,
   "metadata": {},
   "outputs": [
    {
     "data": {
      "text/plain": [
       "[{'Petal Length': 212.99999999999997,\n",
       "  'Petal Width': 66.3,\n",
       "  'Sepal Length': 296.8,\n",
       "  'Sepal Width': 138.50000000000003},\n",
       " {'Petal Length': 277.59999999999997,\n",
       "  'Petal Width': 101.29999999999998,\n",
       "  'Sepal Length': 329.3999999999999,\n",
       "  'Sepal Width': 148.7},\n",
       " {'Petal Length': 73.10000000000001,\n",
       "  'Petal Width': 12.299999999999995,\n",
       "  'Sepal Length': 250.29999999999998,\n",
       "  'Sepal Width': 171.40000000000003}]"
      ]
     },
     "execution_count": 13,
     "metadata": {},
     "output_type": "execute_result"
    }
   ],
   "source": [
    "sommes = [functools.reduce(sommeVariable, g) for g in groupes]\n",
    "sommes"
   ]
  },
  {
   "cell_type": "markdown",
   "metadata": {},
   "source": [
    "On peut simplement calculer les tailles de chaque groupe de cette manière."
   ]
  },
  {
   "cell_type": "code",
   "execution_count": 14,
   "metadata": {},
   "outputs": [
    {
     "data": {
      "text/plain": [
       "[50, 50, 50]"
      ]
     },
     "execution_count": 14,
     "metadata": {},
     "output_type": "execute_result"
    }
   ],
   "source": [
    "tailles = [len(g) for g in groupes]\n",
    "tailles"
   ]
  },
  {
   "cell_type": "markdown",
   "metadata": {},
   "source": [
    "Enfin, il est facile d'appliquer aussi la même méthode pour avoir les moyennes par espèces."
   ]
  },
  {
   "cell_type": "code",
   "execution_count": 15,
   "metadata": {},
   "outputs": [
    {
     "data": {
      "text/plain": [
       "[{'Petal Length': 4.26,\n",
       "  'Petal Width': 1.33,\n",
       "  'Sepal Length': 5.94,\n",
       "  'Sepal Width': 2.77},\n",
       " {'Petal Length': 5.55,\n",
       "  'Petal Width': 2.03,\n",
       "  'Sepal Length': 6.59,\n",
       "  'Sepal Width': 2.97},\n",
       " {'Petal Length': 1.46,\n",
       "  'Petal Width': 0.25,\n",
       "  'Sepal Length': 5.01,\n",
       "  'Sepal Width': 3.43}]"
      ]
     },
     "execution_count": 15,
     "metadata": {},
     "output_type": "execute_result"
    }
   ],
   "source": [
    "moyennes = [{cle:round(sommes[i][cle] / tailles[i], 2) for cle in sommes[i]} for i in range(len(especes))]\n",
    "moyennes"
   ]
  },
  {
   "cell_type": "markdown",
   "metadata": {},
   "source": [
    "Au final, pour que ce soit plus clair, on ajoute l'espèce à chaque résultat."
   ]
  },
  {
   "cell_type": "code",
   "execution_count": 16,
   "metadata": {},
   "outputs": [
    {
     "data": {
      "text/plain": [
       "[{'Petal Length': 4.26,\n",
       "  'Petal Width': 1.33,\n",
       "  'Sepal Length': 5.94,\n",
       "  'Sepal Width': 2.77,\n",
       "  'Species': 'versicolor'},\n",
       " {'Petal Length': 5.55,\n",
       "  'Petal Width': 2.03,\n",
       "  'Sepal Length': 6.59,\n",
       "  'Sepal Width': 2.97,\n",
       "  'Species': 'virginica'},\n",
       " {'Petal Length': 1.46,\n",
       "  'Petal Width': 0.25,\n",
       "  'Sepal Length': 5.01,\n",
       "  'Sepal Width': 3.43,\n",
       "  'Species': 'setosa'}]"
      ]
     },
     "execution_count": 16,
     "metadata": {},
     "output_type": "execute_result"
    }
   ],
   "source": [
    "for i, m in enumerate(moyennes):\n",
    "    m[\"Species\"] = especes[i]\n",
    "moyennes"
   ]
  }
 ],
 "metadata": {
  "kernelspec": {
   "display_name": "Python 3",
   "language": "python",
   "name": "python3"
  },
  "language_info": {
   "codemirror_mode": {
    "name": "ipython",
    "version": 3
   },
   "file_extension": ".py",
   "mimetype": "text/x-python",
   "name": "python",
   "nbconvert_exporter": "python",
   "pygments_lexer": "ipython3",
   "version": "3.5.2"
  }
 },
 "nbformat": 4,
 "nbformat_minor": 2
}
