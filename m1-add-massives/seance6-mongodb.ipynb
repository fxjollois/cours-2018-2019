{
 "cells": [
  {
   "cell_type": "markdown",
   "metadata": {},
   "source": [
    "# Connexion à MongoDB sous `Python`\n",
    "\n",
    "Nous allons voir dans ce TP comment nous pouvons récupérer des données stockées dans une base [MongoDB](https://www.mongodb.com/), par le biais de la librairie [`pymongo`](https://api.mongodb.com/python/current/). Il faut bien évidemment installer ce module (éventuellement localement). Pour l'utiliser, on l'importer classiquement comme ci-dessous."
   ]
  },
  {
   "cell_type": "code",
   "execution_count": 1,
   "metadata": {},
   "outputs": [],
   "source": [
    "import pymongo"
   ]
  },
  {
   "cell_type": "markdown",
   "metadata": {},
   "source": [
    "## Utilisation générale\n",
    "\n",
    "La première opération est de créer une connexion entre `python` et *MongoDB* en utilisant la fonction `MongoClient()`. Celle-ci prend en paramètre l'adresse du serveur (*IP* et *port*). La commande ci-après permet donc de se connecter au serveur déjà vu en cours précédemment."
   ]
  },
  {
   "cell_type": "code",
   "execution_count": 2,
   "metadata": {},
   "outputs": [],
   "source": [
    "con = pymongo.MongoClient(\"mongodb://193.51.82.104:2343/\")"
   ]
  },
  {
   "cell_type": "markdown",
   "metadata": {},
   "source": [
    "Par le biais de l'objet ainsi créé (`con`), on a accès à la liste des bases de données présentes, avec la fonction `database_name()`."
   ]
  },
  {
   "cell_type": "code",
   "execution_count": 3,
   "metadata": {},
   "outputs": [
    {
     "data": {
      "text/plain": [
       "['admin',\n",
       " 'config',\n",
       " 'gym',\n",
       " 'horodateurs',\n",
       " 'local',\n",
       " 'medicaments',\n",
       " 'test',\n",
       " 'trafic',\n",
       " 'vlsstat',\n",
       " 'world']"
      ]
     },
     "execution_count": 3,
     "metadata": {},
     "output_type": "execute_result"
    }
   ],
   "source": [
    "con.database_names()"
   ]
  },
  {
   "cell_type": "markdown",
   "metadata": {},
   "source": [
    "Nous allons utiliser la base `gym`. Nous allons créer un connecteur directement à cette base."
   ]
  },
  {
   "cell_type": "code",
   "execution_count": 4,
   "metadata": {},
   "outputs": [],
   "source": [
    "db = con.gym"
   ]
  },
  {
   "cell_type": "markdown",
   "metadata": {},
   "source": [
    "L'objet `db` est doté de différentes fonctions, et permet une utilisation très proche de celle qu'on a dans le `shell` de *MongoDB*. Pour voir la liste des collections présentes, on utilise la fonction `collection_names()`."
   ]
  },
  {
   "cell_type": "code",
   "execution_count": 5,
   "metadata": {},
   "outputs": [
    {
     "data": {
      "text/plain": [
       "['Sportifs', 'Gymnases']"
      ]
     },
     "execution_count": 5,
     "metadata": {},
     "output_type": "execute_result"
    }
   ],
   "source": [
    "db.collection_names()"
   ]
  },
  {
   "cell_type": "markdown",
   "metadata": {},
   "source": [
    "### Fonctions de base\n",
    "\n",
    "Ensuite, pour accéder aux collections, et aux fonctions à utiliser dans celle-ci, nous utilisont le même formalisme que dans *MongoDB*.\n",
    "\n",
    "Nous avons le dénombrement des collections comme suit, avec `count()`."
   ]
  },
  {
   "cell_type": "code",
   "execution_count": 6,
   "metadata": {},
   "outputs": [
    {
     "data": {
      "text/plain": [
       "150"
      ]
     },
     "execution_count": 6,
     "metadata": {},
     "output_type": "execute_result"
    }
   ],
   "source": [
    "db.Sportifs.count()"
   ]
  },
  {
   "cell_type": "code",
   "execution_count": 7,
   "metadata": {},
   "outputs": [
    {
     "data": {
      "text/plain": [
       "28"
      ]
     },
     "execution_count": 7,
     "metadata": {},
     "output_type": "execute_result"
    }
   ],
   "source": [
    "db.Gymnases.count()"
   ]
  },
  {
   "cell_type": "markdown",
   "metadata": {},
   "source": [
    "Pour obtenir le premier document d'une collection, on utilise ici la fonction `find_one()`."
   ]
  },
  {
   "cell_type": "code",
   "execution_count": 8,
   "metadata": {},
   "outputs": [
    {
     "data": {
      "text/plain": [
       "{'Age': 30,\n",
       " 'IdSportif': 1,\n",
       " 'Nom': 'BOUTAHAR',\n",
       " 'Prenom': 'Abderahim',\n",
       " 'Sexe': 'm',\n",
       " 'Sports': {'Arbitrer': ['Basket ball', 'Volley ball', 'Hockey'],\n",
       "  'Entrainer': ['Basket ball',\n",
       "   'Volley ball',\n",
       "   'Hand ball',\n",
       "   'Hockey',\n",
       "   'Badmington'],\n",
       "  'Jouer': ['Volley ball', 'Tennis', 'Football']},\n",
       " '_id': '566eec5f662b388eba464203'}"
      ]
     },
     "execution_count": 8,
     "metadata": {},
     "output_type": "execute_result"
    }
   ],
   "source": [
    "db.Sportifs.find_one()"
   ]
  },
  {
   "cell_type": "code",
   "execution_count": 9,
   "metadata": {},
   "outputs": [
    {
     "data": {
      "text/plain": [
       "{'Adresse': '2 rue des pépines',\n",
       " 'IdGymnase': 1,\n",
       " 'NomGymnase': 'PAUL ELUARD',\n",
       " 'Seances': [{'Duree': 60,\n",
       "   'Horaire': 9.0,\n",
       "   'IdSportifEntraineur': 149,\n",
       "   'Jour': 'Samedi',\n",
       "   'Libelle': 'Basket ball'},\n",
       "  {'Duree': 60,\n",
       "   'Horaire': 9.0,\n",
       "   'IdSportifEntraineur': 1,\n",
       "   'Jour': 'Lundi',\n",
       "   'Libelle': 'Hand ball'},\n",
       "  {'Duree': 60,\n",
       "   'Horaire': 10.0,\n",
       "   'IdSportifEntraineur': 1,\n",
       "   'Jour': 'Lundi',\n",
       "   'Libelle': 'Hand ball'},\n",
       "  {'Duree': 60,\n",
       "   'Horaire': 11.3,\n",
       "   'IdSportifEntraineur': 1,\n",
       "   'Jour': 'Lundi',\n",
       "   'Libelle': 'Hand ball'},\n",
       "  {'Duree': 90,\n",
       "   'Horaire': 14.0,\n",
       "   'IdSportifEntraineur': 1,\n",
       "   'Jour': 'Lundi',\n",
       "   'Libelle': 'Hand ball'},\n",
       "  {'Duree': 120,\n",
       "   'Horaire': 17.3,\n",
       "   'IdSportifEntraineur': 1,\n",
       "   'Jour': 'lundi',\n",
       "   'Libelle': 'Hand ball'},\n",
       "  {'Duree': 120,\n",
       "   'Horaire': 19.3,\n",
       "   'IdSportifEntraineur': 1,\n",
       "   'Jour': 'Lundi',\n",
       "   'Libelle': 'Hand ball'},\n",
       "  {'Duree': 120,\n",
       "   'Horaire': 17.3,\n",
       "   'IdSportifEntraineur': 2,\n",
       "   'Jour': 'Dimanche',\n",
       "   'Libelle': 'Hand ball'},\n",
       "  {'Duree': 120,\n",
       "   'Horaire': 19.3,\n",
       "   'IdSportifEntraineur': 2,\n",
       "   'Jour': 'Dimanche',\n",
       "   'Libelle': 'Hand ball'},\n",
       "  {'Duree': 120,\n",
       "   'Horaire': 17.3,\n",
       "   'IdSportifEntraineur': 2,\n",
       "   'Jour': 'mardi',\n",
       "   'Libelle': 'Hand ball'},\n",
       "  {'Duree': 120,\n",
       "   'Horaire': 17.3,\n",
       "   'IdSportifEntraineur': 2,\n",
       "   'Jour': 'mercredi',\n",
       "   'Libelle': 'Hand ball'},\n",
       "  {'Duree': 60,\n",
       "   'Horaire': 15.3,\n",
       "   'IdSportifEntraineur': 2,\n",
       "   'Jour': 'Samedi',\n",
       "   'Libelle': 'Hand ball'},\n",
       "  {'Duree': 60,\n",
       "   'Horaire': 16.3,\n",
       "   'IdSportifEntraineur': 2,\n",
       "   'Jour': 'Samedi',\n",
       "   'Libelle': 'Hand ball'},\n",
       "  {'Duree': 120,\n",
       "   'Horaire': 17.3,\n",
       "   'IdSportifEntraineur': 2,\n",
       "   'Jour': 'Samedi',\n",
       "   'Libelle': 'Hand ball'},\n",
       "  {'Duree': 30,\n",
       "   'Horaire': 20.0,\n",
       "   'IdSportifEntraineur': 3,\n",
       "   'Jour': 'jeudi',\n",
       "   'Libelle': 'Hand ball'},\n",
       "  {'Duree': 60,\n",
       "   'Horaire': 14.0,\n",
       "   'IdSportifEntraineur': 3,\n",
       "   'Jour': 'lundi',\n",
       "   'Libelle': 'Hand ball'},\n",
       "  {'Duree': 30,\n",
       "   'Horaire': 18.0,\n",
       "   'IdSportifEntraineur': 3,\n",
       "   'Jour': 'lundi',\n",
       "   'Libelle': 'Hand ball'},\n",
       "  {'Duree': 30,\n",
       "   'Horaire': 19.0,\n",
       "   'IdSportifEntraineur': 3,\n",
       "   'Jour': 'lundi',\n",
       "   'Libelle': 'Hand ball'},\n",
       "  {'Duree': 30,\n",
       "   'Horaire': 20.0,\n",
       "   'IdSportifEntraineur': 3,\n",
       "   'Jour': 'lundi',\n",
       "   'Libelle': 'Hand ball'},\n",
       "  {'Duree': 90,\n",
       "   'Horaire': 17.0,\n",
       "   'IdSportifEntraineur': 7,\n",
       "   'Jour': 'mercredi',\n",
       "   'Libelle': 'Hockey'}],\n",
       " 'Surface': 200,\n",
       " 'Ville': 'STAINS',\n",
       " '_id': '566eec69662b388eba464299'}"
      ]
     },
     "execution_count": 9,
     "metadata": {},
     "output_type": "execute_result"
    }
   ],
   "source": [
    "db.Gymnases.find_one()"
   ]
  },
  {
   "cell_type": "markdown",
   "metadata": {},
   "source": [
    "Et on peut lister les valeurs prises par un champs dans une collection par la fonction `ditinct()`."
   ]
  },
  {
   "cell_type": "code",
   "execution_count": 10,
   "metadata": {},
   "outputs": [
    {
     "data": {
      "text/plain": [
       "['m', 'M', 'F']"
      ]
     },
     "execution_count": 10,
     "metadata": {},
     "output_type": "execute_result"
    }
   ],
   "source": [
    "db.Sportifs.distinct(\"Sexe\")"
   ]
  },
  {
   "cell_type": "code",
   "execution_count": 11,
   "metadata": {},
   "outputs": [
    {
     "data": {
      "text/plain": [
       "['Football',\n",
       " 'Tennis',\n",
       " 'Volley ball',\n",
       " 'Basket ball',\n",
       " 'Ping pong',\n",
       " 'Badmington',\n",
       " 'Hand ball']"
      ]
     },
     "execution_count": 11,
     "metadata": {},
     "output_type": "execute_result"
    }
   ],
   "source": [
    "db.Sportifs.distinct(\"Sports.Jouer\")"
   ]
  },
  {
   "cell_type": "code",
   "execution_count": 12,
   "metadata": {},
   "outputs": [
    {
     "data": {
      "text/plain": [
       "['STAINS',\n",
       " 'MONTMORENCY',\n",
       " 'PIERREFITTE',\n",
       " 'SARCELLES',\n",
       " 'SAINT DENIS',\n",
       " 'VILLETANEUSE',\n",
       " 'GARGES']"
      ]
     },
     "execution_count": 12,
     "metadata": {},
     "output_type": "execute_result"
    }
   ],
   "source": [
    "db.Gymnases.distinct(\"Ville\")"
   ]
  },
  {
   "cell_type": "code",
   "execution_count": 13,
   "metadata": {},
   "outputs": [
    {
     "data": {
      "text/plain": [
       "[200, 450, 400, 500, 620, 360, 420, 300, 480, 600, 520, 350]"
      ]
     },
     "execution_count": 13,
     "metadata": {},
     "output_type": "execute_result"
    }
   ],
   "source": [
    "db.Gymnases.distinct(\"Surface\")"
   ]
  },
  {
   "cell_type": "code",
   "execution_count": 14,
   "metadata": {},
   "outputs": [
    {
     "data": {
      "text/plain": [
       "['Basket ball', 'Hand ball', 'Hockey', 'Volley ball']"
      ]
     },
     "execution_count": 14,
     "metadata": {},
     "output_type": "execute_result"
    }
   ],
   "source": [
    "db.Gymnases.distinct(\"Seances.Libelle\")"
   ]
  },
  {
   "cell_type": "code",
   "execution_count": 15,
   "metadata": {},
   "outputs": [
    {
     "data": {
      "text/plain": [
       "['Dimanche',\n",
       " 'Lundi',\n",
       " 'Samedi',\n",
       " 'jeudi',\n",
       " 'lundi',\n",
       " 'mardi',\n",
       " 'mercredi',\n",
       " 'dimanche',\n",
       " 'Mercredi',\n",
       " 'Vendredi',\n",
       " 'vendredi',\n",
       " 'samedi',\n",
       " 'Mardi',\n",
       " 'Jeudi']"
      ]
     },
     "execution_count": 15,
     "metadata": {},
     "output_type": "execute_result"
    }
   ],
   "source": [
    "db.Gymnases.distinct(\"Seances.Jour\")"
   ]
  },
  {
   "cell_type": "markdown",
   "metadata": {},
   "source": [
    "### Affichage des résultats\n",
    "\n",
    "Nous l'avons vu précédemment, l'affichage du résultat de la fonction `find_one()` n'est pas totalement lisible. Il est possible d'utiliser la fonction `pprint()` du module `pprint`, normalement installé dès l'installation de `python`. Celle-ci améliore l'affichage, en ajoutant des indentations."
   ]
  },
  {
   "cell_type": "code",
   "execution_count": 16,
   "metadata": {},
   "outputs": [
    {
     "name": "stdout",
     "output_type": "stream",
     "text": [
      "{'Age': 30,\n",
      " 'IdSportif': 1,\n",
      " 'Nom': 'BOUTAHAR',\n",
      " 'Prenom': 'Abderahim',\n",
      " 'Sexe': 'm',\n",
      " 'Sports': {'Arbitrer': ['Basket ball', 'Volley ball', 'Hockey'],\n",
      "            'Entrainer': ['Basket ball',\n",
      "                          'Volley ball',\n",
      "                          'Hand ball',\n",
      "                          'Hockey',\n",
      "                          'Badmington'],\n",
      "            'Jouer': ['Volley ball', 'Tennis', 'Football']},\n",
      " '_id': '566eec5f662b388eba464203'}\n"
     ]
    }
   ],
   "source": [
    "import pprint\n",
    "pprint.pprint(db.Sportifs.find_one())"
   ]
  },
  {
   "cell_type": "markdown",
   "metadata": {},
   "source": [
    "Par contre, pour l'utiliser sur le résultat de la fonction `find()` (qui renvoie un curseur, puisqu'il peut y avoir plusieurs documents correspondants), il faut soit faire une boucle sur ce curseur, soit le transformer en `list`."
   ]
  },
  {
   "cell_type": "code",
   "execution_count": 17,
   "metadata": {},
   "outputs": [
    {
     "name": "stdout",
     "output_type": "stream",
     "text": [
      "<pymongo.cursor.Cursor object at 0x7fec0003f240>\n"
     ]
    }
   ],
   "source": [
    "res = db.Sportifs.find({ \"Nom\": \"KERVADEC\" })\n",
    "print(res)"
   ]
  },
  {
   "cell_type": "code",
   "execution_count": 18,
   "metadata": {},
   "outputs": [
    {
     "name": "stdout",
     "output_type": "stream",
     "text": [
      "1\n"
     ]
    }
   ],
   "source": [
    "print(res.count())"
   ]
  },
  {
   "cell_type": "markdown",
   "metadata": {},
   "source": [
    "Voici comment réaliser une boucle sur le résultat pour l'affichage."
   ]
  },
  {
   "cell_type": "code",
   "execution_count": 19,
   "metadata": {},
   "outputs": [
    {
     "name": "stdout",
     "output_type": "stream",
     "text": [
      "{'Age': 28,\n",
      " 'IdSportif': 2,\n",
      " 'IdSportifConseiller': 1,\n",
      " 'Nom': 'KERVADEC',\n",
      " 'Prenom': 'Yann',\n",
      " 'Sexe': 'M',\n",
      " 'Sports': {'Arbitrer': ['Hockey', 'Football'],\n",
      "            'Entrainer': ['Basket ball',\n",
      "                          'Volley ball',\n",
      "                          'Hand ball',\n",
      "                          'Tennis',\n",
      "                          'Hockey',\n",
      "                          'Badmington',\n",
      "                          'Ping pong',\n",
      "                          'Boxe'],\n",
      "            'Jouer': ['Basket ball', 'Volley ball', 'Ping pong', 'Football']},\n",
      " '_id': '566eec5f662b388eba464204'}\n"
     ]
    }
   ],
   "source": [
    "for r in res:\n",
    "    pprint.pprint(r)"
   ]
  },
  {
   "cell_type": "markdown",
   "metadata": {},
   "source": [
    "Et voici un exemple de transformation en `list`. Une fois que le curseur est lu, comme ici dans la boucle, il est vide. Il faut donc le recalculer."
   ]
  },
  {
   "cell_type": "code",
   "execution_count": 20,
   "metadata": {},
   "outputs": [
    {
     "name": "stdout",
     "output_type": "stream",
     "text": [
      "[{'Age': 28,\n",
      "  'IdSportif': 2,\n",
      "  'IdSportifConseiller': 1,\n",
      "  'Nom': 'KERVADEC',\n",
      "  'Prenom': 'Yann',\n",
      "  'Sexe': 'M',\n",
      "  'Sports': {'Arbitrer': ['Hockey', 'Football'],\n",
      "             'Entrainer': ['Basket ball',\n",
      "                           'Volley ball',\n",
      "                           'Hand ball',\n",
      "                           'Tennis',\n",
      "                           'Hockey',\n",
      "                           'Badmington',\n",
      "                           'Ping pong',\n",
      "                           'Boxe'],\n",
      "             'Jouer': ['Basket ball', 'Volley ball', 'Ping pong', 'Football']},\n",
      "  '_id': '566eec5f662b388eba464204'}]\n"
     ]
    }
   ],
   "source": [
    "res = db.Sportifs.find({ \"Nom\": \"KERVADEC\" })\n",
    "pprint.pprint(list(res))"
   ]
  },
  {
   "cell_type": "markdown",
   "metadata": {},
   "source": [
    "On créé ici une fonction simple, nommée `affichage()`, qui va prendre en paramètre un curseur renvoyé par la fonction `find()` et qui affichera proprement le résultat via `pprint()`."
   ]
  },
  {
   "cell_type": "code",
   "execution_count": 21,
   "metadata": {},
   "outputs": [],
   "source": [
    "def affiche(res):\n",
    "    pprint.pprint(list(res))"
   ]
  },
  {
   "cell_type": "markdown",
   "metadata": {},
   "source": [
    "Et voici comment utiliser cette fonction."
   ]
  },
  {
   "cell_type": "code",
   "execution_count": 22,
   "metadata": {
    "scrolled": true
   },
   "outputs": [
    {
     "name": "stdout",
     "output_type": "stream",
     "text": [
      "[{'Nom': 'KERVADEC'}]\n"
     ]
    }
   ],
   "source": [
    "res = db.Sportifs.find({ \"Nom\": \"KERVADEC\" }, { \"_id\": 0, \"Nom\": 1 })\n",
    "affiche(res)"
   ]
  },
  {
   "cell_type": "markdown",
   "metadata": {},
   "source": [
    "## Recherche d'informations\n",
    "\n",
    "Comme nous allons le voir par la suite, nous allons utiliser exactement le même formalisme que dans *MongoDB*, avec la fonction `find()`. Ceci est possible avec l'utilisation de dictionnaires pour les paramètres de critères de sélection des documents et pour les choix d’items des documents à afficher. La seule obligation est de mettre les noms des champs entre `\"...\"`, alors qu'il était possible de ne pas le faire dans *MongoDB*.\n",
    "\n",
    "Ici, nous recherchons les sportifs d'au moins 32 ans, en affichant que leur nom et leur âge. On voit ici un effet de `python` sur l'ordre d'affichage des items (ici, dans l'ordre alphabétique - comme toujours dans `python`)."
   ]
  },
  {
   "cell_type": "code",
   "execution_count": 23,
   "metadata": {},
   "outputs": [
    {
     "name": "stdout",
     "output_type": "stream",
     "text": [
      "[{'Age': 32, 'Nom': 'DORLEANS'},\n",
      " {'Age': 40, 'Nom': 'RABAHI'},\n",
      " {'Age': 32, 'Nom': 'TIZEGHAT'},\n",
      " {'Age': 32, 'Nom': 'BAZOUD'},\n",
      " {'Age': 39, 'Nom': 'SARRAZIN'},\n",
      " {'Age': 40, 'Nom': 'HOUEL'},\n",
      " {'Age': 36, 'Nom': 'LEROUX'},\n",
      " {'Age': 32, 'Nom': 'BONE'}]\n"
     ]
    }
   ],
   "source": [
    "res = db.Sportifs.find({ \"Age\": { \"$gte\": 32 } }, { \"_id\": 0, \"Nom\": 1, \"Age\": 1 })\n",
    "affiche(res)"
   ]
  },
  {
   "cell_type": "markdown",
   "metadata": {},
   "source": [
    "On peut aussi stocker les critères et les choix en sortie dans des variables, pour les utiliser dans `find()`. Ici, nous recherchons les sportives jouant au Basket."
   ]
  },
  {
   "cell_type": "code",
   "execution_count": 24,
   "metadata": {},
   "outputs": [
    {
     "name": "stdout",
     "output_type": "stream",
     "text": [
      "[{'Nom': 'COMES',\n",
      "  'Sexe': 'F',\n",
      "  'Sports': {'Jouer': ['Basket ball',\n",
      "                       'Volley ball',\n",
      "                       'Badmington',\n",
      "                       'Ping pong']}},\n",
      " {'Nom': 'RETALDI',\n",
      "  'Sexe': 'F',\n",
      "  'Sports': {'Jouer': ['Basket ball',\n",
      "                       'Volley ball',\n",
      "                       'Hand ball',\n",
      "                       'Ping pong']}},\n",
      " {'Nom': 'CAILLIOT',\n",
      "  'Sexe': 'F',\n",
      "  'Sports': {'Jouer': ['Basket ball', 'Volley ball', 'Ping pong']}},\n",
      " {'Nom': 'LEJEUNE',\n",
      "  'Sexe': 'F',\n",
      "  'Sports': {'Jouer': ['Basket ball',\n",
      "                       'Volley ball',\n",
      "                       'Badmington',\n",
      "                       'Ping pong']}},\n",
      " {'Nom': 'HEDDI',\n",
      "  'Sexe': 'F',\n",
      "  'Sports': {'Jouer': ['Basket ball', 'Badmington', 'Ping pong']}},\n",
      " {'Nom': 'JOUVE',\n",
      "  'Sexe': 'F',\n",
      "  'Sports': {'Jouer': ['Basket ball', 'Ping pong']}},\n",
      " {'Nom': 'GUERRAOUI',\n",
      "  'Sexe': 'F',\n",
      "  'Sports': {'Jouer': ['Basket ball', 'Ping pong']}},\n",
      " {'Nom': 'CLERICE',\n",
      "  'Sexe': 'F',\n",
      "  'Sports': {'Jouer': ['Basket ball', 'Badmington', 'Ping pong']}},\n",
      " {'Nom': 'MARIE',\n",
      "  'Sexe': 'F',\n",
      "  'Sports': {'Jouer': ['Basket ball', 'Hand ball', 'Ping pong']}},\n",
      " {'Nom': 'BELZ', 'Sexe': 'F', 'Sports': {'Jouer': 'Basket ball'}}]\n"
     ]
    }
   ],
   "source": [
    "criteres = { \"Sports.Jouer\" : \"Basket ball\", \"Sexe\" : \"F\" }\n",
    "sortie = { \"_id\": 0, \"Nom\": 1, \"Sexe\": 1, \"Sports.Jouer\": 1}\n",
    "res = db.Sportifs.find(criteres, sortie)\n",
    "affiche(res)"
   ]
  },
  {
   "cell_type": "markdown",
   "metadata": {},
   "source": [
    "Pour le tri, on utilise la fonction `sort()` sur le résultat. Par contre, nous devons ici mettre une liste de critères de tri. Ceux-ci doivent tous être des tuples à deux valeurs : le champ de tri et l'odre choisi (ascendant ou descendant). Pour le spécifier, nous devons utiliser deux valeurs spécifiques du module : `DESCENDING` (pour descendant) et `ASCENDING` (pour ascendant).\n",
    "\n",
    "Ici, nous reprenons la recherche précédent des sportifs d'au moins 32 ans. Mais le résultat est trié par ordre décroissant sur l'âge, et par ordre alphabétique pour le nom (pour ceux ayant le même âge donc)."
   ]
  },
  {
   "cell_type": "code",
   "execution_count": 25,
   "metadata": {},
   "outputs": [
    {
     "name": "stdout",
     "output_type": "stream",
     "text": [
      "[{'Age': 40, 'Nom': 'HOUEL'},\n",
      " {'Age': 40, 'Nom': 'RABAHI'},\n",
      " {'Age': 39, 'Nom': 'SARRAZIN'},\n",
      " {'Age': 36, 'Nom': 'LEROUX'},\n",
      " {'Age': 32, 'Nom': 'BAZOUD'},\n",
      " {'Age': 32, 'Nom': 'BONE'},\n",
      " {'Age': 32, 'Nom': 'DORLEANS'},\n",
      " {'Age': 32, 'Nom': 'TIZEGHAT'}]\n"
     ]
    }
   ],
   "source": [
    "res = db.Sportifs.find({ \"Age\": { \"$gte\": 32} }, { \"_id\": 0, \"Nom\": 1, \"Age\": 1 })\n",
    "res_tri = res.sort([ (\"Age\", pymongo.DESCENDING), (\"Nom\", pymongo.ASCENDING) ])\n",
    "affiche(res_tri)"
   ]
  },
  {
   "cell_type": "markdown",
   "metadata": {},
   "source": [
    "## Agrégats\n",
    "\n",
    "Nous avons aussi la possibilité de calculer des agrégats, avec la fonction `aggregate()`. Celle-ci s'utilise de manière très similaire à celle de *MongoDB*.\n",
    "\n",
    "Ci-dessous, nous calculons le nombre de gymnases et la surface moyenne de celle-ci. Pour ne pas mettre de critère d'agrégations, nous mettons une chaîne de caractère comme identifiant."
   ]
  },
  {
   "cell_type": "code",
   "execution_count": 26,
   "metadata": {},
   "outputs": [
    {
     "name": "stdout",
     "output_type": "stream",
     "text": [
      "[{'_id': 'Total', 'nb': 28, 'surfmoy': 444.2857142857143}]\n"
     ]
    }
   ],
   "source": [
    "res = db.Gymnases.aggregate([ \n",
    "    { \"$group\": { \"_id\": \"Total\", \"nb\": { \"$sum\": 1 }, \"surfmoy\": { \"$avg\": \"$Surface\" }}}\n",
    "])\n",
    "affiche(res)"
   ]
  },
  {
   "cell_type": "markdown",
   "metadata": {},
   "source": [
    "Pour faire une agrégation sur un critère, on indique le champs toujours avec le symbole `\"$\"` devant. Nous avons ici, pour chaque ville, le nombre de gymnases et des statistiques simples sur la surface de ceux-ci (totale, moyenne, minimum et maximum)."
   ]
  },
  {
   "cell_type": "code",
   "execution_count": 27,
   "metadata": {},
   "outputs": [
    {
     "name": "stdout",
     "output_type": "stream",
     "text": [
      "[{'_id': 'SAINT DENIS',\n",
      "  'nb': 3,\n",
      "  'surfaceMaximum': 520,\n",
      "  'surfaceMinimum': 450,\n",
      "  'surfaceMoyenne': 490.0,\n",
      "  'surfaceTotale': 1470},\n",
      " {'_id': 'STAINS',\n",
      "  'nb': 6,\n",
      "  'surfaceMaximum': 400,\n",
      "  'surfaceMinimum': 200,\n",
      "  'surfaceMoyenne': 333.3333333333333,\n",
      "  'surfaceTotale': 2000},\n",
      " {'_id': 'MONTMORENCY',\n",
      "  'nb': 5,\n",
      "  'surfaceMaximum': 500,\n",
      "  'surfaceMinimum': 420,\n",
      "  'surfaceMoyenne': 470.0,\n",
      "  'surfaceTotale': 2350},\n",
      " {'_id': 'GARGES',\n",
      "  'nb': 1,\n",
      "  'surfaceMaximum': 400,\n",
      "  'surfaceMinimum': 400,\n",
      "  'surfaceMoyenne': 400.0,\n",
      "  'surfaceTotale': 400},\n",
      " {'_id': 'VILLETANEUSE',\n",
      "  'nb': 3,\n",
      "  'surfaceMaximum': 620,\n",
      "  'surfaceMinimum': 350,\n",
      "  'surfaceMoyenne': 523.3333333333334,\n",
      "  'surfaceTotale': 1570},\n",
      " {'_id': 'PIERREFITTE',\n",
      "  'nb': 5,\n",
      "  'surfaceMaximum': 450,\n",
      "  'surfaceMinimum': 300,\n",
      "  'surfaceMoyenne': 382.0,\n",
      "  'surfaceTotale': 1910},\n",
      " {'_id': 'SARCELLES',\n",
      "  'nb': 5,\n",
      "  'surfaceMaximum': 620,\n",
      "  'surfaceMinimum': 400,\n",
      "  'surfaceMoyenne': 548.0,\n",
      "  'surfaceTotale': 2740}]\n"
     ]
    }
   ],
   "source": [
    "res = db.Gymnases.aggregate([ \n",
    "    { \"$group\": { \n",
    "        \"_id\": \"$Ville\", \n",
    "        \"nb\": { \"$sum\": 1 }, \n",
    "        \"surfaceTotale\": { \"$sum\": \"$Surface\" },\n",
    "        \"surfaceMoyenne\": { \"$avg\": \"$Surface\" },\n",
    "        \"surfaceMinimum\": { \"$min\": \"$Surface\" },\n",
    "        \"surfaceMaximum\": { \"$max\": \"$Surface\" }\n",
    "    }}\n",
    "])\n",
    "affiche(res)"
   ]
  },
  {
   "cell_type": "markdown",
   "metadata": {},
   "source": [
    "Et comme dans *MongoDB*, on peut utiliser les commandes `unwind`, `project` et `sort` pour réaliser des calculs d'agrégats complexes. Ici, nous cherchons le nombre total de séances par jour, ceux-ci étant triés dans l'ordre décroissant du nombre de séances."
   ]
  },
  {
   "cell_type": "code",
   "execution_count": 28,
   "metadata": {},
   "outputs": [
    {
     "name": "stdout",
     "output_type": "stream",
     "text": [
      "[{'_id': 'lundi', 'nb': 23},\n",
      " {'_id': 'dimanche', 'nb': 17},\n",
      " {'_id': 'mercredi', 'nb': 13},\n",
      " {'_id': 'samedi', 'nb': 9},\n",
      " {'_id': 'mardi', 'nb': 8},\n",
      " {'_id': 'vendredi', 'nb': 6},\n",
      " {'_id': 'jeudi', 'nb': 6}]\n"
     ]
    }
   ],
   "source": [
    "res = db.Gymnases.aggregate([\n",
    "    { \"$unwind\": \"$Seances\" }, \n",
    "    { \"$project\": { \"Jour\": { \"$toLower\": \"$Seances.Jour\" } }},\n",
    "    { \"$group\": { \"_id\": \"$Jour\", \"nb\": { \"$sum\": 1 }} },\n",
    "    { \"$sort\": { \"nb\": -1 }}\n",
    "])\n",
    "affiche(res)"
   ]
  },
  {
   "cell_type": "markdown",
   "metadata": {},
   "source": [
    "## Importation dans un `DataFrame`\n",
    "\n",
    "Pour pouvoir utiliser les données recherchées, nous pouvons les transformer en `DataFrame` (de type `pandas`). Pour cela, nous les transformons en `list`, puis en `DataFrame`, comme dans l'exemple ci-dessous."
   ]
  },
  {
   "cell_type": "code",
   "execution_count": 29,
   "metadata": {},
   "outputs": [],
   "source": [
    "import pandas\n",
    "\n",
    "res = db.Sportifs.find()\n",
    "df = pandas.DataFrame(list(res))"
   ]
  },
  {
   "cell_type": "markdown",
   "metadata": {},
   "source": [
    "Quand on regarde le `DataFrame` obtenu, nous remarquons que pour certains colonnes (`Sports` ici), le contenu est un objet complexe (un dictionnaire en l'occurence ici)."
   ]
  },
  {
   "cell_type": "code",
   "execution_count": 30,
   "metadata": {},
   "outputs": [
    {
     "data": {
      "text/html": [
       "<div>\n",
       "<style scoped>\n",
       "    .dataframe tbody tr th:only-of-type {\n",
       "        vertical-align: middle;\n",
       "    }\n",
       "\n",
       "    .dataframe tbody tr th {\n",
       "        vertical-align: top;\n",
       "    }\n",
       "\n",
       "    .dataframe thead th {\n",
       "        text-align: right;\n",
       "    }\n",
       "</style>\n",
       "<table border=\"1\" class=\"dataframe\">\n",
       "  <thead>\n",
       "    <tr style=\"text-align: right;\">\n",
       "      <th></th>\n",
       "      <th>Age</th>\n",
       "      <th>IdSportif</th>\n",
       "      <th>IdSportifConseiller</th>\n",
       "      <th>Nom</th>\n",
       "      <th>Prenom</th>\n",
       "      <th>Sexe</th>\n",
       "      <th>Sports</th>\n",
       "      <th>_id</th>\n",
       "    </tr>\n",
       "  </thead>\n",
       "  <tbody>\n",
       "    <tr>\n",
       "      <th>0</th>\n",
       "      <td>30</td>\n",
       "      <td>1</td>\n",
       "      <td>NaN</td>\n",
       "      <td>BOUTAHAR</td>\n",
       "      <td>Abderahim</td>\n",
       "      <td>m</td>\n",
       "      <td>{'Entrainer': ['Basket ball', 'Volley ball', '...</td>\n",
       "      <td>566eec5f662b388eba464203</td>\n",
       "    </tr>\n",
       "    <tr>\n",
       "      <th>1</th>\n",
       "      <td>28</td>\n",
       "      <td>2</td>\n",
       "      <td>1.0</td>\n",
       "      <td>KERVADEC</td>\n",
       "      <td>Yann</td>\n",
       "      <td>M</td>\n",
       "      <td>{'Entrainer': ['Basket ball', 'Volley ball', '...</td>\n",
       "      <td>566eec5f662b388eba464204</td>\n",
       "    </tr>\n",
       "    <tr>\n",
       "      <th>2</th>\n",
       "      <td>25</td>\n",
       "      <td>3</td>\n",
       "      <td>1.0</td>\n",
       "      <td>HUE</td>\n",
       "      <td>Pascale</td>\n",
       "      <td>F</td>\n",
       "      <td>{'Entrainer': ['Basket ball', 'Volley ball', '...</td>\n",
       "      <td>566eec5f662b388eba464205</td>\n",
       "    </tr>\n",
       "    <tr>\n",
       "      <th>3</th>\n",
       "      <td>32</td>\n",
       "      <td>4</td>\n",
       "      <td>1.0</td>\n",
       "      <td>DORLEANS</td>\n",
       "      <td>Jean-michel</td>\n",
       "      <td>M</td>\n",
       "      <td>{'Entrainer': ['Basket ball', 'Ping pong', 'Bo...</td>\n",
       "      <td>566eec5f662b388eba464206</td>\n",
       "    </tr>\n",
       "    <tr>\n",
       "      <th>4</th>\n",
       "      <td>22</td>\n",
       "      <td>5</td>\n",
       "      <td>1.0</td>\n",
       "      <td>COMES</td>\n",
       "      <td>Sylvie</td>\n",
       "      <td>F</td>\n",
       "      <td>{'Arbitrer': 'Ping pong', 'Jouer': ['Basket ba...</td>\n",
       "      <td>566eec5f662b388eba464207</td>\n",
       "    </tr>\n",
       "  </tbody>\n",
       "</table>\n",
       "</div>"
      ],
      "text/plain": [
       "   Age  IdSportif  IdSportifConseiller       Nom       Prenom Sexe  \\\n",
       "0   30          1                  NaN  BOUTAHAR    Abderahim    m   \n",
       "1   28          2                  1.0  KERVADEC         Yann    M   \n",
       "2   25          3                  1.0       HUE      Pascale    F   \n",
       "3   32          4                  1.0  DORLEANS  Jean-michel    M   \n",
       "4   22          5                  1.0     COMES       Sylvie    F   \n",
       "\n",
       "                                              Sports                       _id  \n",
       "0  {'Entrainer': ['Basket ball', 'Volley ball', '...  566eec5f662b388eba464203  \n",
       "1  {'Entrainer': ['Basket ball', 'Volley ball', '...  566eec5f662b388eba464204  \n",
       "2  {'Entrainer': ['Basket ball', 'Volley ball', '...  566eec5f662b388eba464205  \n",
       "3  {'Entrainer': ['Basket ball', 'Ping pong', 'Bo...  566eec5f662b388eba464206  \n",
       "4  {'Arbitrer': 'Ping pong', 'Jouer': ['Basket ba...  566eec5f662b388eba464207  "
      ]
     },
     "execution_count": 30,
     "metadata": {},
     "output_type": "execute_result"
    }
   ],
   "source": [
    "df.head()"
   ]
  },
  {
   "cell_type": "markdown",
   "metadata": {},
   "source": [
    "Nous récupérons ici le premier sportif dans l'objet `df0`."
   ]
  },
  {
   "cell_type": "code",
   "execution_count": 31,
   "metadata": {},
   "outputs": [],
   "source": [
    "df0 = df.loc[0,:]"
   ]
  },
  {
   "cell_type": "markdown",
   "metadata": {},
   "source": [
    "Avec cet objet, nous accédons aux sports qu'il joue/entraîne/arbitre comme suit."
   ]
  },
  {
   "cell_type": "code",
   "execution_count": 32,
   "metadata": {},
   "outputs": [
    {
     "data": {
      "text/plain": [
       "{'Arbitrer': ['Basket ball', 'Volley ball', 'Hockey'],\n",
       " 'Entrainer': ['Basket ball',\n",
       "  'Volley ball',\n",
       "  'Hand ball',\n",
       "  'Hockey',\n",
       "  'Badmington'],\n",
       " 'Jouer': ['Volley ball', 'Tennis', 'Football']}"
      ]
     },
     "execution_count": 32,
     "metadata": {},
     "output_type": "execute_result"
    }
   ],
   "source": [
    "df0.Sports"
   ]
  },
  {
   "cell_type": "markdown",
   "metadata": {},
   "source": [
    "Pour obtenir le tableau des sports joués (par exemple), nous le récupérons avec le code suivant."
   ]
  },
  {
   "cell_type": "code",
   "execution_count": 33,
   "metadata": {},
   "outputs": [
    {
     "data": {
      "text/plain": [
       "['Volley ball', 'Tennis', 'Football']"
      ]
     },
     "execution_count": 33,
     "metadata": {},
     "output_type": "execute_result"
    }
   ],
   "source": [
    "df0.Sports[\"Jouer\"]"
   ]
  },
  {
   "cell_type": "markdown",
   "metadata": {},
   "source": [
    "## A faire\n",
    "\n",
    "Répondre aux questions suivantes\n",
    "\n",
    "01. Quels sont les sportifs (identifiant, nom et prénom) qui ont entre 20 et 30 ans ?\n",
    "02. Quels sont les gymnases de \"Villetaneuse\" ou de \"Sarcelles\" qui ont une surface de plus de 400 m2 ?\n",
    "03. Quels sont les sportifs (identifiant et nom) qui pratiquent du hand ball ?\n",
    "04. Dans quels gymnases et quels jours y a t-il des séances de hand ball ?\n",
    "05. Dans quels gymnases peut-on jouer au hockey le mercredi apres 15H ?\n",
    "06. Quels sportifs (identifiant et nom) ne pratiquent aucun sport ?\n",
    "07. Quels gymnases n'ont pas de séances le dimanche ?\n",
    "08. Quels gymnases ne proposent que des séances de basket ball ou de volley ball ?\n",
    "09. Quels sont les entraîneurs qui sont aussi joueurs ?\n",
    "10. Quels sont les sportifs qui sont des conseillers ?\n",
    "11. Pour le sportif \"Kervadec\" quel est le nom de son conseiller ?\n",
    "12. Quels entraîneurs entraînent du hand ball et du basket ball ?\n",
    "13. ~~Quels sont les couples de sportifs (identifiant et nom et prénom de chaque) de même age ?~~\n",
    "14. Quelle est la moyenne d'âge des sportives qui pratiquent du basket ball ?\n",
    "15. Quels sont les sportifs les plus jeunes ?\n",
    "16. Quels sont les gymnases de \"Stains\" ou de \"Montmorency\" qui ont la plus grande surface ?\n",
    "17. Quels entraîneurs n'entraînent que du hand ball ou du basket ball ?\n",
    "18. ~~Quels sont les couples de sportifs (identifiant et nom et prénom de chaque) de même âge avec le même conseiller ?~~\n",
    "19. Quels sportifs n'ont pas de conseillers ?\n",
    "20. Pour chaque sportif donner le nombre de sports qu'il arbitre\n",
    "21. Pour chaque gymnase de Stains donner par jour d'ouverture les horaires des premières et dernières\n",
    "séances\n",
    "22. Pour chaque entraîneurs de hand ball quel est le nombre de séances journalières qu'il assure ?\n",
    "23. Quels sont les gymnases ayant plus de 15 séances le mercredi ?\n",
    "24. Pour chaque gymnase de Montmorency : quel est le nombre de séances journalières de chaque sport\n",
    "propose ?\n",
    "25. Dans quels gymnases et quels jours y a t-il au moins 4 séances de volley ball dans la journée ?\n"
   ]
  },
  {
   "cell_type": "code",
   "execution_count": null,
   "metadata": {},
   "outputs": [],
   "source": []
  }
 ],
 "metadata": {
  "kernelspec": {
   "display_name": "Python 3",
   "language": "python",
   "name": "python3"
  },
  "language_info": {
   "codemirror_mode": {
    "name": "ipython",
    "version": 3
   },
   "file_extension": ".py",
   "mimetype": "text/x-python",
   "name": "python",
   "nbconvert_exporter": "python",
   "pygments_lexer": "ipython3",
   "version": "3.5.2"
  }
 },
 "nbformat": 4,
 "nbformat_minor": 2
}
