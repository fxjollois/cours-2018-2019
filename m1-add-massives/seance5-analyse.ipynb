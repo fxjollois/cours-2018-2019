{
 "cells": [
  {
   "cell_type": "markdown",
   "metadata": {
    "run_control": {
     "frozen": false,
     "read_only": false
    }
   },
   "source": [
    "# Analyse de données sous `Python`\n",
    "\n",
    "Nous utilisons dans ce TP le module [`scikit-learn`](http://scikit-learn.org/), dédié au *Machine Learning*. Pour mieux la découvrir, nous allons réaliser une étude de cas, avec les données `iris`.\n",
    "\n",
    "Dans cette étude, nous allons chercher à savoir s'il existe différentes sous-espèces d'iris. Pour cela, nous allons procéder par étapes ::\n",
    "\n",
    "1. Visualisation des données, via une **ACP**\n",
    "1. Classification non-supervisée interne à chaque espèce, via **DBSCAN**\n",
    "1. Analyse des résultats\n",
    "\n",
    "Dans un premier temps, il va nous falloir importer les données (`iris`) que nous allons utiliser (via la librairie `pydataset`). Nous allons aussi utiliser d'autres librairies (telles que `seaborn`, `numpy`, `matplotlib` et `pandas`).\n",
    "\n",
    "Nous importerons les éléments de `scikit-learn` (module `sklearn`) au fur et à mesure."
   ]
  },
  {
   "cell_type": "code",
   "execution_count": 1,
   "metadata": {},
   "outputs": [],
   "source": [
    "import numpy\n",
    "import pandas\n",
    "import matplotlib.pyplot as plt\n",
    "import seaborn\n",
    "seaborn.set_style(\"white\")\n",
    "\n",
    "%matplotlib inline"
   ]
  },
  {
   "cell_type": "markdown",
   "metadata": {},
   "source": [
    "Pour rappel, la table se présente comme ceci :"
   ]
  },
  {
   "cell_type": "code",
   "execution_count": 2,
   "metadata": {},
   "outputs": [
    {
     "data": {
      "text/html": [
       "<div>\n",
       "<style scoped>\n",
       "    .dataframe tbody tr th:only-of-type {\n",
       "        vertical-align: middle;\n",
       "    }\n",
       "\n",
       "    .dataframe tbody tr th {\n",
       "        vertical-align: top;\n",
       "    }\n",
       "\n",
       "    .dataframe thead th {\n",
       "        text-align: right;\n",
       "    }\n",
       "</style>\n",
       "<table border=\"1\" class=\"dataframe\">\n",
       "  <thead>\n",
       "    <tr style=\"text-align: right;\">\n",
       "      <th></th>\n",
       "      <th>Sepal Length</th>\n",
       "      <th>Sepal Width</th>\n",
       "      <th>Petal Length</th>\n",
       "      <th>Petal Width</th>\n",
       "      <th>Species</th>\n",
       "    </tr>\n",
       "  </thead>\n",
       "  <tbody>\n",
       "    <tr>\n",
       "      <th>0</th>\n",
       "      <td>5.1</td>\n",
       "      <td>3.5</td>\n",
       "      <td>1.4</td>\n",
       "      <td>0.2</td>\n",
       "      <td>setosa</td>\n",
       "    </tr>\n",
       "    <tr>\n",
       "      <th>1</th>\n",
       "      <td>4.9</td>\n",
       "      <td>3.0</td>\n",
       "      <td>1.4</td>\n",
       "      <td>0.2</td>\n",
       "      <td>setosa</td>\n",
       "    </tr>\n",
       "    <tr>\n",
       "      <th>2</th>\n",
       "      <td>4.7</td>\n",
       "      <td>3.2</td>\n",
       "      <td>1.3</td>\n",
       "      <td>0.2</td>\n",
       "      <td>setosa</td>\n",
       "    </tr>\n",
       "    <tr>\n",
       "      <th>3</th>\n",
       "      <td>4.6</td>\n",
       "      <td>3.1</td>\n",
       "      <td>1.5</td>\n",
       "      <td>0.2</td>\n",
       "      <td>setosa</td>\n",
       "    </tr>\n",
       "    <tr>\n",
       "      <th>4</th>\n",
       "      <td>5.0</td>\n",
       "      <td>3.6</td>\n",
       "      <td>1.4</td>\n",
       "      <td>0.2</td>\n",
       "      <td>setosa</td>\n",
       "    </tr>\n",
       "  </tbody>\n",
       "</table>\n",
       "</div>"
      ],
      "text/plain": [
       "   Sepal Length  Sepal Width  Petal Length  Petal Width Species\n",
       "0           5.1          3.5           1.4          0.2  setosa\n",
       "1           4.9          3.0           1.4          0.2  setosa\n",
       "2           4.7          3.2           1.3          0.2  setosa\n",
       "3           4.6          3.1           1.5          0.2  setosa\n",
       "4           5.0          3.6           1.4          0.2  setosa"
      ]
     },
     "execution_count": 2,
     "metadata": {},
     "output_type": "execute_result"
    }
   ],
   "source": [
    "iris = pandas.read_csv(\"Iris.txt\", sep=\"\\t\")\n",
    "iris.head()"
   ]
  },
  {
   "cell_type": "markdown",
   "metadata": {},
   "source": [
    "## ACP\n",
    "\n",
    "Dans le sous-module `decomposition`, nous allons importer la fonction [`PCA()`](http://scikit-learn.org/stable/modules/generated/sklearn.decomposition.PCA.html). Le fonctionnement de celle-ci est similaire à toutes les autres dans `scikit-learn`. \n",
    "\n",
    "1. On créé d'abord un objet (nommé ici `pca`) qui va contenir le résultat de l'ACP. Dans la fonction `PCA()`, on pourra indiquer les paramètres tels que le nombre de composants à retenir (`n_components`) ou la méthode de calcul (`svd_solver`).\n",
    "2. Ensuite, on ajuste (*fit*  en anglais) sur des données avec la fonction `fit()` de l'objet précédemment créé. Dans cette fonction, nous devons donc passer les données à utiliser.\n",
    "\n",
    "Si l'on souhaite une ACP normée, il nous faut standardiser les données en amont, avec la fonction `scale()` du sous-module `preprocessing` (importée aussi ici). Bien évidemment, il ne faut passer que des variables quantitatives."
   ]
  },
  {
   "cell_type": "code",
   "execution_count": 3,
   "metadata": {},
   "outputs": [
    {
     "data": {
      "text/plain": [
       "PCA(copy=True, iterated_power='auto', n_components=None, random_state=None,\n",
       "  svd_solver='auto', tol=0.0, whiten=False)"
      ]
     },
     "execution_count": 3,
     "metadata": {},
     "output_type": "execute_result"
    }
   ],
   "source": [
    "from sklearn.decomposition import PCA\n",
    "from sklearn.preprocessing import scale\n",
    "\n",
    "pca = PCA()\n",
    "pca.fit(scale(iris[iris.columns[:4]]))"
   ]
  },
  {
   "cell_type": "markdown",
   "metadata": {},
   "source": [
    "L'objet `pca` comprend maintenant un certain nombre d'objets et de fonctions. Le premier objet est le tableau des variances expliquées (`explained_variance_`) par chaque dimension, et le ratio (proportion) de variance expliquée par dimension (`explained_variance_ratio_`)."
   ]
  },
  {
   "cell_type": "code",
   "execution_count": 4,
   "metadata": {},
   "outputs": [
    {
     "name": "stdout",
     "output_type": "stream",
     "text": [
      "[2.93808505 0.9201649  0.14774182 0.02085386]\n",
      "[0.72962445 0.22850762 0.03668922 0.00517871]\n"
     ]
    }
   ],
   "source": [
    "print(pca.explained_variance_)\n",
    "print(pca.explained_variance_ratio_)"
   ]
  },
  {
   "cell_type": "markdown",
   "metadata": {},
   "source": [
    "Bien évidemment, il est possible (et préférable) de faire un tableau récapitulatif, avec les valeurs propres, les proportions de variance expliquée simples et cumulées. Voici un petit code permettant de faire ceci."
   ]
  },
  {
   "cell_type": "code",
   "execution_count": 5,
   "metadata": {},
   "outputs": [
    {
     "data": {
      "text/html": [
       "<div>\n",
       "<style scoped>\n",
       "    .dataframe tbody tr th:only-of-type {\n",
       "        vertical-align: middle;\n",
       "    }\n",
       "\n",
       "    .dataframe tbody tr th {\n",
       "        vertical-align: top;\n",
       "    }\n",
       "\n",
       "    .dataframe thead th {\n",
       "        text-align: right;\n",
       "    }\n",
       "</style>\n",
       "<table border=\"1\" class=\"dataframe\">\n",
       "  <thead>\n",
       "    <tr style=\"text-align: right;\">\n",
       "      <th></th>\n",
       "      <th>Dimension</th>\n",
       "      <th>Valeur propre</th>\n",
       "      <th>% variance expliquée</th>\n",
       "      <th>% cum. var. expliquée</th>\n",
       "    </tr>\n",
       "  </thead>\n",
       "  <tbody>\n",
       "    <tr>\n",
       "      <th>0</th>\n",
       "      <td>Dim1</td>\n",
       "      <td>2.938085</td>\n",
       "      <td>73.0</td>\n",
       "      <td>73.0</td>\n",
       "    </tr>\n",
       "    <tr>\n",
       "      <th>1</th>\n",
       "      <td>Dim2</td>\n",
       "      <td>0.920165</td>\n",
       "      <td>23.0</td>\n",
       "      <td>96.0</td>\n",
       "    </tr>\n",
       "    <tr>\n",
       "      <th>2</th>\n",
       "      <td>Dim3</td>\n",
       "      <td>0.147742</td>\n",
       "      <td>4.0</td>\n",
       "      <td>99.0</td>\n",
       "    </tr>\n",
       "    <tr>\n",
       "      <th>3</th>\n",
       "      <td>Dim4</td>\n",
       "      <td>0.020854</td>\n",
       "      <td>1.0</td>\n",
       "      <td>100.0</td>\n",
       "    </tr>\n",
       "  </tbody>\n",
       "</table>\n",
       "</div>"
      ],
      "text/plain": [
       "  Dimension  Valeur propre  % variance expliquée  % cum. var. expliquée\n",
       "0      Dim1       2.938085                  73.0                   73.0\n",
       "1      Dim2       0.920165                  23.0                   96.0\n",
       "2      Dim3       0.147742                   4.0                   99.0\n",
       "3      Dim4       0.020854                   1.0                  100.0"
      ]
     },
     "execution_count": 5,
     "metadata": {},
     "output_type": "execute_result"
    }
   ],
   "source": [
    "eig = pandas.DataFrame(\n",
    "    {\n",
    "        \"Dimension\" : [\"Dim\" + str(x + 1) for x in range(4)], \n",
    "        \"Valeur propre\" : pca.explained_variance_,\n",
    "        \"% variance expliquée\" : numpy.round(pca.explained_variance_ratio_ * 100),\n",
    "        \"% cum. var. expliquée\" : numpy.round(numpy.cumsum(pca.explained_variance_ratio_) * 100)\n",
    "    },\n",
    "    columns = [\"Dimension\", \"Valeur propre\", \"% variance expliquée\", \"% cum. var. expliquée\"]\n",
    ")\n",
    "eig"
   ]
  },
  {
   "cell_type": "markdown",
   "metadata": {},
   "source": [
    "L'idée est de représenter graphiquement ces proportions de variances expliquées (qu'on passe en pourcentage par convenance)."
   ]
  },
  {
   "cell_type": "code",
   "execution_count": 6,
   "metadata": {
    "scrolled": true
   },
   "outputs": [
    {
     "data": {
      "text/plain": [
       "Text(3.25,26,'25%')"
      ]
     },
     "execution_count": 6,
     "metadata": {},
     "output_type": "execute_result"
    },
    {
     "data": {
      "image/png": "[encoded data removed]",
      "text/plain": [
       "<matplotlib.figure.Figure at 0x7f9f380f6ef0>"
      ]
     },
     "metadata": {},
     "output_type": "display_data"
    }
   ],
   "source": [
    "g_eig = seaborn.barplot(x = \"Dimension\", \n",
    "                y = \"% variance expliquée\",\n",
    "                palette = [\"lightseagreen\"],\n",
    "                data = eig)\n",
    "g_eig.set(ylabel = \"Variance expliquée (%)\")\n",
    "g_eig.figure.suptitle(\"Variance expliquée par dimension\")\n",
    "plt.axhline(y = 25, linewidth = .5, color = \"dimgray\", linestyle = \"--\") # 25 = 100 / 4 (nb dimensions)\n",
    "plt.text(3.25, 26, \"25%\")"
   ]
  },
  {
   "cell_type": "markdown",
   "metadata": {},
   "source": [
    "On remarque ici qu'avec seulement deux dimensions suffisent à expliquer 96 %  de la variance des données. Nous allons maintenant calculer les coordonnées des iris sur les dimensions, avec la fonction `transform()` de l'objet `pca`."
   ]
  },
  {
   "cell_type": "code",
   "execution_count": 7,
   "metadata": {},
   "outputs": [],
   "source": [
    "iris_pca = pca.transform(iris[iris.columns[:4]])"
   ]
  },
  {
   "cell_type": "markdown",
   "metadata": {},
   "source": [
    "Afin de manipuler plus facilement l'objet obtenu par la suite, nous allons créer un `DataFrame` `pandas` en ne prenant que les deux premières dimensions, ainsi que les espèces."
   ]
  },
  {
   "cell_type": "code",
   "execution_count": 8,
   "metadata": {},
   "outputs": [
    {
     "data": {
      "text/html": [
       "<div>\n",
       "<style scoped>\n",
       "    .dataframe tbody tr th:only-of-type {\n",
       "        vertical-align: middle;\n",
       "    }\n",
       "\n",
       "    .dataframe tbody tr th {\n",
       "        vertical-align: top;\n",
       "    }\n",
       "\n",
       "    .dataframe thead th {\n",
       "        text-align: right;\n",
       "    }\n",
       "</style>\n",
       "<table border=\"1\" class=\"dataframe\">\n",
       "  <thead>\n",
       "    <tr style=\"text-align: right;\">\n",
       "      <th></th>\n",
       "      <th>Dim1</th>\n",
       "      <th>Dim2</th>\n",
       "      <th>Species</th>\n",
       "    </tr>\n",
       "  </thead>\n",
       "  <tbody>\n",
       "    <tr>\n",
       "      <th>0</th>\n",
       "      <td>2.640270</td>\n",
       "      <td>5.204041</td>\n",
       "      <td>setosa</td>\n",
       "    </tr>\n",
       "    <tr>\n",
       "      <th>1</th>\n",
       "      <td>2.670730</td>\n",
       "      <td>4.666910</td>\n",
       "      <td>setosa</td>\n",
       "    </tr>\n",
       "    <tr>\n",
       "      <th>2</th>\n",
       "      <td>2.454606</td>\n",
       "      <td>4.773636</td>\n",
       "      <td>setosa</td>\n",
       "    </tr>\n",
       "    <tr>\n",
       "      <th>3</th>\n",
       "      <td>2.545517</td>\n",
       "      <td>4.648463</td>\n",
       "      <td>setosa</td>\n",
       "    </tr>\n",
       "    <tr>\n",
       "      <th>4</th>\n",
       "      <td>2.561228</td>\n",
       "      <td>5.258629</td>\n",
       "      <td>setosa</td>\n",
       "    </tr>\n",
       "  </tbody>\n",
       "</table>\n",
       "</div>"
      ],
      "text/plain": [
       "       Dim1      Dim2 Species\n",
       "0  2.640270  5.204041  setosa\n",
       "1  2.670730  4.666910  setosa\n",
       "2  2.454606  4.773636  setosa\n",
       "3  2.545517  4.648463  setosa\n",
       "4  2.561228  5.258629  setosa"
      ]
     },
     "execution_count": 8,
     "metadata": {},
     "output_type": "execute_result"
    }
   ],
   "source": [
    "# Transformation en DataFrame pandas\n",
    "iris_pca_df = pandas.DataFrame({\n",
    "    \"Dim1\" : iris_pca[:,0], \n",
    "    \"Dim2\" : iris_pca[:,1], \n",
    "    \"Species\" : iris.Species\n",
    "})\n",
    "\n",
    "# Résultat (premières lignes)\n",
    "iris_pca_df.head()"
   ]
  },
  {
   "cell_type": "markdown",
   "metadata": {},
   "source": [
    "Il est maintenant possible de représenter les données sur le premier plan factoriel, en ajoutant bien évidemment l'information sur les espèces."
   ]
  },
  {
   "cell_type": "code",
   "execution_count": 9,
   "metadata": {},
   "outputs": [
    {
     "data": {
      "text/plain": [
       "Text(0.5,0.98,'Premier plan factoriel')"
      ]
     },
     "execution_count": 9,
     "metadata": {},
     "output_type": "execute_result"
    },
    {
     "data": {
      "image/png": "[encoded data removed]",
      "text/plain": [
       "<matplotlib.figure.Figure at 0x7f9f17c59978>"
      ]
     },
     "metadata": {},
     "output_type": "display_data"
    }
   ],
   "source": [
    "g_pca = seaborn.lmplot(\"Dim1\", \"Dim2\", hue = \"Species\", data = iris_pca_df, fit_reg = False)\n",
    "g_pca.set(xlabel = \"Dimension 1 (73%)\", ylabel = \"Dimension 2 (23 %)\")\n",
    "g_pca.fig.suptitle(\"Premier plan factoriel\")"
   ]
  },
  {
   "cell_type": "markdown",
   "metadata": {},
   "source": [
    "Il est aussi possible de différencier l'affichage de ce premier plan par espèce, grâce à l'option `col` de `lmplot()`"
   ]
  },
  {
   "cell_type": "code",
   "execution_count": 10,
   "metadata": {
    "scrolled": true
   },
   "outputs": [
    {
     "data": {
      "text/plain": [
       "<seaborn.axisgrid.FacetGrid at 0x7f9f17c01748>"
      ]
     },
     "execution_count": 10,
     "metadata": {},
     "output_type": "execute_result"
    },
    {
     "data": {
      "image/png": "[encoded data removed]",
      "text/plain": [
       "<matplotlib.figure.Figure at 0x7f9f17c016d8>"
      ]
     },
     "metadata": {},
     "output_type": "display_data"
    }
   ],
   "source": [
    "g_pca2 = seaborn.lmplot(\"Dim1\", \"Dim2\", hue = \"Species\", col = \"Species\", col_wrap = 2, data = iris_pca_df, fit_reg = False)\n",
    "g_pca2.set(xlabel = \"Dimension 1 (73%)\", ylabel = \"Dimension 2 (23 %)\")"
   ]
  },
  {
   "cell_type": "markdown",
   "metadata": {},
   "source": [
    "## DBSCAN\n",
    "\n",
    "[`DBSCAN`](https://fr.wikipedia.org/wiki/DBSCAN) est un algorithme de classification non supervisée, basé sur la densité. Il est intéressant car il ne nécessite pas de connaître le nombre de classes, mais une estimation de la densité (globale) des données. En effet, les points proches (distance inférieure à $\\varepsilon$) sont consiédérés dans la même classe. Si toutefois cette classe comporte au moins un cetain nombre de points au final. Si ce n'est pas le cas, les points sont considérés comme *outliers* et mis à part.\n",
    "\n",
    "Nous utilisons ici la fonction [`DBSCAN()`](http://scikit-learn.org/stable/modules/generated/sklearn.cluster.DBSCAN.html) du sous-module `cluster`. Celle-ci peut prendre en paramètre, entre autres, la valeur de $\\varepsilon$ (`eps`, `.5` par défaut) et le nombre minimal d'objets dans une classe (`min_samples`, `5` par défaut).\n",
    "\n",
    "Puis nous ajustons les données standardisées (pour ne pas donner plus d'influences à une variable qu'à une autre)."
   ]
  },
  {
   "cell_type": "code",
   "execution_count": 11,
   "metadata": {},
   "outputs": [
    {
     "data": {
      "text/plain": [
       "DBSCAN(algorithm='auto', eps=0.6, leaf_size=30, metric='euclidean',\n",
       "    metric_params=None, min_samples=3, n_jobs=1, p=None)"
      ]
     },
     "execution_count": 11,
     "metadata": {},
     "output_type": "execute_result"
    }
   ],
   "source": [
    "from sklearn.cluster import DBSCAN\n",
    "\n",
    "db = DBSCAN(eps = .6, min_samples = 3)\n",
    "db.fit(scale(iris[iris.columns[:4]]))"
   ]
  },
  {
   "cell_type": "markdown",
   "metadata": {},
   "source": [
    "Les classes dont contenues dans l'objet `labels_` de `db`. On a pour chaque individu sa classe (de $0$ à $K-1$ pour $K$ classes obtenues). Les *outliers* sont étiquettés $-1$ ."
   ]
  },
  {
   "cell_type": "code",
   "execution_count": 12,
   "metadata": {},
   "outputs": [
    {
     "data": {
      "text/plain": [
       "array([ 0,  0,  0,  0,  0,  0,  0,  0,  0,  0,  0,  0,  0,  0,  0,  0,  0,\n",
       "        0,  0,  0,  0,  0,  0,  0,  0,  0,  0,  0,  0,  0,  0,  0,  0,  0,\n",
       "        0,  0,  0,  0,  0,  0,  0, -1,  0,  0,  0,  0,  0,  0,  0,  0,  1,\n",
       "        1,  1,  1,  1,  1,  1,  2,  1,  1, -1,  1, -1,  1,  1,  1,  1,  1,\n",
       "        3,  1,  1,  1,  1,  1,  1,  1,  1,  1,  1,  1,  1,  1,  1,  1,  1,\n",
       "        1,  1,  3,  1,  1,  1,  1,  1,  2,  1,  1,  1,  1,  2,  1,  1,  1,\n",
       "        1,  1,  1,  1, -1,  1, -1, -1,  1,  1,  1,  1,  1,  1,  1, -1, -1,\n",
       "        3,  1,  1,  1,  1,  1,  1,  1,  1,  1,  1,  1, -1,  1,  1,  1,  1,\n",
       "        1,  1,  1,  1,  1,  1,  1,  1,  1,  1,  1,  1,  1,  1])"
      ]
     },
     "execution_count": 12,
     "metadata": {},
     "output_type": "execute_result"
    }
   ],
   "source": [
    "db.labels_"
   ]
  },
  {
   "cell_type": "markdown",
   "metadata": {},
   "source": [
    "On peut faire un tableau récapitulatif des effectifs par classes."
   ]
  },
  {
   "cell_type": "code",
   "execution_count": 13,
   "metadata": {},
   "outputs": [
    {
     "data": {
      "text/html": [
       "<div>\n",
       "<style scoped>\n",
       "    .dataframe tbody tr th:only-of-type {\n",
       "        vertical-align: middle;\n",
       "    }\n",
       "\n",
       "    .dataframe tbody tr th {\n",
       "        vertical-align: top;\n",
       "    }\n",
       "\n",
       "    .dataframe thead th {\n",
       "        text-align: right;\n",
       "    }\n",
       "</style>\n",
       "<table border=\"1\" class=\"dataframe\">\n",
       "  <thead>\n",
       "    <tr style=\"text-align: right;\">\n",
       "      <th></th>\n",
       "      <th>Classe</th>\n",
       "      <th>Effectif</th>\n",
       "    </tr>\n",
       "  </thead>\n",
       "  <tbody>\n",
       "    <tr>\n",
       "      <th>0</th>\n",
       "      <td>-1</td>\n",
       "      <td>9</td>\n",
       "    </tr>\n",
       "    <tr>\n",
       "      <th>1</th>\n",
       "      <td>0</td>\n",
       "      <td>49</td>\n",
       "    </tr>\n",
       "    <tr>\n",
       "      <th>2</th>\n",
       "      <td>1</td>\n",
       "      <td>86</td>\n",
       "    </tr>\n",
       "    <tr>\n",
       "      <th>3</th>\n",
       "      <td>2</td>\n",
       "      <td>3</td>\n",
       "    </tr>\n",
       "    <tr>\n",
       "      <th>4</th>\n",
       "      <td>3</td>\n",
       "      <td>3</td>\n",
       "    </tr>\n",
       "  </tbody>\n",
       "</table>\n",
       "</div>"
      ],
      "text/plain": [
       "   Classe  Effectif\n",
       "0      -1         9\n",
       "1       0        49\n",
       "2       1        86\n",
       "3       2         3\n",
       "4       3         3"
      ]
     },
     "execution_count": 13,
     "metadata": {},
     "output_type": "execute_result"
    }
   ],
   "source": [
    "eff = numpy.unique(db.labels_, return_counts = True)\n",
    "pandas.DataFrame({\n",
    "    \"Classe\" : eff[0],\n",
    "    \"Effectif\" : eff[1]\n",
    "})"
   ]
  },
  {
   "cell_type": "markdown",
   "metadata": {},
   "source": [
    "Pour la représentation des données, on ajoute ces labels de classe aux projections des iris sur le premier plan factoriel."
   ]
  },
  {
   "cell_type": "code",
   "execution_count": 14,
   "metadata": {},
   "outputs": [],
   "source": [
    "iris_pca_db = iris_pca_df.assign(Labels = db.labels_)"
   ]
  },
  {
   "cell_type": "markdown",
   "metadata": {},
   "source": [
    "On peut ainsi représenter les données en fonction des espèces et des classes obtenues."
   ]
  },
  {
   "cell_type": "code",
   "execution_count": 15,
   "metadata": {},
   "outputs": [
    {
     "data": {
      "text/plain": [
       "<seaborn.axisgrid.FacetGrid at 0x7f9f14c60dd8>"
      ]
     },
     "execution_count": 15,
     "metadata": {},
     "output_type": "execute_result"
    },
    {
     "data": {
      "image/png": "[encoded data removed]",
      "text/plain": [
       "<matplotlib.figure.Figure at 0x7f9f14c6f400>"
      ]
     },
     "metadata": {},
     "output_type": "display_data"
    }
   ],
   "source": [
    "seaborn.lmplot(\"Dim1\", \"Dim2\", hue = \"Labels\", col = \"Species\", data = iris_pca_db, fit_reg = False)"
   ]
  },
  {
   "cell_type": "markdown",
   "metadata": {},
   "source": [
    "On peut aussi *splitter* le graphique en ligne pour chaque classe."
   ]
  },
  {
   "cell_type": "code",
   "execution_count": 16,
   "metadata": {},
   "outputs": [
    {
     "data": {
      "text/plain": [
       "<seaborn.axisgrid.FacetGrid at 0x7f9f14be2128>"
      ]
     },
     "execution_count": 16,
     "metadata": {},
     "output_type": "execute_result"
    },
    {
     "data": {
      "image/png": "[encoded data removed]",
      "text/plain": [
       "<matplotlib.figure.Figure at 0x7f9f14c0acf8>"
      ]
     },
     "metadata": {},
     "output_type": "display_data"
    }
   ],
   "source": [
    "seaborn.lmplot(\"Dim1\", \"Dim2\", hue = \"Labels\", col = \"Species\", row = \"Labels\", data = iris_pca_db, fit_reg = False)"
   ]
  },
  {
   "cell_type": "markdown",
   "metadata": {},
   "source": [
    "## Exercice\n",
    "\n",
    "### ACP\n",
    "\n",
    "Nous allons travailler ici sur les données de température mondiale HadCRUT4, fournies par [Climate Research Unit](https://crudata.uea.ac.uk/). Vous trouverez plus d’informations sur ces données sur ce [lien](https://crudata.uea.ac.uk/cru/data/temperature/). Nous avons ici l’historique des anomalies moyennes mensuelles et annuelles depuis 1850, au niveau mondial, par rapport à la période 1961-1990.\n",
    "\n",
    "Le code ci-dessous télécharge directement les dernières données disponibles et les met dans un DataFrame dont vous avez un aperçu en dessous (en supprimant l’année 2019, incomplète)."
   ]
  },
  {
   "cell_type": "code",
   "execution_count": 17,
   "metadata": {
    "scrolled": true
   },
   "outputs": [
    {
     "data": {
      "text/html": [
       "<div>\n",
       "<style scoped>\n",
       "    .dataframe tbody tr th:only-of-type {\n",
       "        vertical-align: middle;\n",
       "    }\n",
       "\n",
       "    .dataframe tbody tr th {\n",
       "        vertical-align: top;\n",
       "    }\n",
       "\n",
       "    .dataframe thead th {\n",
       "        text-align: right;\n",
       "    }\n",
       "</style>\n",
       "<table border=\"1\" class=\"dataframe\">\n",
       "  <thead>\n",
       "    <tr style=\"text-align: right;\">\n",
       "      <th></th>\n",
       "      <th>Year</th>\n",
       "      <th>Jan</th>\n",
       "      <th>Feb</th>\n",
       "      <th>Mar</th>\n",
       "      <th>Apr</th>\n",
       "      <th>May</th>\n",
       "      <th>Jun</th>\n",
       "      <th>Jul</th>\n",
       "      <th>Aug</th>\n",
       "      <th>Sep</th>\n",
       "      <th>Oct</th>\n",
       "      <th>Nov</th>\n",
       "      <th>Dec</th>\n",
       "      <th>Annual</th>\n",
       "    </tr>\n",
       "  </thead>\n",
       "  <tbody>\n",
       "    <tr>\n",
       "      <th>165</th>\n",
       "      <td>2015.0</td>\n",
       "      <td>0.705</td>\n",
       "      <td>0.689</td>\n",
       "      <td>0.708</td>\n",
       "      <td>0.673</td>\n",
       "      <td>0.711</td>\n",
       "      <td>0.743</td>\n",
       "      <td>0.697</td>\n",
       "      <td>0.740</td>\n",
       "      <td>0.796</td>\n",
       "      <td>0.845</td>\n",
       "      <td>0.840</td>\n",
       "      <td>1.024</td>\n",
       "      <td>0.763</td>\n",
       "    </tr>\n",
       "    <tr>\n",
       "      <th>166</th>\n",
       "      <td>2016.0</td>\n",
       "      <td>0.934</td>\n",
       "      <td>1.111</td>\n",
       "      <td>1.106</td>\n",
       "      <td>0.937</td>\n",
       "      <td>0.707</td>\n",
       "      <td>0.744</td>\n",
       "      <td>0.744</td>\n",
       "      <td>0.790</td>\n",
       "      <td>0.729</td>\n",
       "      <td>0.598</td>\n",
       "      <td>0.553</td>\n",
       "      <td>0.620</td>\n",
       "      <td>0.797</td>\n",
       "    </tr>\n",
       "    <tr>\n",
       "      <th>167</th>\n",
       "      <td>2017.0</td>\n",
       "      <td>0.739</td>\n",
       "      <td>0.845</td>\n",
       "      <td>0.873</td>\n",
       "      <td>0.737</td>\n",
       "      <td>0.659</td>\n",
       "      <td>0.641</td>\n",
       "      <td>0.651</td>\n",
       "      <td>0.714</td>\n",
       "      <td>0.557</td>\n",
       "      <td>0.571</td>\n",
       "      <td>0.554</td>\n",
       "      <td>0.600</td>\n",
       "      <td>0.677</td>\n",
       "    </tr>\n",
       "    <tr>\n",
       "      <th>168</th>\n",
       "      <td>2018.0</td>\n",
       "      <td>0.554</td>\n",
       "      <td>0.528</td>\n",
       "      <td>0.615</td>\n",
       "      <td>0.627</td>\n",
       "      <td>0.587</td>\n",
       "      <td>0.573</td>\n",
       "      <td>0.594</td>\n",
       "      <td>0.586</td>\n",
       "      <td>0.598</td>\n",
       "      <td>0.684</td>\n",
       "      <td>0.591</td>\n",
       "      <td>0.604</td>\n",
       "      <td>0.595</td>\n",
       "    </tr>\n",
       "    <tr>\n",
       "      <th>169</th>\n",
       "      <td>2019.0</td>\n",
       "      <td>0.738</td>\n",
       "      <td>0.669</td>\n",
       "      <td>0.000</td>\n",
       "      <td>0.000</td>\n",
       "      <td>0.000</td>\n",
       "      <td>0.000</td>\n",
       "      <td>0.000</td>\n",
       "      <td>0.000</td>\n",
       "      <td>0.000</td>\n",
       "      <td>0.000</td>\n",
       "      <td>0.000</td>\n",
       "      <td>0.000</td>\n",
       "      <td>0.705</td>\n",
       "    </tr>\n",
       "  </tbody>\n",
       "</table>\n",
       "</div>"
      ],
      "text/plain": [
       "       Year    Jan    Feb    Mar    Apr    May    Jun    Jul    Aug    Sep  \\\n",
       "165  2015.0  0.705  0.689  0.708  0.673  0.711  0.743  0.697  0.740  0.796   \n",
       "166  2016.0  0.934  1.111  1.106  0.937  0.707  0.744  0.744  0.790  0.729   \n",
       "167  2017.0  0.739  0.845  0.873  0.737  0.659  0.641  0.651  0.714  0.557   \n",
       "168  2018.0  0.554  0.528  0.615  0.627  0.587  0.573  0.594  0.586  0.598   \n",
       "169  2019.0  0.738  0.669  0.000  0.000  0.000  0.000  0.000  0.000  0.000   \n",
       "\n",
       "       Oct    Nov    Dec  Annual  \n",
       "165  0.845  0.840  1.024   0.763  \n",
       "166  0.598  0.553  0.620   0.797  \n",
       "167  0.571  0.554  0.600   0.677  \n",
       "168  0.684  0.591  0.604   0.595  \n",
       "169  0.000  0.000  0.000   0.705  "
      ]
     },
     "execution_count": 17,
     "metadata": {},
     "output_type": "execute_result"
    }
   ],
   "source": [
    "had = pandas.read_csv(\"https://crudata.uea.ac.uk/cru/data/temperature/HadCRUT4-gl.dat\", header=None)\n",
    "donnees = pandas.DataFrame(\n",
    "    [list(map(lambda v: float(v), filter(lambda v: v!= \"\", h.split(\" \")))) for h in had[0][::2]],\n",
    "    columns = [\"Year\", \"Jan\", \"Feb\", \"Mar\", \"Apr\", \"May\", \"Jun\", \"Jul\", \"Aug\", \"Sep\", \"Oct\", \"Nov\", \"Dec\", \"Annual\"]\n",
    ")\n",
    "donnees.tail()"
   ]
  },
  {
   "cell_type": "markdown",
   "metadata": {},
   "source": [
    "Vous devez donc réaliser les étapes suivantes :\n",
    "\n",
    "- Décrire rapidement les données\n",
    "- Réaliser une ACP centrée ou normée (choix à justifier), sur les données mensuelles\n",
    "- Ajouter la moyenne annuelle en variable supplémentaire\n",
    "- Produire les graphiques nécessaires à l’interprétation\n",
    "- Identifier des années particulières\n",
    "    - Refaire l’ACP en les indiquant comme individus supplémentaires\n",
    "    - Comparer les résultats pour voir s’il est opportun ou non de les garder dans l’analyse\n",
    "- Que peut-on dire globalement ?\n"
   ]
  },
  {
   "cell_type": "markdown",
   "metadata": {},
   "source": [
    "### DBSCAN\n",
    "\n",
    "La banque mondiale fournit un grand nombre de données, dont des indicateurs de gouvernance au niveau mondial (voir [ici](https://data.worldbank.org/data-catalog/worldwide-governance-indicators)). Le code ci-dessous importe les données du fichier [WGI_Data.csv](https://fxjollois.github.io/cours-2017-2018/analyse-donnees/WGI_Data.csv) (que vous devez donc télécharger) pour les importer. Les informations concernant la définition des indicateurs et leur source se trouvent dans le fichier [WGI_Definition and Source.csv](https://fxjollois.github.io/cours-2017-2018/analyse-donnees/WGI_Definition%20and%20Source.csv)."
   ]
  },
  {
   "cell_type": "code",
   "execution_count": 18,
   "metadata": {},
   "outputs": [
    {
     "data": {
      "text/html": [
       "<div>\n",
       "<style scoped>\n",
       "    .dataframe tbody tr th:only-of-type {\n",
       "        vertical-align: middle;\n",
       "    }\n",
       "\n",
       "    .dataframe tbody tr th {\n",
       "        vertical-align: top;\n",
       "    }\n",
       "\n",
       "    .dataframe thead th {\n",
       "        text-align: right;\n",
       "    }\n",
       "</style>\n",
       "<table border=\"1\" class=\"dataframe\">\n",
       "  <thead>\n",
       "    <tr style=\"text-align: right;\">\n",
       "      <th></th>\n",
       "      <th>Country Name</th>\n",
       "      <th>Country Code</th>\n",
       "      <th>Series Name</th>\n",
       "      <th>Series Code</th>\n",
       "      <th>Value</th>\n",
       "    </tr>\n",
       "  </thead>\n",
       "  <tbody>\n",
       "    <tr>\n",
       "      <th>0</th>\n",
       "      <td>Afghanistan</td>\n",
       "      <td>AFG</td>\n",
       "      <td>Control of Corruption: Estimate</td>\n",
       "      <td>CC.EST</td>\n",
       "      <td>-1.56373512744904</td>\n",
       "    </tr>\n",
       "    <tr>\n",
       "      <th>1</th>\n",
       "      <td>Afghanistan</td>\n",
       "      <td>AFG</td>\n",
       "      <td>Government Effectiveness: Estimate</td>\n",
       "      <td>GE.EST</td>\n",
       "      <td>-1.2221063375473</td>\n",
       "    </tr>\n",
       "    <tr>\n",
       "      <th>2</th>\n",
       "      <td>Afghanistan</td>\n",
       "      <td>AFG</td>\n",
       "      <td>Political Stability and Absence of Violence/Te...</td>\n",
       "      <td>PV.EST</td>\n",
       "      <td>-2.74916744232178</td>\n",
       "    </tr>\n",
       "    <tr>\n",
       "      <th>3</th>\n",
       "      <td>Afghanistan</td>\n",
       "      <td>AFG</td>\n",
       "      <td>Regulatory Quality: Estimate</td>\n",
       "      <td>RQ.EST</td>\n",
       "      <td>-1.32791936397552</td>\n",
       "    </tr>\n",
       "    <tr>\n",
       "      <th>4</th>\n",
       "      <td>Afghanistan</td>\n",
       "      <td>AFG</td>\n",
       "      <td>Rule of Law: Estimate</td>\n",
       "      <td>RL.EST</td>\n",
       "      <td>-1.61642956733704</td>\n",
       "    </tr>\n",
       "  </tbody>\n",
       "</table>\n",
       "</div>"
      ],
      "text/plain": [
       "  Country Name Country Code  \\\n",
       "0  Afghanistan          AFG   \n",
       "1  Afghanistan          AFG   \n",
       "2  Afghanistan          AFG   \n",
       "3  Afghanistan          AFG   \n",
       "4  Afghanistan          AFG   \n",
       "\n",
       "                                         Series Name Series Code  \\\n",
       "0                    Control of Corruption: Estimate      CC.EST   \n",
       "1                 Government Effectiveness: Estimate      GE.EST   \n",
       "2  Political Stability and Absence of Violence/Te...      PV.EST   \n",
       "3                       Regulatory Quality: Estimate      RQ.EST   \n",
       "4                              Rule of Law: Estimate      RL.EST   \n",
       "\n",
       "               Value  \n",
       "0  -1.56373512744904  \n",
       "1   -1.2221063375473  \n",
       "2  -2.74916744232178  \n",
       "3  -1.32791936397552  \n",
       "4  -1.61642956733704  "
      ]
     },
     "execution_count": 18,
     "metadata": {},
     "output_type": "execute_result"
    }
   ],
   "source": [
    "wgi_one = pandas.read_csv(\"WGI_Data.csv\")\n",
    "wgi_one.head()"
   ]
  },
  {
   "cell_type": "code",
   "execution_count": 19,
   "metadata": {},
   "outputs": [
    {
     "data": {
      "text/html": [
       "<div>\n",
       "<style scoped>\n",
       "    .dataframe tbody tr th:only-of-type {\n",
       "        vertical-align: middle;\n",
       "    }\n",
       "\n",
       "    .dataframe tbody tr th {\n",
       "        vertical-align: top;\n",
       "    }\n",
       "\n",
       "    .dataframe thead th {\n",
       "        text-align: right;\n",
       "    }\n",
       "</style>\n",
       "<table border=\"1\" class=\"dataframe\">\n",
       "  <thead>\n",
       "    <tr style=\"text-align: right;\">\n",
       "      <th>Series Code</th>\n",
       "      <th>CC.EST</th>\n",
       "      <th>GE.EST</th>\n",
       "      <th>PV.EST</th>\n",
       "      <th>RL.EST</th>\n",
       "      <th>RQ.EST</th>\n",
       "      <th>VA.EST</th>\n",
       "    </tr>\n",
       "    <tr>\n",
       "      <th>Country Name</th>\n",
       "      <th></th>\n",
       "      <th></th>\n",
       "      <th></th>\n",
       "      <th></th>\n",
       "      <th></th>\n",
       "      <th></th>\n",
       "    </tr>\n",
       "  </thead>\n",
       "  <tbody>\n",
       "    <tr>\n",
       "      <th>Afghanistan</th>\n",
       "      <td>-1.563735</td>\n",
       "      <td>-1.222106</td>\n",
       "      <td>-2.749167</td>\n",
       "      <td>-1.616430</td>\n",
       "      <td>-1.327919</td>\n",
       "      <td>-1.086220</td>\n",
       "    </tr>\n",
       "    <tr>\n",
       "      <th>Albania</th>\n",
       "      <td>-0.397567</td>\n",
       "      <td>-0.000573</td>\n",
       "      <td>0.257720</td>\n",
       "      <td>-0.347468</td>\n",
       "      <td>0.188962</td>\n",
       "      <td>0.159191</td>\n",
       "    </tr>\n",
       "    <tr>\n",
       "      <th>Algeria</th>\n",
       "      <td>-0.691359</td>\n",
       "      <td>-0.544695</td>\n",
       "      <td>-1.139282</td>\n",
       "      <td>-0.849319</td>\n",
       "      <td>-1.171843</td>\n",
       "      <td>-0.877241</td>\n",
       "    </tr>\n",
       "    <tr>\n",
       "      <th>American Samoa</th>\n",
       "      <td>1.230341</td>\n",
       "      <td>0.531472</td>\n",
       "      <td>1.192534</td>\n",
       "      <td>1.328246</td>\n",
       "      <td>0.136647</td>\n",
       "      <td>NaN</td>\n",
       "    </tr>\n",
       "    <tr>\n",
       "      <th>Andorra</th>\n",
       "      <td>1.230341</td>\n",
       "      <td>1.860201</td>\n",
       "      <td>1.396047</td>\n",
       "      <td>1.564011</td>\n",
       "      <td>0.871409</td>\n",
       "      <td>1.197540</td>\n",
       "    </tr>\n",
       "  </tbody>\n",
       "</table>\n",
       "</div>"
      ],
      "text/plain": [
       "Series Code       CC.EST    GE.EST    PV.EST    RL.EST    RQ.EST    VA.EST\n",
       "Country Name                                                              \n",
       "Afghanistan    -1.563735 -1.222106 -2.749167 -1.616430 -1.327919 -1.086220\n",
       "Albania        -0.397567 -0.000573  0.257720 -0.347468  0.188962  0.159191\n",
       "Algeria        -0.691359 -0.544695 -1.139282 -0.849319 -1.171843 -0.877241\n",
       "American Samoa  1.230341  0.531472  1.192534  1.328246  0.136647       NaN\n",
       "Andorra         1.230341  1.860201  1.396047  1.564011  0.871409  1.197540"
      ]
     },
     "execution_count": 19,
     "metadata": {},
     "output_type": "execute_result"
    }
   ],
   "source": [
    "wgi_bis = wgi_one[[\"Country Name\", \"Series Code\", \"Value\"]][wgi_one.Value != \"..\"]\n",
    "wgi_ter = wgi_bis.astype({\"Value\": float})\n",
    "wgi = wgi_ter.pivot_table(values = \"Value\", index = \"Country Name\", columns = \"Series Code\")\n",
    "wgi.head()"
   ]
  },
  {
   "cell_type": "markdown",
   "metadata": {},
   "source": [
    "Vous devez donc réaliser les étapes suivantes :\n",
    "\n",
    "- Réaliser la classification avec DBSCAN\n",
    "- Décrire les classes ainsi obtenues pour chaque critère\n",
    "- Réaliser une ACP pour visualiser les partitions obtenues sur le premier plan factoriel\n",
    "- Comparer les partitions obtenues en utilisant différentes valeurs du paramètre `eps`"
   ]
  }
 ],
 "metadata": {
  "kernelspec": {
   "display_name": "Python 3",
   "language": "python",
   "name": "python3"
  },
  "language_info": {
   "codemirror_mode": {
    "name": "ipython",
    "version": 3
   },
   "file_extension": ".py",
   "mimetype": "text/x-python",
   "name": "python",
   "nbconvert_exporter": "python",
   "pygments_lexer": "ipython3",
   "version": "3.5.2"
  }
 },
 "nbformat": 4,
 "nbformat_minor": 2
}
